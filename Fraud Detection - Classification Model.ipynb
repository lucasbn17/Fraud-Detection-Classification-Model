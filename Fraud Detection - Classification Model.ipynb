{
 "cells": [
  {
   "cell_type": "markdown",
   "id": "d951e501",
   "metadata": {},
   "source": [
    "# Fraud Detection - Classification Model"
   ]
  },
  {
   "cell_type": "markdown",
   "id": "0ee2d8ed",
   "metadata": {},
   "source": [
    "The database that will be used to develop this challenge contains approximately 6.3 million transactions. The data contained in this database is simulated and comprises 30 days. These transactions can be of different types and were executed via mobile devices. The features contained in this database are:\n",
    "\n",
    "- step - Step: represents the total hours elapsed since the beginning of the simulation. This feature will vary between 1 and 744 (30 days);\n",
    "\n",
    "- type - Type: transaction type (deposit, withdrawal, debit, payment, and transfer);\n",
    "\n",
    "- amount - Amount: total that was transacted;\n",
    "\n",
    "- nameOrig - CustomerOrigin: the customer who initiated the transaction\n",
    "\n",
    "- oldbalanceOrg - OriginalBalanceOrigin: balance of the original account before the transaction;\n",
    "\n",
    "- newbalanceOrig - BalanceOrigin: balance of the original account after the transaction;\n",
    "\n",
    "- nameDest - ClienteDestino: target client of the transaction;\n",
    "\n",
    "- oldbalanceDest -DestinationInitialBalance: balance of the destination account before the transaction;\n",
    "\n",
    "- newbalanceDest - SaldoFinalDestino: balance of the destination account after the transaction;\n",
    "\n",
    "- isFraud - ÉFraud: flag that defines whether the transaction is fraudulent or not. In this simulation, the purpose of the fraud is to take over the user's account, empty it by transferring it to another account, and then withdraw the money.\n",
    "\n",
    "- isFlaggedFraud - FlaggedAsFraud: automatically flagged by the bank as fraud for trying to transfer more than 200,000 in a single transaction."
   ]
  },
  {
   "cell_type": "markdown",
   "id": "5ebacfca",
   "metadata": {},
   "source": [
    "It is good to run this notebook using \n",
    "jupyter notebook --NotebookApp.iopub_data_rate_limit=1.0e10 \n",
    "in Anaconda's prompt due to high memory usage."
   ]
  },
  {
   "cell_type": "code",
   "execution_count": 1,
   "id": "d813d8c4",
   "metadata": {},
   "outputs": [
    {
     "data": {
      "application/javascript": [
       "\n",
       "            setTimeout(function() {\n",
       "                var nbb_cell_id = 1;\n",
       "                var nbb_unformatted_code = \"%reload_ext nb_black\\n\\nimport pandas as pd\\nimport numpy as np\\n\\nimport matplotlib.pyplot as plt\\n\\n%matplotlib inline\\n\\nimport statsmodels.api as sm\\n\\nimport seaborn as sns\\n\\nfrom sklearn.linear_model import LogisticRegression\\nfrom sklearn.datasets import load_iris\\nfrom sklearn.model_selection import train_test_split\\nfrom sklearn.linear_model import LogisticRegression\\nfrom sklearn.metrics import (\\n    precision_score,\\n    recall_score,\\n    f1_score,\\n    accuracy_score,\\n    confusion_matrix,\\n    ConfusionMatrixDisplay,\\n    classification_report,\\n)\\nfrom sklearn.multiclass import OneVsRestClassifier\\nfrom sklearn.tree import DecisionTreeClassifier\\nfrom sklearn.preprocessing import StandardScaler\";\n",
       "                var nbb_formatted_code = \"%reload_ext nb_black\\n\\nimport pandas as pd\\nimport numpy as np\\n\\nimport matplotlib.pyplot as plt\\n\\n%matplotlib inline\\n\\nimport statsmodels.api as sm\\n\\nimport seaborn as sns\\n\\nfrom sklearn.linear_model import LogisticRegression\\nfrom sklearn.datasets import load_iris\\nfrom sklearn.model_selection import train_test_split\\nfrom sklearn.linear_model import LogisticRegression\\nfrom sklearn.metrics import (\\n    precision_score,\\n    recall_score,\\n    f1_score,\\n    accuracy_score,\\n    confusion_matrix,\\n    ConfusionMatrixDisplay,\\n    classification_report,\\n)\\nfrom sklearn.multiclass import OneVsRestClassifier\\nfrom sklearn.tree import DecisionTreeClassifier\\nfrom sklearn.preprocessing import StandardScaler\";\n",
       "                var nbb_cells = Jupyter.notebook.get_cells();\n",
       "                for (var i = 0; i < nbb_cells.length; ++i) {\n",
       "                    if (nbb_cells[i].input_prompt_number == nbb_cell_id) {\n",
       "                        if (nbb_cells[i].get_text() == nbb_unformatted_code) {\n",
       "                             nbb_cells[i].set_text(nbb_formatted_code);\n",
       "                        }\n",
       "                        break;\n",
       "                    }\n",
       "                }\n",
       "            }, 500);\n",
       "            "
      ],
      "text/plain": [
       "<IPython.core.display.Javascript object>"
      ]
     },
     "metadata": {},
     "output_type": "display_data"
    }
   ],
   "source": [
    "%reload_ext nb_black\n",
    "\n",
    "!pip install matplotlib==3.4.0\n",
    "from imblearn.over_sampling import RandomOverSampler, SMOTE, ADASYN\n",
    "\n",
    "import pandas as pd\n",
    "import numpy as np\n",
    "\n",
    "import matplotlib.pyplot as plt\n",
    "\n",
    "%matplotlib inline\n",
    "\n",
    "import statsmodels.api as sm\n",
    "\n",
    "import seaborn as sns\n",
    "\n",
    "from sklearn.linear_model import LogisticRegression\n",
    "from sklearn.datasets import load_iris\n",
    "from sklearn.model_selection import train_test_split\n",
    "from sklearn.linear_model import LogisticRegression\n",
    "from sklearn.metrics import (\n",
    "    precision_score,\n",
    "    recall_score,\n",
    "    f1_score,\n",
    "    accuracy_score,\n",
    "    confusion_matrix,\n",
    "    ConfusionMatrixDisplay,\n",
    "    classification_report,\n",
    ")\n",
    "from sklearn.multiclass import OneVsRestClassifier\n",
    "from sklearn.tree import DecisionTreeClassifier\n",
    "from sklearn.preprocessing import StandardScaler"
   ]
  },
  {
   "cell_type": "markdown",
   "id": "7c468d41",
   "metadata": {},
   "source": [
    "## Dataset General Info"
   ]
  },
  {
   "cell_type": "code",
   "execution_count": 2,
   "id": "4da8ca54",
   "metadata": {},
   "outputs": [
    {
     "data": {
      "application/javascript": [
       "\n",
       "            setTimeout(function() {\n",
       "                var nbb_cell_id = 2;\n",
       "                var nbb_unformatted_code = \"data = pd.read_csv(\\\"fraud_detection_dataset.csv\\\")\";\n",
       "                var nbb_formatted_code = \"data = pd.read_csv(\\\"fraud_detection_dataset.csv\\\")\";\n",
       "                var nbb_cells = Jupyter.notebook.get_cells();\n",
       "                for (var i = 0; i < nbb_cells.length; ++i) {\n",
       "                    if (nbb_cells[i].input_prompt_number == nbb_cell_id) {\n",
       "                        if (nbb_cells[i].get_text() == nbb_unformatted_code) {\n",
       "                             nbb_cells[i].set_text(nbb_formatted_code);\n",
       "                        }\n",
       "                        break;\n",
       "                    }\n",
       "                }\n",
       "            }, 500);\n",
       "            "
      ],
      "text/plain": [
       "<IPython.core.display.Javascript object>"
      ]
     },
     "metadata": {},
     "output_type": "display_data"
    }
   ],
   "source": [
    "data = pd.read_csv(\"fraud_detection_dataset.csv\")"
   ]
  },
  {
   "cell_type": "code",
   "execution_count": 3,
   "id": "9fcb59f3",
   "metadata": {},
   "outputs": [
    {
     "data": {
      "text/html": [
       "<div>\n",
       "<style scoped>\n",
       "    .dataframe tbody tr th:only-of-type {\n",
       "        vertical-align: middle;\n",
       "    }\n",
       "\n",
       "    .dataframe tbody tr th {\n",
       "        vertical-align: top;\n",
       "    }\n",
       "\n",
       "    .dataframe thead th {\n",
       "        text-align: right;\n",
       "    }\n",
       "</style>\n",
       "<table border=\"1\" class=\"dataframe\">\n",
       "  <thead>\n",
       "    <tr style=\"text-align: right;\">\n",
       "      <th></th>\n",
       "      <th>step</th>\n",
       "      <th>type</th>\n",
       "      <th>amount</th>\n",
       "      <th>nameOrig</th>\n",
       "      <th>oldbalanceOrg</th>\n",
       "      <th>newbalanceOrig</th>\n",
       "      <th>nameDest</th>\n",
       "      <th>oldbalanceDest</th>\n",
       "      <th>newbalanceDest</th>\n",
       "      <th>isFraud</th>\n",
       "      <th>isFlaggedFraud</th>\n",
       "    </tr>\n",
       "  </thead>\n",
       "  <tbody>\n",
       "    <tr>\n",
       "      <th>0</th>\n",
       "      <td>1</td>\n",
       "      <td>PAYMENT</td>\n",
       "      <td>9839.64</td>\n",
       "      <td>C1231006815</td>\n",
       "      <td>170136.0</td>\n",
       "      <td>160296.36</td>\n",
       "      <td>M1979787155</td>\n",
       "      <td>0.0</td>\n",
       "      <td>0.0</td>\n",
       "      <td>0</td>\n",
       "      <td>0</td>\n",
       "    </tr>\n",
       "    <tr>\n",
       "      <th>1</th>\n",
       "      <td>1</td>\n",
       "      <td>PAYMENT</td>\n",
       "      <td>1864.28</td>\n",
       "      <td>C1666544295</td>\n",
       "      <td>21249.0</td>\n",
       "      <td>19384.72</td>\n",
       "      <td>M2044282225</td>\n",
       "      <td>0.0</td>\n",
       "      <td>0.0</td>\n",
       "      <td>0</td>\n",
       "      <td>0</td>\n",
       "    </tr>\n",
       "    <tr>\n",
       "      <th>2</th>\n",
       "      <td>1</td>\n",
       "      <td>TRANSFER</td>\n",
       "      <td>181.00</td>\n",
       "      <td>C1305486145</td>\n",
       "      <td>181.0</td>\n",
       "      <td>0.00</td>\n",
       "      <td>C553264065</td>\n",
       "      <td>0.0</td>\n",
       "      <td>0.0</td>\n",
       "      <td>1</td>\n",
       "      <td>0</td>\n",
       "    </tr>\n",
       "    <tr>\n",
       "      <th>3</th>\n",
       "      <td>1</td>\n",
       "      <td>CASH_OUT</td>\n",
       "      <td>181.00</td>\n",
       "      <td>C840083671</td>\n",
       "      <td>181.0</td>\n",
       "      <td>0.00</td>\n",
       "      <td>C38997010</td>\n",
       "      <td>21182.0</td>\n",
       "      <td>0.0</td>\n",
       "      <td>1</td>\n",
       "      <td>0</td>\n",
       "    </tr>\n",
       "    <tr>\n",
       "      <th>4</th>\n",
       "      <td>1</td>\n",
       "      <td>PAYMENT</td>\n",
       "      <td>11668.14</td>\n",
       "      <td>C2048537720</td>\n",
       "      <td>41554.0</td>\n",
       "      <td>29885.86</td>\n",
       "      <td>M1230701703</td>\n",
       "      <td>0.0</td>\n",
       "      <td>0.0</td>\n",
       "      <td>0</td>\n",
       "      <td>0</td>\n",
       "    </tr>\n",
       "  </tbody>\n",
       "</table>\n",
       "</div>"
      ],
      "text/plain": [
       "   step      type    amount     nameOrig  oldbalanceOrg  newbalanceOrig  \\\n",
       "0     1   PAYMENT   9839.64  C1231006815       170136.0       160296.36   \n",
       "1     1   PAYMENT   1864.28  C1666544295        21249.0        19384.72   \n",
       "2     1  TRANSFER    181.00  C1305486145          181.0            0.00   \n",
       "3     1  CASH_OUT    181.00   C840083671          181.0            0.00   \n",
       "4     1   PAYMENT  11668.14  C2048537720        41554.0        29885.86   \n",
       "\n",
       "      nameDest  oldbalanceDest  newbalanceDest  isFraud  isFlaggedFraud  \n",
       "0  M1979787155             0.0             0.0        0               0  \n",
       "1  M2044282225             0.0             0.0        0               0  \n",
       "2   C553264065             0.0             0.0        1               0  \n",
       "3    C38997010         21182.0             0.0        1               0  \n",
       "4  M1230701703             0.0             0.0        0               0  "
      ]
     },
     "execution_count": 3,
     "metadata": {},
     "output_type": "execute_result"
    },
    {
     "data": {
      "application/javascript": [
       "\n",
       "            setTimeout(function() {\n",
       "                var nbb_cell_id = 3;\n",
       "                var nbb_unformatted_code = \"pd.set_option(\\\"display.max_columns\\\", None)\\ndata.head()\";\n",
       "                var nbb_formatted_code = \"pd.set_option(\\\"display.max_columns\\\", None)\\ndata.head()\";\n",
       "                var nbb_cells = Jupyter.notebook.get_cells();\n",
       "                for (var i = 0; i < nbb_cells.length; ++i) {\n",
       "                    if (nbb_cells[i].input_prompt_number == nbb_cell_id) {\n",
       "                        if (nbb_cells[i].get_text() == nbb_unformatted_code) {\n",
       "                             nbb_cells[i].set_text(nbb_formatted_code);\n",
       "                        }\n",
       "                        break;\n",
       "                    }\n",
       "                }\n",
       "            }, 500);\n",
       "            "
      ],
      "text/plain": [
       "<IPython.core.display.Javascript object>"
      ]
     },
     "metadata": {},
     "output_type": "display_data"
    }
   ],
   "source": [
    "pd.set_option(\"display.max_columns\", None)\n",
    "data.head()"
   ]
  },
  {
   "cell_type": "code",
   "execution_count": 4,
   "id": "6f6185bf",
   "metadata": {},
   "outputs": [
    {
     "data": {
      "text/html": [
       "<div>\n",
       "<style scoped>\n",
       "    .dataframe tbody tr th:only-of-type {\n",
       "        vertical-align: middle;\n",
       "    }\n",
       "\n",
       "    .dataframe tbody tr th {\n",
       "        vertical-align: top;\n",
       "    }\n",
       "\n",
       "    .dataframe thead th {\n",
       "        text-align: right;\n",
       "    }\n",
       "</style>\n",
       "<table border=\"1\" class=\"dataframe\">\n",
       "  <thead>\n",
       "    <tr style=\"text-align: right;\">\n",
       "      <th></th>\n",
       "      <th>step</th>\n",
       "      <th>type</th>\n",
       "      <th>amount</th>\n",
       "      <th>nameOrig</th>\n",
       "      <th>oldbalanceOrg</th>\n",
       "      <th>newbalanceOrig</th>\n",
       "      <th>nameDest</th>\n",
       "      <th>oldbalanceDest</th>\n",
       "      <th>newbalanceDest</th>\n",
       "      <th>isFraud</th>\n",
       "      <th>isFlaggedFraud</th>\n",
       "    </tr>\n",
       "  </thead>\n",
       "  <tbody>\n",
       "    <tr>\n",
       "      <th>6362615</th>\n",
       "      <td>743</td>\n",
       "      <td>CASH_OUT</td>\n",
       "      <td>339682.13</td>\n",
       "      <td>C786484425</td>\n",
       "      <td>339682.13</td>\n",
       "      <td>0.0</td>\n",
       "      <td>C776919290</td>\n",
       "      <td>0.00</td>\n",
       "      <td>339682.13</td>\n",
       "      <td>1</td>\n",
       "      <td>0</td>\n",
       "    </tr>\n",
       "    <tr>\n",
       "      <th>6362616</th>\n",
       "      <td>743</td>\n",
       "      <td>TRANSFER</td>\n",
       "      <td>6311409.28</td>\n",
       "      <td>C1529008245</td>\n",
       "      <td>6311409.28</td>\n",
       "      <td>0.0</td>\n",
       "      <td>C1881841831</td>\n",
       "      <td>0.00</td>\n",
       "      <td>0.00</td>\n",
       "      <td>1</td>\n",
       "      <td>0</td>\n",
       "    </tr>\n",
       "    <tr>\n",
       "      <th>6362617</th>\n",
       "      <td>743</td>\n",
       "      <td>CASH_OUT</td>\n",
       "      <td>6311409.28</td>\n",
       "      <td>C1162922333</td>\n",
       "      <td>6311409.28</td>\n",
       "      <td>0.0</td>\n",
       "      <td>C1365125890</td>\n",
       "      <td>68488.84</td>\n",
       "      <td>6379898.11</td>\n",
       "      <td>1</td>\n",
       "      <td>0</td>\n",
       "    </tr>\n",
       "    <tr>\n",
       "      <th>6362618</th>\n",
       "      <td>743</td>\n",
       "      <td>TRANSFER</td>\n",
       "      <td>850002.52</td>\n",
       "      <td>C1685995037</td>\n",
       "      <td>850002.52</td>\n",
       "      <td>0.0</td>\n",
       "      <td>C2080388513</td>\n",
       "      <td>0.00</td>\n",
       "      <td>0.00</td>\n",
       "      <td>1</td>\n",
       "      <td>0</td>\n",
       "    </tr>\n",
       "    <tr>\n",
       "      <th>6362619</th>\n",
       "      <td>743</td>\n",
       "      <td>CASH_OUT</td>\n",
       "      <td>850002.52</td>\n",
       "      <td>C1280323807</td>\n",
       "      <td>850002.52</td>\n",
       "      <td>0.0</td>\n",
       "      <td>C873221189</td>\n",
       "      <td>6510099.11</td>\n",
       "      <td>7360101.63</td>\n",
       "      <td>1</td>\n",
       "      <td>0</td>\n",
       "    </tr>\n",
       "  </tbody>\n",
       "</table>\n",
       "</div>"
      ],
      "text/plain": [
       "         step      type      amount     nameOrig  oldbalanceOrg  \\\n",
       "6362615   743  CASH_OUT   339682.13   C786484425      339682.13   \n",
       "6362616   743  TRANSFER  6311409.28  C1529008245     6311409.28   \n",
       "6362617   743  CASH_OUT  6311409.28  C1162922333     6311409.28   \n",
       "6362618   743  TRANSFER   850002.52  C1685995037      850002.52   \n",
       "6362619   743  CASH_OUT   850002.52  C1280323807      850002.52   \n",
       "\n",
       "         newbalanceOrig     nameDest  oldbalanceDest  newbalanceDest  isFraud  \\\n",
       "6362615             0.0   C776919290            0.00       339682.13        1   \n",
       "6362616             0.0  C1881841831            0.00            0.00        1   \n",
       "6362617             0.0  C1365125890        68488.84      6379898.11        1   \n",
       "6362618             0.0  C2080388513            0.00            0.00        1   \n",
       "6362619             0.0   C873221189      6510099.11      7360101.63        1   \n",
       "\n",
       "         isFlaggedFraud  \n",
       "6362615               0  \n",
       "6362616               0  \n",
       "6362617               0  \n",
       "6362618               0  \n",
       "6362619               0  "
      ]
     },
     "execution_count": 4,
     "metadata": {},
     "output_type": "execute_result"
    },
    {
     "data": {
      "application/javascript": [
       "\n",
       "            setTimeout(function() {\n",
       "                var nbb_cell_id = 4;\n",
       "                var nbb_unformatted_code = \"data.tail()\";\n",
       "                var nbb_formatted_code = \"data.tail()\";\n",
       "                var nbb_cells = Jupyter.notebook.get_cells();\n",
       "                for (var i = 0; i < nbb_cells.length; ++i) {\n",
       "                    if (nbb_cells[i].input_prompt_number == nbb_cell_id) {\n",
       "                        if (nbb_cells[i].get_text() == nbb_unformatted_code) {\n",
       "                             nbb_cells[i].set_text(nbb_formatted_code);\n",
       "                        }\n",
       "                        break;\n",
       "                    }\n",
       "                }\n",
       "            }, 500);\n",
       "            "
      ],
      "text/plain": [
       "<IPython.core.display.Javascript object>"
      ]
     },
     "metadata": {},
     "output_type": "display_data"
    }
   ],
   "source": [
    "data.tail()"
   ]
  },
  {
   "cell_type": "code",
   "execution_count": 5,
   "id": "00c86331",
   "metadata": {},
   "outputs": [
    {
     "name": "stdout",
     "output_type": "stream",
     "text": [
      "<class 'pandas.core.frame.DataFrame'>\n",
      "RangeIndex: 6362620 entries, 0 to 6362619\n",
      "Data columns (total 11 columns):\n",
      " #   Column          Dtype  \n",
      "---  ------          -----  \n",
      " 0   step            int64  \n",
      " 1   type            object \n",
      " 2   amount          float64\n",
      " 3   nameOrig        object \n",
      " 4   oldbalanceOrg   float64\n",
      " 5   newbalanceOrig  float64\n",
      " 6   nameDest        object \n",
      " 7   oldbalanceDest  float64\n",
      " 8   newbalanceDest  float64\n",
      " 9   isFraud         int64  \n",
      " 10  isFlaggedFraud  int64  \n",
      "dtypes: float64(5), int64(3), object(3)\n",
      "memory usage: 534.0+ MB\n"
     ]
    },
    {
     "data": {
      "application/javascript": [
       "\n",
       "            setTimeout(function() {\n",
       "                var nbb_cell_id = 5;\n",
       "                var nbb_unformatted_code = \"data.info()\";\n",
       "                var nbb_formatted_code = \"data.info()\";\n",
       "                var nbb_cells = Jupyter.notebook.get_cells();\n",
       "                for (var i = 0; i < nbb_cells.length; ++i) {\n",
       "                    if (nbb_cells[i].input_prompt_number == nbb_cell_id) {\n",
       "                        if (nbb_cells[i].get_text() == nbb_unformatted_code) {\n",
       "                             nbb_cells[i].set_text(nbb_formatted_code);\n",
       "                        }\n",
       "                        break;\n",
       "                    }\n",
       "                }\n",
       "            }, 500);\n",
       "            "
      ],
      "text/plain": [
       "<IPython.core.display.Javascript object>"
      ]
     },
     "metadata": {},
     "output_type": "display_data"
    }
   ],
   "source": [
    "data.info()"
   ]
  },
  {
   "cell_type": "code",
   "execution_count": 6,
   "id": "d5f84667",
   "metadata": {},
   "outputs": [
    {
     "data": {
      "application/javascript": [
       "\n",
       "            setTimeout(function() {\n",
       "                var nbb_cell_id = 6;\n",
       "                var nbb_unformatted_code = \"data.type = data.type.astype(\\\"category\\\")\\ndata.nameOrig = data.nameOrig.astype(\\\"category\\\")\\ndata.nameDest = data.nameDest.astype(\\\"category\\\")\";\n",
       "                var nbb_formatted_code = \"data.type = data.type.astype(\\\"category\\\")\\ndata.nameOrig = data.nameOrig.astype(\\\"category\\\")\\ndata.nameDest = data.nameDest.astype(\\\"category\\\")\";\n",
       "                var nbb_cells = Jupyter.notebook.get_cells();\n",
       "                for (var i = 0; i < nbb_cells.length; ++i) {\n",
       "                    if (nbb_cells[i].input_prompt_number == nbb_cell_id) {\n",
       "                        if (nbb_cells[i].get_text() == nbb_unformatted_code) {\n",
       "                             nbb_cells[i].set_text(nbb_formatted_code);\n",
       "                        }\n",
       "                        break;\n",
       "                    }\n",
       "                }\n",
       "            }, 500);\n",
       "            "
      ],
      "text/plain": [
       "<IPython.core.display.Javascript object>"
      ]
     },
     "metadata": {},
     "output_type": "display_data"
    }
   ],
   "source": [
    "data.type = data.type.astype(\"category\")\n",
    "data.nameOrig = data.nameOrig.astype(\"category\")\n",
    "data.nameDest = data.nameDest.astype(\"category\")"
   ]
  },
  {
   "cell_type": "code",
   "execution_count": 7,
   "id": "55d0c395",
   "metadata": {},
   "outputs": [
    {
     "data": {
      "text/html": [
       "<div>\n",
       "<style scoped>\n",
       "    .dataframe tbody tr th:only-of-type {\n",
       "        vertical-align: middle;\n",
       "    }\n",
       "\n",
       "    .dataframe tbody tr th {\n",
       "        vertical-align: top;\n",
       "    }\n",
       "\n",
       "    .dataframe thead th {\n",
       "        text-align: right;\n",
       "    }\n",
       "</style>\n",
       "<table border=\"1\" class=\"dataframe\">\n",
       "  <thead>\n",
       "    <tr style=\"text-align: right;\">\n",
       "      <th></th>\n",
       "      <th>step</th>\n",
       "      <th>amount</th>\n",
       "      <th>oldbalanceOrg</th>\n",
       "      <th>newbalanceOrig</th>\n",
       "      <th>oldbalanceDest</th>\n",
       "      <th>newbalanceDest</th>\n",
       "      <th>isFraud</th>\n",
       "      <th>isFlaggedFraud</th>\n",
       "    </tr>\n",
       "  </thead>\n",
       "  <tbody>\n",
       "    <tr>\n",
       "      <th>count</th>\n",
       "      <td>6.362620e+06</td>\n",
       "      <td>6.362620e+06</td>\n",
       "      <td>6.362620e+06</td>\n",
       "      <td>6.362620e+06</td>\n",
       "      <td>6.362620e+06</td>\n",
       "      <td>6.362620e+06</td>\n",
       "      <td>6.362620e+06</td>\n",
       "      <td>6.362620e+06</td>\n",
       "    </tr>\n",
       "    <tr>\n",
       "      <th>mean</th>\n",
       "      <td>2.433972e+02</td>\n",
       "      <td>1.798619e+05</td>\n",
       "      <td>8.338831e+05</td>\n",
       "      <td>8.551137e+05</td>\n",
       "      <td>1.100702e+06</td>\n",
       "      <td>1.224996e+06</td>\n",
       "      <td>1.290820e-03</td>\n",
       "      <td>2.514687e-06</td>\n",
       "    </tr>\n",
       "    <tr>\n",
       "      <th>std</th>\n",
       "      <td>1.423320e+02</td>\n",
       "      <td>6.038582e+05</td>\n",
       "      <td>2.888243e+06</td>\n",
       "      <td>2.924049e+06</td>\n",
       "      <td>3.399180e+06</td>\n",
       "      <td>3.674129e+06</td>\n",
       "      <td>3.590480e-02</td>\n",
       "      <td>1.585775e-03</td>\n",
       "    </tr>\n",
       "    <tr>\n",
       "      <th>min</th>\n",
       "      <td>1.000000e+00</td>\n",
       "      <td>0.000000e+00</td>\n",
       "      <td>0.000000e+00</td>\n",
       "      <td>0.000000e+00</td>\n",
       "      <td>0.000000e+00</td>\n",
       "      <td>0.000000e+00</td>\n",
       "      <td>0.000000e+00</td>\n",
       "      <td>0.000000e+00</td>\n",
       "    </tr>\n",
       "    <tr>\n",
       "      <th>25%</th>\n",
       "      <td>1.560000e+02</td>\n",
       "      <td>1.338957e+04</td>\n",
       "      <td>0.000000e+00</td>\n",
       "      <td>0.000000e+00</td>\n",
       "      <td>0.000000e+00</td>\n",
       "      <td>0.000000e+00</td>\n",
       "      <td>0.000000e+00</td>\n",
       "      <td>0.000000e+00</td>\n",
       "    </tr>\n",
       "    <tr>\n",
       "      <th>50%</th>\n",
       "      <td>2.390000e+02</td>\n",
       "      <td>7.487194e+04</td>\n",
       "      <td>1.420800e+04</td>\n",
       "      <td>0.000000e+00</td>\n",
       "      <td>1.327057e+05</td>\n",
       "      <td>2.146614e+05</td>\n",
       "      <td>0.000000e+00</td>\n",
       "      <td>0.000000e+00</td>\n",
       "    </tr>\n",
       "    <tr>\n",
       "      <th>75%</th>\n",
       "      <td>3.350000e+02</td>\n",
       "      <td>2.087215e+05</td>\n",
       "      <td>1.073152e+05</td>\n",
       "      <td>1.442584e+05</td>\n",
       "      <td>9.430367e+05</td>\n",
       "      <td>1.111909e+06</td>\n",
       "      <td>0.000000e+00</td>\n",
       "      <td>0.000000e+00</td>\n",
       "    </tr>\n",
       "    <tr>\n",
       "      <th>max</th>\n",
       "      <td>7.430000e+02</td>\n",
       "      <td>9.244552e+07</td>\n",
       "      <td>5.958504e+07</td>\n",
       "      <td>4.958504e+07</td>\n",
       "      <td>3.560159e+08</td>\n",
       "      <td>3.561793e+08</td>\n",
       "      <td>1.000000e+00</td>\n",
       "      <td>1.000000e+00</td>\n",
       "    </tr>\n",
       "  </tbody>\n",
       "</table>\n",
       "</div>"
      ],
      "text/plain": [
       "               step        amount  oldbalanceOrg  newbalanceOrig  \\\n",
       "count  6.362620e+06  6.362620e+06   6.362620e+06    6.362620e+06   \n",
       "mean   2.433972e+02  1.798619e+05   8.338831e+05    8.551137e+05   \n",
       "std    1.423320e+02  6.038582e+05   2.888243e+06    2.924049e+06   \n",
       "min    1.000000e+00  0.000000e+00   0.000000e+00    0.000000e+00   \n",
       "25%    1.560000e+02  1.338957e+04   0.000000e+00    0.000000e+00   \n",
       "50%    2.390000e+02  7.487194e+04   1.420800e+04    0.000000e+00   \n",
       "75%    3.350000e+02  2.087215e+05   1.073152e+05    1.442584e+05   \n",
       "max    7.430000e+02  9.244552e+07   5.958504e+07    4.958504e+07   \n",
       "\n",
       "       oldbalanceDest  newbalanceDest       isFraud  isFlaggedFraud  \n",
       "count    6.362620e+06    6.362620e+06  6.362620e+06    6.362620e+06  \n",
       "mean     1.100702e+06    1.224996e+06  1.290820e-03    2.514687e-06  \n",
       "std      3.399180e+06    3.674129e+06  3.590480e-02    1.585775e-03  \n",
       "min      0.000000e+00    0.000000e+00  0.000000e+00    0.000000e+00  \n",
       "25%      0.000000e+00    0.000000e+00  0.000000e+00    0.000000e+00  \n",
       "50%      1.327057e+05    2.146614e+05  0.000000e+00    0.000000e+00  \n",
       "75%      9.430367e+05    1.111909e+06  0.000000e+00    0.000000e+00  \n",
       "max      3.560159e+08    3.561793e+08  1.000000e+00    1.000000e+00  "
      ]
     },
     "execution_count": 7,
     "metadata": {},
     "output_type": "execute_result"
    },
    {
     "data": {
      "application/javascript": [
       "\n",
       "            setTimeout(function() {\n",
       "                var nbb_cell_id = 7;\n",
       "                var nbb_unformatted_code = \"data.describe()\";\n",
       "                var nbb_formatted_code = \"data.describe()\";\n",
       "                var nbb_cells = Jupyter.notebook.get_cells();\n",
       "                for (var i = 0; i < nbb_cells.length; ++i) {\n",
       "                    if (nbb_cells[i].input_prompt_number == nbb_cell_id) {\n",
       "                        if (nbb_cells[i].get_text() == nbb_unformatted_code) {\n",
       "                             nbb_cells[i].set_text(nbb_formatted_code);\n",
       "                        }\n",
       "                        break;\n",
       "                    }\n",
       "                }\n",
       "            }, 500);\n",
       "            "
      ],
      "text/plain": [
       "<IPython.core.display.Javascript object>"
      ]
     },
     "metadata": {},
     "output_type": "display_data"
    }
   ],
   "source": [
    "data.describe()"
   ]
  },
  {
   "cell_type": "code",
   "execution_count": 8,
   "id": "3fbf032f",
   "metadata": {},
   "outputs": [
    {
     "data": {
      "text/plain": [
       "['M1979787155', 'M2044282225', 'C553264065', 'C38997010', 'M1230701703', ..., 'C1812552860', 'C1470998563', 'C1850423904', 'C1881841831', 'C2080388513']\n",
       "Length: 2722362\n",
       "Categories (2722362, object): ['C1000004082', 'C1000004940', 'C1000013769', 'C100001587', ..., 'M99999900', 'M999999089', 'M999999543', 'M999999784']"
      ]
     },
     "execution_count": 8,
     "metadata": {},
     "output_type": "execute_result"
    },
    {
     "data": {
      "application/javascript": [
       "\n",
       "            setTimeout(function() {\n",
       "                var nbb_cell_id = 8;\n",
       "                var nbb_unformatted_code = \"data[\\\"nameDest\\\"].unique()\";\n",
       "                var nbb_formatted_code = \"data[\\\"nameDest\\\"].unique()\";\n",
       "                var nbb_cells = Jupyter.notebook.get_cells();\n",
       "                for (var i = 0; i < nbb_cells.length; ++i) {\n",
       "                    if (nbb_cells[i].input_prompt_number == nbb_cell_id) {\n",
       "                        if (nbb_cells[i].get_text() == nbb_unformatted_code) {\n",
       "                             nbb_cells[i].set_text(nbb_formatted_code);\n",
       "                        }\n",
       "                        break;\n",
       "                    }\n",
       "                }\n",
       "            }, 500);\n",
       "            "
      ],
      "text/plain": [
       "<IPython.core.display.Javascript object>"
      ]
     },
     "metadata": {},
     "output_type": "display_data"
    }
   ],
   "source": [
    "data[\"nameDest\"].unique()"
   ]
  },
  {
   "cell_type": "code",
   "execution_count": 9,
   "id": "7247c3d3",
   "metadata": {},
   "outputs": [
    {
     "data": {
      "text/plain": [
       "0    6354407\n",
       "1       8213\n",
       "Name: isFraud, dtype: int64"
      ]
     },
     "execution_count": 9,
     "metadata": {},
     "output_type": "execute_result"
    },
    {
     "data": {
      "application/javascript": [
       "\n",
       "            setTimeout(function() {\n",
       "                var nbb_cell_id = 9;\n",
       "                var nbb_unformatted_code = \"# Quantity of detected frauds\\ndata[\\\"isFraud\\\"].value_counts()\";\n",
       "                var nbb_formatted_code = \"# Quantity of detected frauds\\ndata[\\\"isFraud\\\"].value_counts()\";\n",
       "                var nbb_cells = Jupyter.notebook.get_cells();\n",
       "                for (var i = 0; i < nbb_cells.length; ++i) {\n",
       "                    if (nbb_cells[i].input_prompt_number == nbb_cell_id) {\n",
       "                        if (nbb_cells[i].get_text() == nbb_unformatted_code) {\n",
       "                             nbb_cells[i].set_text(nbb_formatted_code);\n",
       "                        }\n",
       "                        break;\n",
       "                    }\n",
       "                }\n",
       "            }, 500);\n",
       "            "
      ],
      "text/plain": [
       "<IPython.core.display.Javascript object>"
      ]
     },
     "metadata": {},
     "output_type": "display_data"
    }
   ],
   "source": [
    "# Quantity of detected frauds\n",
    "data[\"isFraud\"].value_counts()"
   ]
  },
  {
   "cell_type": "code",
   "execution_count": 10,
   "id": "a8dc1772",
   "metadata": {},
   "outputs": [
    {
     "data": {
      "text/plain": [
       "0    6362604\n",
       "1         16\n",
       "Name: isFlaggedFraud, dtype: int64"
      ]
     },
     "execution_count": 10,
     "metadata": {},
     "output_type": "execute_result"
    },
    {
     "data": {
      "application/javascript": [
       "\n",
       "            setTimeout(function() {\n",
       "                var nbb_cell_id = 10;\n",
       "                var nbb_unformatted_code = \"# Quantity of flagged frauds\\ndata[\\\"isFlaggedFraud\\\"].value_counts()\";\n",
       "                var nbb_formatted_code = \"# Quantity of flagged frauds\\ndata[\\\"isFlaggedFraud\\\"].value_counts()\";\n",
       "                var nbb_cells = Jupyter.notebook.get_cells();\n",
       "                for (var i = 0; i < nbb_cells.length; ++i) {\n",
       "                    if (nbb_cells[i].input_prompt_number == nbb_cell_id) {\n",
       "                        if (nbb_cells[i].get_text() == nbb_unformatted_code) {\n",
       "                             nbb_cells[i].set_text(nbb_formatted_code);\n",
       "                        }\n",
       "                        break;\n",
       "                    }\n",
       "                }\n",
       "            }, 500);\n",
       "            "
      ],
      "text/plain": [
       "<IPython.core.display.Javascript object>"
      ]
     },
     "metadata": {},
     "output_type": "display_data"
    }
   ],
   "source": [
    "# Quantity of flagged frauds\n",
    "data[\"isFlaggedFraud\"].value_counts()"
   ]
  },
  {
   "cell_type": "code",
   "execution_count": 11,
   "id": "89c7b2eb",
   "metadata": {},
   "outputs": [
    {
     "data": {
      "text/plain": [
       "step              0\n",
       "type              0\n",
       "amount            0\n",
       "nameOrig          0\n",
       "oldbalanceOrg     0\n",
       "newbalanceOrig    0\n",
       "nameDest          0\n",
       "oldbalanceDest    0\n",
       "newbalanceDest    0\n",
       "isFraud           0\n",
       "isFlaggedFraud    0\n",
       "dtype: int64"
      ]
     },
     "execution_count": 11,
     "metadata": {},
     "output_type": "execute_result"
    },
    {
     "data": {
      "application/javascript": [
       "\n",
       "            setTimeout(function() {\n",
       "                var nbb_cell_id = 11;\n",
       "                var nbb_unformatted_code = \"# No null cells were found\\ndata.isnull().sum()\";\n",
       "                var nbb_formatted_code = \"# No null cells were found\\ndata.isnull().sum()\";\n",
       "                var nbb_cells = Jupyter.notebook.get_cells();\n",
       "                for (var i = 0; i < nbb_cells.length; ++i) {\n",
       "                    if (nbb_cells[i].input_prompt_number == nbb_cell_id) {\n",
       "                        if (nbb_cells[i].get_text() == nbb_unformatted_code) {\n",
       "                             nbb_cells[i].set_text(nbb_formatted_code);\n",
       "                        }\n",
       "                        break;\n",
       "                    }\n",
       "                }\n",
       "            }, 500);\n",
       "            "
      ],
      "text/plain": [
       "<IPython.core.display.Javascript object>"
      ]
     },
     "metadata": {},
     "output_type": "display_data"
    }
   ],
   "source": [
    "# No null cells were found\n",
    "data.isnull().sum()"
   ]
  },
  {
   "cell_type": "code",
   "execution_count": 12,
   "id": "8a024bbf",
   "metadata": {},
   "outputs": [
    {
     "data": {
      "image/png": "[encoded data removed]",
      "text/plain": [
       "<Figure size 648x648 with 2 Axes>"
      ]
     },
     "metadata": {},
     "output_type": "display_data"
    },
    {
     "data": {
      "application/javascript": [
       "\n",
       "            setTimeout(function() {\n",
       "                var nbb_cell_id = 12;\n",
       "                var nbb_unformatted_code = \"sns.set(rc={\\\"figure.figsize\\\": (9, 9)})\\n_ = sns.heatmap(data.corr(), annot=True)\";\n",
       "                var nbb_formatted_code = \"sns.set(rc={\\\"figure.figsize\\\": (9, 9)})\\n_ = sns.heatmap(data.corr(), annot=True)\";\n",
       "                var nbb_cells = Jupyter.notebook.get_cells();\n",
       "                for (var i = 0; i < nbb_cells.length; ++i) {\n",
       "                    if (nbb_cells[i].input_prompt_number == nbb_cell_id) {\n",
       "                        if (nbb_cells[i].get_text() == nbb_unformatted_code) {\n",
       "                             nbb_cells[i].set_text(nbb_formatted_code);\n",
       "                        }\n",
       "                        break;\n",
       "                    }\n",
       "                }\n",
       "            }, 500);\n",
       "            "
      ],
      "text/plain": [
       "<IPython.core.display.Javascript object>"
      ]
     },
     "metadata": {},
     "output_type": "display_data"
    }
   ],
   "source": [
    "sns.set(rc={\"figure.figsize\": (9, 9)})\n",
    "_ = sns.heatmap(data.corr(), annot=True)"
   ]
  },
  {
   "cell_type": "markdown",
   "id": "71a26bbb",
   "metadata": {},
   "source": [
    "The top3 variables with higher correlation with variable \"isFraud\" are: \"amount\", \"isFlaggedFraud\" and \"step\"."
   ]
  },
  {
   "cell_type": "code",
   "execution_count": 13,
   "id": "0956ad40",
   "metadata": {},
   "outputs": [
    {
     "name": "stdout",
     "output_type": "stream",
     "text": [
      "Quantity of Flagged Frauds that are Fraud: 16\n"
     ]
    },
    {
     "data": {
      "application/javascript": [
       "\n",
       "            setTimeout(function() {\n",
       "                var nbb_cell_id = 13;\n",
       "                var nbb_unformatted_code = \"# Verifying the amount of flagged frauds that are really fraud.\\nisFlaggedFraud_list = data[\\\"isFlaggedFraud\\\"].tolist()\\nisFraud_list = data[\\\"isFraud\\\"].tolist()\\ncount_a = 0\\ncount_b = 0\\n\\nfor i in isFlaggedFraud_list:\\n    if i == 1 and isFraud_list[count_a] == 1:\\n        count_b += 1\\n    count_a += 1\\nprint(\\\"Quantity of Flagged Frauds that are Fraud:\\\", count_b)\";\n",
       "                var nbb_formatted_code = \"# Verifying the amount of flagged frauds that are really fraud.\\nisFlaggedFraud_list = data[\\\"isFlaggedFraud\\\"].tolist()\\nisFraud_list = data[\\\"isFraud\\\"].tolist()\\ncount_a = 0\\ncount_b = 0\\n\\nfor i in isFlaggedFraud_list:\\n    if i == 1 and isFraud_list[count_a] == 1:\\n        count_b += 1\\n    count_a += 1\\nprint(\\\"Quantity of Flagged Frauds that are Fraud:\\\", count_b)\";\n",
       "                var nbb_cells = Jupyter.notebook.get_cells();\n",
       "                for (var i = 0; i < nbb_cells.length; ++i) {\n",
       "                    if (nbb_cells[i].input_prompt_number == nbb_cell_id) {\n",
       "                        if (nbb_cells[i].get_text() == nbb_unformatted_code) {\n",
       "                             nbb_cells[i].set_text(nbb_formatted_code);\n",
       "                        }\n",
       "                        break;\n",
       "                    }\n",
       "                }\n",
       "            }, 500);\n",
       "            "
      ],
      "text/plain": [
       "<IPython.core.display.Javascript object>"
      ]
     },
     "metadata": {},
     "output_type": "display_data"
    }
   ],
   "source": [
    "# Verifying the amount of flagged frauds that are really fraud.\n",
    "isFlaggedFraud_list = data[\"isFlaggedFraud\"].tolist()\n",
    "isFraud_list = data[\"isFraud\"].tolist()\n",
    "count_a = 0\n",
    "count_b = 0\n",
    "\n",
    "for i in isFlaggedFraud_list:\n",
    "    if i == 1 and isFraud_list[count_a] == 1:\n",
    "        count_b += 1\n",
    "    count_a += 1\n",
    "print(\"Quantity of Flagged Frauds that are Fraud:\", count_b)"
   ]
  },
  {
   "cell_type": "code",
   "execution_count": 14,
   "id": "66997e31",
   "metadata": {},
   "outputs": [
    {
     "data": {
      "text/plain": [
       "0    6362604\n",
       "1         16\n",
       "Name: isFlaggedFraud, dtype: int64"
      ]
     },
     "execution_count": 14,
     "metadata": {},
     "output_type": "execute_result"
    },
    {
     "data": {
      "application/javascript": [
       "\n",
       "            setTimeout(function() {\n",
       "                var nbb_cell_id = 14;\n",
       "                var nbb_unformatted_code = \"data[\\\"isFlaggedFraud\\\"].value_counts()\";\n",
       "                var nbb_formatted_code = \"data[\\\"isFlaggedFraud\\\"].value_counts()\";\n",
       "                var nbb_cells = Jupyter.notebook.get_cells();\n",
       "                for (var i = 0; i < nbb_cells.length; ++i) {\n",
       "                    if (nbb_cells[i].input_prompt_number == nbb_cell_id) {\n",
       "                        if (nbb_cells[i].get_text() == nbb_unformatted_code) {\n",
       "                             nbb_cells[i].set_text(nbb_formatted_code);\n",
       "                        }\n",
       "                        break;\n",
       "                    }\n",
       "                }\n",
       "            }, 500);\n",
       "            "
      ],
      "text/plain": [
       "<IPython.core.display.Javascript object>"
      ]
     },
     "metadata": {},
     "output_type": "display_data"
    }
   ],
   "source": [
    "data[\"isFlaggedFraud\"].value_counts()"
   ]
  },
  {
   "cell_type": "code",
   "execution_count": 15,
   "id": "95bfc125",
   "metadata": {},
   "outputs": [
    {
     "name": "stdout",
     "output_type": "stream",
     "text": [
      "The quantity of transactions that should be considered as Flagged Fraud is: 1673570\n"
     ]
    },
    {
     "data": {
      "application/javascript": [
       "\n",
       "            setTimeout(function() {\n",
       "                var nbb_cell_id = 15;\n",
       "                var nbb_unformatted_code = \"# Verifying the quantity of transactions that should be flagged as fraud.\\namount_list = data[\\\"amount\\\"].tolist()\\ncount_a = 0\\n\\nfor i in amount_list:\\n    if i >= 200000:\\n        count_a += 1\\nprint(\\n    \\\"The quantity of transactions that should be considered as Flagged Fraud is:\\\",\\n    count_a,\\n)\";\n",
       "                var nbb_formatted_code = \"# Verifying the quantity of transactions that should be flagged as fraud.\\namount_list = data[\\\"amount\\\"].tolist()\\ncount_a = 0\\n\\nfor i in amount_list:\\n    if i >= 200000:\\n        count_a += 1\\nprint(\\n    \\\"The quantity of transactions that should be considered as Flagged Fraud is:\\\",\\n    count_a,\\n)\";\n",
       "                var nbb_cells = Jupyter.notebook.get_cells();\n",
       "                for (var i = 0; i < nbb_cells.length; ++i) {\n",
       "                    if (nbb_cells[i].input_prompt_number == nbb_cell_id) {\n",
       "                        if (nbb_cells[i].get_text() == nbb_unformatted_code) {\n",
       "                             nbb_cells[i].set_text(nbb_formatted_code);\n",
       "                        }\n",
       "                        break;\n",
       "                    }\n",
       "                }\n",
       "            }, 500);\n",
       "            "
      ],
      "text/plain": [
       "<IPython.core.display.Javascript object>"
      ]
     },
     "metadata": {},
     "output_type": "display_data"
    }
   ],
   "source": [
    "# Verifying the quantity of transactions that should be flagged as fraud.\n",
    "amount_list = data[\"amount\"].tolist()\n",
    "count_a = 0\n",
    "\n",
    "for i in amount_list:\n",
    "    if i >= 200000:\n",
    "        count_a += 1\n",
    "print(\n",
    "    \"The quantity of transactions that should be considered as Flagged Fraud is:\",\n",
    "    count_a,\n",
    ")"
   ]
  },
  {
   "cell_type": "markdown",
   "id": "fc0f6c0e",
   "metadata": {},
   "source": [
    "## Split Dataset in train and test"
   ]
  },
  {
   "cell_type": "code",
   "execution_count": 16,
   "id": "9a0c1bbf",
   "metadata": {},
   "outputs": [
    {
     "data": {
      "application/javascript": [
       "\n",
       "            setTimeout(function() {\n",
       "                var nbb_cell_id = 16;\n",
       "                var nbb_unformatted_code = \"X = data[\\n    [\\n        \\\"step\\\",\\n        \\\"type\\\",\\n        \\\"amount\\\",\\n        \\\"nameOrig\\\",\\n        \\\"oldbalanceOrg\\\",\\n        \\\"newbalanceOrig\\\",\\n        \\\"nameDest\\\",\\n        \\\"oldbalanceDest\\\",\\n        \\\"newbalanceDest\\\",\\n        \\\"isFlaggedFraud\\\",\\n    ]\\n]\\nY = data[[\\\"isFraud\\\"]]\\n\\nX_train, X_test, y_train, y_test = train_test_split(\\n    X, Y, test_size=0.25, random_state=42, stratify=Y\\n)\";\n",
       "                var nbb_formatted_code = \"X = data[\\n    [\\n        \\\"step\\\",\\n        \\\"type\\\",\\n        \\\"amount\\\",\\n        \\\"nameOrig\\\",\\n        \\\"oldbalanceOrg\\\",\\n        \\\"newbalanceOrig\\\",\\n        \\\"nameDest\\\",\\n        \\\"oldbalanceDest\\\",\\n        \\\"newbalanceDest\\\",\\n        \\\"isFlaggedFraud\\\",\\n    ]\\n]\\nY = data[[\\\"isFraud\\\"]]\\n\\nX_train, X_test, y_train, y_test = train_test_split(\\n    X, Y, test_size=0.25, random_state=42, stratify=Y\\n)\";\n",
       "                var nbb_cells = Jupyter.notebook.get_cells();\n",
       "                for (var i = 0; i < nbb_cells.length; ++i) {\n",
       "                    if (nbb_cells[i].input_prompt_number == nbb_cell_id) {\n",
       "                        if (nbb_cells[i].get_text() == nbb_unformatted_code) {\n",
       "                             nbb_cells[i].set_text(nbb_formatted_code);\n",
       "                        }\n",
       "                        break;\n",
       "                    }\n",
       "                }\n",
       "            }, 500);\n",
       "            "
      ],
      "text/plain": [
       "<IPython.core.display.Javascript object>"
      ]
     },
     "metadata": {},
     "output_type": "display_data"
    }
   ],
   "source": [
    "X = data[\n",
    "    [\n",
    "        \"step\",\n",
    "        \"type\",\n",
    "        \"amount\",\n",
    "        \"nameOrig\",\n",
    "        \"oldbalanceOrg\",\n",
    "        \"newbalanceOrig\",\n",
    "        \"nameDest\",\n",
    "        \"oldbalanceDest\",\n",
    "        \"newbalanceDest\",\n",
    "        \"isFlaggedFraud\",\n",
    "    ]\n",
    "]\n",
    "Y = data[[\"isFraud\"]]\n",
    "\n",
    "X_train, X_test, y_train, y_test = train_test_split(\n",
    "    X, Y, test_size=0.25, random_state=42, stratify=Y\n",
    ")"
   ]
  },
  {
   "cell_type": "code",
   "execution_count": 17,
   "id": "581b72c0",
   "metadata": {},
   "outputs": [
    {
     "data": {
      "text/plain": [
       "[Text(0.5, 1.0, 'COUNTPLOT OF VARIABLE TARGET')]"
      ]
     },
     "execution_count": 17,
     "metadata": {},
     "output_type": "execute_result"
    },
    {
     "data": {
      "image/png": "[encoded data removed]",
      "text/plain": [
       "<Figure size 648x648 with 1 Axes>"
      ]
     },
     "metadata": {},
     "output_type": "display_data"
    },
    {
     "data": {
      "application/javascript": [
       "\n",
       "            setTimeout(function() {\n",
       "                var nbb_cell_id = 17;\n",
       "                var nbb_unformatted_code = \"# Verifying isFraud proportion. Variable is highly unbalanced.\\n\\nsns.countplot(x=\\\"isFraud\\\", data=y_train, palette=\\\"Set1\\\").set(\\n    title=\\\"COUNTPLOT OF VARIABLE TARGET\\\"\\n)\";\n",
       "                var nbb_formatted_code = \"# Verifying isFraud proportion. Variable is highly unbalanced.\\n\\nsns.countplot(x=\\\"isFraud\\\", data=y_train, palette=\\\"Set1\\\").set(\\n    title=\\\"COUNTPLOT OF VARIABLE TARGET\\\"\\n)\";\n",
       "                var nbb_cells = Jupyter.notebook.get_cells();\n",
       "                for (var i = 0; i < nbb_cells.length; ++i) {\n",
       "                    if (nbb_cells[i].input_prompt_number == nbb_cell_id) {\n",
       "                        if (nbb_cells[i].get_text() == nbb_unformatted_code) {\n",
       "                             nbb_cells[i].set_text(nbb_formatted_code);\n",
       "                        }\n",
       "                        break;\n",
       "                    }\n",
       "                }\n",
       "            }, 500);\n",
       "            "
      ],
      "text/plain": [
       "<IPython.core.display.Javascript object>"
      ]
     },
     "metadata": {},
     "output_type": "display_data"
    }
   ],
   "source": [
    "# Verifying isFraud proportion. Variable is highly unbalanced.\n",
    "\n",
    "sns.countplot(x=\"isFraud\", data=y_train, palette=\"Set1\").set(\n",
    "    title=\"COUNTPLOT OF VARIABLE TARGET\"\n",
    ")"
   ]
  },
  {
   "cell_type": "markdown",
   "id": "2d002655",
   "metadata": {},
   "source": [
    "## Feature Engineering"
   ]
  },
  {
   "cell_type": "code",
   "execution_count": 18,
   "id": "9e717a63",
   "metadata": {},
   "outputs": [
    {
     "data": {
      "text/html": [
       "<div>\n",
       "<style scoped>\n",
       "    .dataframe tbody tr th:only-of-type {\n",
       "        vertical-align: middle;\n",
       "    }\n",
       "\n",
       "    .dataframe tbody tr th {\n",
       "        vertical-align: top;\n",
       "    }\n",
       "\n",
       "    .dataframe thead th {\n",
       "        text-align: right;\n",
       "    }\n",
       "</style>\n",
       "<table border=\"1\" class=\"dataframe\">\n",
       "  <thead>\n",
       "    <tr style=\"text-align: right;\">\n",
       "      <th></th>\n",
       "      <th>step</th>\n",
       "      <th>type</th>\n",
       "      <th>amount</th>\n",
       "      <th>nameOrig</th>\n",
       "      <th>oldbalanceOrg</th>\n",
       "      <th>newbalanceOrig</th>\n",
       "      <th>nameDest</th>\n",
       "      <th>oldbalanceDest</th>\n",
       "      <th>newbalanceDest</th>\n",
       "      <th>isFlaggedFraud</th>\n",
       "      <th>nameDest_freq</th>\n",
       "    </tr>\n",
       "  </thead>\n",
       "  <tbody>\n",
       "    <tr>\n",
       "      <th>2947509</th>\n",
       "      <td>230</td>\n",
       "      <td>PAYMENT</td>\n",
       "      <td>25106.21</td>\n",
       "      <td>C210872802</td>\n",
       "      <td>50850.00</td>\n",
       "      <td>25743.79</td>\n",
       "      <td>M1247923037</td>\n",
       "      <td>0.00</td>\n",
       "      <td>0.00</td>\n",
       "      <td>0</td>\n",
       "      <td>1</td>\n",
       "    </tr>\n",
       "    <tr>\n",
       "      <th>983137</th>\n",
       "      <td>44</td>\n",
       "      <td>CASH_IN</td>\n",
       "      <td>226426.20</td>\n",
       "      <td>C1220670739</td>\n",
       "      <td>3815346.61</td>\n",
       "      <td>4041772.81</td>\n",
       "      <td>C377231511</td>\n",
       "      <td>1206782.67</td>\n",
       "      <td>980356.47</td>\n",
       "      <td>0</td>\n",
       "      <td>22</td>\n",
       "    </tr>\n",
       "    <tr>\n",
       "      <th>2596796</th>\n",
       "      <td>208</td>\n",
       "      <td>PAYMENT</td>\n",
       "      <td>662.24</td>\n",
       "      <td>C987540411</td>\n",
       "      <td>144407.43</td>\n",
       "      <td>143745.20</td>\n",
       "      <td>M1894711811</td>\n",
       "      <td>0.00</td>\n",
       "      <td>0.00</td>\n",
       "      <td>0</td>\n",
       "      <td>1</td>\n",
       "    </tr>\n",
       "    <tr>\n",
       "      <th>3122557</th>\n",
       "      <td>236</td>\n",
       "      <td>CASH_OUT</td>\n",
       "      <td>128838.38</td>\n",
       "      <td>C2130004271</td>\n",
       "      <td>16173.00</td>\n",
       "      <td>0.00</td>\n",
       "      <td>C497476412</td>\n",
       "      <td>0.00</td>\n",
       "      <td>128838.38</td>\n",
       "      <td>0</td>\n",
       "      <td>2</td>\n",
       "    </tr>\n",
       "    <tr>\n",
       "      <th>5998010</th>\n",
       "      <td>426</td>\n",
       "      <td>TRANSFER</td>\n",
       "      <td>198986.72</td>\n",
       "      <td>C82269278</td>\n",
       "      <td>0.00</td>\n",
       "      <td>0.00</td>\n",
       "      <td>C1469084853</td>\n",
       "      <td>789447.96</td>\n",
       "      <td>988434.68</td>\n",
       "      <td>0</td>\n",
       "      <td>7</td>\n",
       "    </tr>\n",
       "  </tbody>\n",
       "</table>\n",
       "</div>"
      ],
      "text/plain": [
       "         step      type     amount     nameOrig  oldbalanceOrg  \\\n",
       "2947509   230   PAYMENT   25106.21   C210872802       50850.00   \n",
       "983137     44   CASH_IN  226426.20  C1220670739     3815346.61   \n",
       "2596796   208   PAYMENT     662.24   C987540411      144407.43   \n",
       "3122557   236  CASH_OUT  128838.38  C2130004271       16173.00   \n",
       "5998010   426  TRANSFER  198986.72    C82269278           0.00   \n",
       "\n",
       "         newbalanceOrig     nameDest  oldbalanceDest  newbalanceDest  \\\n",
       "2947509        25743.79  M1247923037            0.00            0.00   \n",
       "983137       4041772.81   C377231511      1206782.67       980356.47   \n",
       "2596796       143745.20  M1894711811            0.00            0.00   \n",
       "3122557            0.00   C497476412            0.00       128838.38   \n",
       "5998010            0.00  C1469084853       789447.96       988434.68   \n",
       "\n",
       "         isFlaggedFraud  nameDest_freq  \n",
       "2947509               0              1  \n",
       "983137                0             22  \n",
       "2596796               0              1  \n",
       "3122557               0              2  \n",
       "5998010               0              7  "
      ]
     },
     "execution_count": 18,
     "metadata": {},
     "output_type": "execute_result"
    },
    {
     "data": {
      "application/javascript": [
       "\n",
       "            setTimeout(function() {\n",
       "                var nbb_cell_id = 18;\n",
       "                var nbb_unformatted_code = \"# Function to describe how many times the recipient appeared during the selected period.\\n\\n\\ndef account_freq(data, column):\\n    freq = {}\\n    freq1 = []\\n    new_list = data[column].tolist()\\n    for item in new_list:\\n        if item in freq:\\n            freq[item] += 1\\n        else:\\n            freq[item] = 1\\n    for i in new_list:\\n        if i in freq:\\n            freq1.append(freq[i])\\n    return freq1\\n\\n\\nX_train[\\\"nameDest_freq\\\"] = account_freq(X_train, \\\"nameDest\\\")\\nX_train.head()\";\n",
       "                var nbb_formatted_code = \"# Function to describe how many times the recipient appeared during the selected period.\\n\\n\\ndef account_freq(data, column):\\n    freq = {}\\n    freq1 = []\\n    new_list = data[column].tolist()\\n    for item in new_list:\\n        if item in freq:\\n            freq[item] += 1\\n        else:\\n            freq[item] = 1\\n    for i in new_list:\\n        if i in freq:\\n            freq1.append(freq[i])\\n    return freq1\\n\\n\\nX_train[\\\"nameDest_freq\\\"] = account_freq(X_train, \\\"nameDest\\\")\\nX_train.head()\";\n",
       "                var nbb_cells = Jupyter.notebook.get_cells();\n",
       "                for (var i = 0; i < nbb_cells.length; ++i) {\n",
       "                    if (nbb_cells[i].input_prompt_number == nbb_cell_id) {\n",
       "                        if (nbb_cells[i].get_text() == nbb_unformatted_code) {\n",
       "                             nbb_cells[i].set_text(nbb_formatted_code);\n",
       "                        }\n",
       "                        break;\n",
       "                    }\n",
       "                }\n",
       "            }, 500);\n",
       "            "
      ],
      "text/plain": [
       "<IPython.core.display.Javascript object>"
      ]
     },
     "metadata": {},
     "output_type": "display_data"
    }
   ],
   "source": [
    "# Function to describe how many times the recipient appeared during the selected period.\n",
    "\n",
    "\n",
    "def account_freq(data, column):\n",
    "    freq = {}\n",
    "    freq1 = []\n",
    "    new_list = data[column].tolist()\n",
    "    for item in new_list:\n",
    "        if item in freq:\n",
    "            freq[item] += 1\n",
    "        else:\n",
    "            freq[item] = 1\n",
    "    for i in new_list:\n",
    "        if i in freq:\n",
    "            freq1.append(freq[i])\n",
    "    return freq1\n",
    "\n",
    "\n",
    "X_train[\"nameDest_freq\"] = account_freq(X_train, \"nameDest\")\n",
    "X_train.head()"
   ]
  },
  {
   "cell_type": "code",
   "execution_count": 19,
   "id": "62f7cd33",
   "metadata": {},
   "outputs": [
    {
     "data": {
      "text/html": [
       "<div>\n",
       "<style scoped>\n",
       "    .dataframe tbody tr th:only-of-type {\n",
       "        vertical-align: middle;\n",
       "    }\n",
       "\n",
       "    .dataframe tbody tr th {\n",
       "        vertical-align: top;\n",
       "    }\n",
       "\n",
       "    .dataframe thead th {\n",
       "        text-align: right;\n",
       "    }\n",
       "</style>\n",
       "<table border=\"1\" class=\"dataframe\">\n",
       "  <thead>\n",
       "    <tr style=\"text-align: right;\">\n",
       "      <th></th>\n",
       "      <th>step</th>\n",
       "      <th>type</th>\n",
       "      <th>amount</th>\n",
       "      <th>nameOrig</th>\n",
       "      <th>oldbalanceOrg</th>\n",
       "      <th>newbalanceOrig</th>\n",
       "      <th>nameDest</th>\n",
       "      <th>oldbalanceDest</th>\n",
       "      <th>newbalanceDest</th>\n",
       "      <th>isFlaggedFraud</th>\n",
       "      <th>nameDest_freq</th>\n",
       "    </tr>\n",
       "  </thead>\n",
       "  <tbody>\n",
       "    <tr>\n",
       "      <th>3752514</th>\n",
       "      <td>279</td>\n",
       "      <td>CASH_OUT</td>\n",
       "      <td>285258.69</td>\n",
       "      <td>C1035798537</td>\n",
       "      <td>5069.00</td>\n",
       "      <td>0.00</td>\n",
       "      <td>C10875961</td>\n",
       "      <td>110028.82</td>\n",
       "      <td>395287.51</td>\n",
       "      <td>0</td>\n",
       "      <td>2</td>\n",
       "    </tr>\n",
       "    <tr>\n",
       "      <th>1513169</th>\n",
       "      <td>153</td>\n",
       "      <td>PAYMENT</td>\n",
       "      <td>8390.18</td>\n",
       "      <td>C475011650</td>\n",
       "      <td>0.00</td>\n",
       "      <td>0.00</td>\n",
       "      <td>M375874820</td>\n",
       "      <td>0.00</td>\n",
       "      <td>0.00</td>\n",
       "      <td>0</td>\n",
       "      <td>1</td>\n",
       "    </tr>\n",
       "    <tr>\n",
       "      <th>3963907</th>\n",
       "      <td>297</td>\n",
       "      <td>CASH_OUT</td>\n",
       "      <td>246084.63</td>\n",
       "      <td>C1114586565</td>\n",
       "      <td>215279.52</td>\n",
       "      <td>0.00</td>\n",
       "      <td>C1454593196</td>\n",
       "      <td>2057450.59</td>\n",
       "      <td>2303535.22</td>\n",
       "      <td>0</td>\n",
       "      <td>3</td>\n",
       "    </tr>\n",
       "    <tr>\n",
       "      <th>843691</th>\n",
       "      <td>41</td>\n",
       "      <td>CASH_OUT</td>\n",
       "      <td>445868.10</td>\n",
       "      <td>C876318892</td>\n",
       "      <td>24316.00</td>\n",
       "      <td>0.00</td>\n",
       "      <td>C2140124220</td>\n",
       "      <td>0.00</td>\n",
       "      <td>445868.10</td>\n",
       "      <td>0</td>\n",
       "      <td>2</td>\n",
       "    </tr>\n",
       "    <tr>\n",
       "      <th>3437791</th>\n",
       "      <td>256</td>\n",
       "      <td>PAYMENT</td>\n",
       "      <td>14899.69</td>\n",
       "      <td>C1244849504</td>\n",
       "      <td>100698.58</td>\n",
       "      <td>85798.88</td>\n",
       "      <td>M2069540574</td>\n",
       "      <td>0.00</td>\n",
       "      <td>0.00</td>\n",
       "      <td>0</td>\n",
       "      <td>1</td>\n",
       "    </tr>\n",
       "  </tbody>\n",
       "</table>\n",
       "</div>"
      ],
      "text/plain": [
       "         step      type     amount     nameOrig  oldbalanceOrg  \\\n",
       "3752514   279  CASH_OUT  285258.69  C1035798537        5069.00   \n",
       "1513169   153   PAYMENT    8390.18   C475011650           0.00   \n",
       "3963907   297  CASH_OUT  246084.63  C1114586565      215279.52   \n",
       "843691     41  CASH_OUT  445868.10   C876318892       24316.00   \n",
       "3437791   256   PAYMENT   14899.69  C1244849504      100698.58   \n",
       "\n",
       "         newbalanceOrig     nameDest  oldbalanceDest  newbalanceDest  \\\n",
       "3752514            0.00    C10875961       110028.82       395287.51   \n",
       "1513169            0.00   M375874820            0.00            0.00   \n",
       "3963907            0.00  C1454593196      2057450.59      2303535.22   \n",
       "843691             0.00  C2140124220            0.00       445868.10   \n",
       "3437791        85798.88  M2069540574            0.00            0.00   \n",
       "\n",
       "         isFlaggedFraud  nameDest_freq  \n",
       "3752514               0              2  \n",
       "1513169               0              1  \n",
       "3963907               0              3  \n",
       "843691                0              2  \n",
       "3437791               0              1  "
      ]
     },
     "execution_count": 19,
     "metadata": {},
     "output_type": "execute_result"
    },
    {
     "data": {
      "application/javascript": [
       "\n",
       "            setTimeout(function() {\n",
       "                var nbb_cell_id = 19;\n",
       "                var nbb_unformatted_code = \"X_test[\\\"nameDest_freq\\\"] = account_freq(X_test, \\\"nameDest\\\")\\nX_test.head()\";\n",
       "                var nbb_formatted_code = \"X_test[\\\"nameDest_freq\\\"] = account_freq(X_test, \\\"nameDest\\\")\\nX_test.head()\";\n",
       "                var nbb_cells = Jupyter.notebook.get_cells();\n",
       "                for (var i = 0; i < nbb_cells.length; ++i) {\n",
       "                    if (nbb_cells[i].input_prompt_number == nbb_cell_id) {\n",
       "                        if (nbb_cells[i].get_text() == nbb_unformatted_code) {\n",
       "                             nbb_cells[i].set_text(nbb_formatted_code);\n",
       "                        }\n",
       "                        break;\n",
       "                    }\n",
       "                }\n",
       "            }, 500);\n",
       "            "
      ],
      "text/plain": [
       "<IPython.core.display.Javascript object>"
      ]
     },
     "metadata": {},
     "output_type": "display_data"
    }
   ],
   "source": [
    "X_test[\"nameDest_freq\"] = account_freq(X_test, \"nameDest\")\n",
    "X_test.head()"
   ]
  },
  {
   "cell_type": "code",
   "execution_count": 20,
   "id": "a0704535",
   "metadata": {},
   "outputs": [
    {
     "data": {
      "text/html": [
       "<div>\n",
       "<style scoped>\n",
       "    .dataframe tbody tr th:only-of-type {\n",
       "        vertical-align: middle;\n",
       "    }\n",
       "\n",
       "    .dataframe tbody tr th {\n",
       "        vertical-align: top;\n",
       "    }\n",
       "\n",
       "    .dataframe thead th {\n",
       "        text-align: right;\n",
       "    }\n",
       "</style>\n",
       "<table border=\"1\" class=\"dataframe\">\n",
       "  <thead>\n",
       "    <tr style=\"text-align: right;\">\n",
       "      <th></th>\n",
       "      <th>step</th>\n",
       "      <th>type</th>\n",
       "      <th>amount</th>\n",
       "      <th>nameOrig</th>\n",
       "      <th>oldbalanceOrg</th>\n",
       "      <th>newbalanceOrig</th>\n",
       "      <th>nameDest</th>\n",
       "      <th>oldbalanceDest</th>\n",
       "      <th>newbalanceDest</th>\n",
       "      <th>isFlaggedFraud</th>\n",
       "      <th>nameDest_freq</th>\n",
       "      <th>accountIsFraud</th>\n",
       "    </tr>\n",
       "  </thead>\n",
       "  <tbody>\n",
       "    <tr>\n",
       "      <th>2947509</th>\n",
       "      <td>230</td>\n",
       "      <td>PAYMENT</td>\n",
       "      <td>25106.21</td>\n",
       "      <td>C210872802</td>\n",
       "      <td>50850.00</td>\n",
       "      <td>25743.79</td>\n",
       "      <td>M1247923037</td>\n",
       "      <td>0.00</td>\n",
       "      <td>0.00</td>\n",
       "      <td>0</td>\n",
       "      <td>1</td>\n",
       "      <td>0</td>\n",
       "    </tr>\n",
       "    <tr>\n",
       "      <th>983137</th>\n",
       "      <td>44</td>\n",
       "      <td>CASH_IN</td>\n",
       "      <td>226426.20</td>\n",
       "      <td>C1220670739</td>\n",
       "      <td>3815346.61</td>\n",
       "      <td>4041772.81</td>\n",
       "      <td>C377231511</td>\n",
       "      <td>1206782.67</td>\n",
       "      <td>980356.47</td>\n",
       "      <td>0</td>\n",
       "      <td>22</td>\n",
       "      <td>0</td>\n",
       "    </tr>\n",
       "    <tr>\n",
       "      <th>2596796</th>\n",
       "      <td>208</td>\n",
       "      <td>PAYMENT</td>\n",
       "      <td>662.24</td>\n",
       "      <td>C987540411</td>\n",
       "      <td>144407.43</td>\n",
       "      <td>143745.20</td>\n",
       "      <td>M1894711811</td>\n",
       "      <td>0.00</td>\n",
       "      <td>0.00</td>\n",
       "      <td>0</td>\n",
       "      <td>1</td>\n",
       "      <td>0</td>\n",
       "    </tr>\n",
       "    <tr>\n",
       "      <th>3122557</th>\n",
       "      <td>236</td>\n",
       "      <td>CASH_OUT</td>\n",
       "      <td>128838.38</td>\n",
       "      <td>C2130004271</td>\n",
       "      <td>16173.00</td>\n",
       "      <td>0.00</td>\n",
       "      <td>C497476412</td>\n",
       "      <td>0.00</td>\n",
       "      <td>128838.38</td>\n",
       "      <td>0</td>\n",
       "      <td>2</td>\n",
       "      <td>0</td>\n",
       "    </tr>\n",
       "    <tr>\n",
       "      <th>5998010</th>\n",
       "      <td>426</td>\n",
       "      <td>TRANSFER</td>\n",
       "      <td>198986.72</td>\n",
       "      <td>C82269278</td>\n",
       "      <td>0.00</td>\n",
       "      <td>0.00</td>\n",
       "      <td>C1469084853</td>\n",
       "      <td>789447.96</td>\n",
       "      <td>988434.68</td>\n",
       "      <td>0</td>\n",
       "      <td>7</td>\n",
       "      <td>0</td>\n",
       "    </tr>\n",
       "  </tbody>\n",
       "</table>\n",
       "</div>"
      ],
      "text/plain": [
       "         step      type     amount     nameOrig  oldbalanceOrg  \\\n",
       "2947509   230   PAYMENT   25106.21   C210872802       50850.00   \n",
       "983137     44   CASH_IN  226426.20  C1220670739     3815346.61   \n",
       "2596796   208   PAYMENT     662.24   C987540411      144407.43   \n",
       "3122557   236  CASH_OUT  128838.38  C2130004271       16173.00   \n",
       "5998010   426  TRANSFER  198986.72    C82269278           0.00   \n",
       "\n",
       "         newbalanceOrig     nameDest  oldbalanceDest  newbalanceDest  \\\n",
       "2947509        25743.79  M1247923037            0.00            0.00   \n",
       "983137       4041772.81   C377231511      1206782.67       980356.47   \n",
       "2596796       143745.20  M1894711811            0.00            0.00   \n",
       "3122557            0.00   C497476412            0.00       128838.38   \n",
       "5998010            0.00  C1469084853       789447.96       988434.68   \n",
       "\n",
       "         isFlaggedFraud  nameDest_freq  accountIsFraud  \n",
       "2947509               0              1               0  \n",
       "983137                0             22               0  \n",
       "2596796               0              1               0  \n",
       "3122557               0              2               0  \n",
       "5998010               0              7               0  "
      ]
     },
     "execution_count": 20,
     "metadata": {},
     "output_type": "execute_result"
    },
    {
     "data": {
      "application/javascript": [
       "\n",
       "            setTimeout(function() {\n",
       "                var nbb_cell_id = 20;\n",
       "                var nbb_unformatted_code = \"# Function to describe if the recipient was already set as fraud in another transaction.\\n\\n\\ndef account_is_fraud(data1, data2, column1, column2):\\n    freq = {}\\n    freq1 = []\\n    nameDest_list = data1[column1].tolist()\\n    isFraud_list = data2[column2].tolist()\\n    count = 0\\n    for item in isFraud_list:\\n        if item == 1:\\n            freq[nameDest_list[count]] = 1\\n        count += 1\\n    for i in nameDest_list:\\n        if i in freq:\\n            freq1.append(1)\\n        else:\\n            freq1.append(0)\\n    return freq1\\n\\n\\nX_train[\\\"accountIsFraud\\\"] = account_is_fraud(X_train, y_train, \\\"nameDest\\\", \\\"isFraud\\\")\\nX_train.head()\";\n",
       "                var nbb_formatted_code = \"# Function to describe if the recipient was already set as fraud in another transaction.\\n\\n\\ndef account_is_fraud(data1, data2, column1, column2):\\n    freq = {}\\n    freq1 = []\\n    nameDest_list = data1[column1].tolist()\\n    isFraud_list = data2[column2].tolist()\\n    count = 0\\n    for item in isFraud_list:\\n        if item == 1:\\n            freq[nameDest_list[count]] = 1\\n        count += 1\\n    for i in nameDest_list:\\n        if i in freq:\\n            freq1.append(1)\\n        else:\\n            freq1.append(0)\\n    return freq1\\n\\n\\nX_train[\\\"accountIsFraud\\\"] = account_is_fraud(X_train, y_train, \\\"nameDest\\\", \\\"isFraud\\\")\\nX_train.head()\";\n",
       "                var nbb_cells = Jupyter.notebook.get_cells();\n",
       "                for (var i = 0; i < nbb_cells.length; ++i) {\n",
       "                    if (nbb_cells[i].input_prompt_number == nbb_cell_id) {\n",
       "                        if (nbb_cells[i].get_text() == nbb_unformatted_code) {\n",
       "                             nbb_cells[i].set_text(nbb_formatted_code);\n",
       "                        }\n",
       "                        break;\n",
       "                    }\n",
       "                }\n",
       "            }, 500);\n",
       "            "
      ],
      "text/plain": [
       "<IPython.core.display.Javascript object>"
      ]
     },
     "metadata": {},
     "output_type": "display_data"
    }
   ],
   "source": [
    "# Function to describe if the recipient was already set as fraud in another transaction.\n",
    "\n",
    "\n",
    "def account_is_fraud(data1, data2, column1, column2):\n",
    "    freq = {}\n",
    "    freq1 = []\n",
    "    nameDest_list = data1[column1].tolist()\n",
    "    isFraud_list = data2[column2].tolist()\n",
    "    count = 0\n",
    "    for item in isFraud_list:\n",
    "        if item == 1:\n",
    "            freq[nameDest_list[count]] = 1\n",
    "        count += 1\n",
    "    for i in nameDest_list:\n",
    "        if i in freq:\n",
    "            freq1.append(1)\n",
    "        else:\n",
    "            freq1.append(0)\n",
    "    return freq1\n",
    "\n",
    "\n",
    "X_train[\"accountIsFraud\"] = account_is_fraud(X_train, y_train, \"nameDest\", \"isFraud\")\n",
    "X_train.head()"
   ]
  },
  {
   "cell_type": "code",
   "execution_count": 21,
   "id": "cc54bc5b",
   "metadata": {},
   "outputs": [
    {
     "data": {
      "text/html": [
       "<div>\n",
       "<style scoped>\n",
       "    .dataframe tbody tr th:only-of-type {\n",
       "        vertical-align: middle;\n",
       "    }\n",
       "\n",
       "    .dataframe tbody tr th {\n",
       "        vertical-align: top;\n",
       "    }\n",
       "\n",
       "    .dataframe thead th {\n",
       "        text-align: right;\n",
       "    }\n",
       "</style>\n",
       "<table border=\"1\" class=\"dataframe\">\n",
       "  <thead>\n",
       "    <tr style=\"text-align: right;\">\n",
       "      <th></th>\n",
       "      <th>step</th>\n",
       "      <th>type</th>\n",
       "      <th>amount</th>\n",
       "      <th>nameOrig</th>\n",
       "      <th>oldbalanceOrg</th>\n",
       "      <th>newbalanceOrig</th>\n",
       "      <th>nameDest</th>\n",
       "      <th>oldbalanceDest</th>\n",
       "      <th>newbalanceDest</th>\n",
       "      <th>isFlaggedFraud</th>\n",
       "      <th>nameDest_freq</th>\n",
       "      <th>accountIsFraud</th>\n",
       "    </tr>\n",
       "  </thead>\n",
       "  <tbody>\n",
       "    <tr>\n",
       "      <th>3752514</th>\n",
       "      <td>279</td>\n",
       "      <td>CASH_OUT</td>\n",
       "      <td>285258.69</td>\n",
       "      <td>C1035798537</td>\n",
       "      <td>5069.00</td>\n",
       "      <td>0.00</td>\n",
       "      <td>C10875961</td>\n",
       "      <td>110028.82</td>\n",
       "      <td>395287.51</td>\n",
       "      <td>0</td>\n",
       "      <td>2</td>\n",
       "      <td>0</td>\n",
       "    </tr>\n",
       "    <tr>\n",
       "      <th>1513169</th>\n",
       "      <td>153</td>\n",
       "      <td>PAYMENT</td>\n",
       "      <td>8390.18</td>\n",
       "      <td>C475011650</td>\n",
       "      <td>0.00</td>\n",
       "      <td>0.00</td>\n",
       "      <td>M375874820</td>\n",
       "      <td>0.00</td>\n",
       "      <td>0.00</td>\n",
       "      <td>0</td>\n",
       "      <td>1</td>\n",
       "      <td>0</td>\n",
       "    </tr>\n",
       "    <tr>\n",
       "      <th>3963907</th>\n",
       "      <td>297</td>\n",
       "      <td>CASH_OUT</td>\n",
       "      <td>246084.63</td>\n",
       "      <td>C1114586565</td>\n",
       "      <td>215279.52</td>\n",
       "      <td>0.00</td>\n",
       "      <td>C1454593196</td>\n",
       "      <td>2057450.59</td>\n",
       "      <td>2303535.22</td>\n",
       "      <td>0</td>\n",
       "      <td>3</td>\n",
       "      <td>0</td>\n",
       "    </tr>\n",
       "    <tr>\n",
       "      <th>843691</th>\n",
       "      <td>41</td>\n",
       "      <td>CASH_OUT</td>\n",
       "      <td>445868.10</td>\n",
       "      <td>C876318892</td>\n",
       "      <td>24316.00</td>\n",
       "      <td>0.00</td>\n",
       "      <td>C2140124220</td>\n",
       "      <td>0.00</td>\n",
       "      <td>445868.10</td>\n",
       "      <td>0</td>\n",
       "      <td>2</td>\n",
       "      <td>0</td>\n",
       "    </tr>\n",
       "    <tr>\n",
       "      <th>3437791</th>\n",
       "      <td>256</td>\n",
       "      <td>PAYMENT</td>\n",
       "      <td>14899.69</td>\n",
       "      <td>C1244849504</td>\n",
       "      <td>100698.58</td>\n",
       "      <td>85798.88</td>\n",
       "      <td>M2069540574</td>\n",
       "      <td>0.00</td>\n",
       "      <td>0.00</td>\n",
       "      <td>0</td>\n",
       "      <td>1</td>\n",
       "      <td>0</td>\n",
       "    </tr>\n",
       "  </tbody>\n",
       "</table>\n",
       "</div>"
      ],
      "text/plain": [
       "         step      type     amount     nameOrig  oldbalanceOrg  \\\n",
       "3752514   279  CASH_OUT  285258.69  C1035798537        5069.00   \n",
       "1513169   153   PAYMENT    8390.18   C475011650           0.00   \n",
       "3963907   297  CASH_OUT  246084.63  C1114586565      215279.52   \n",
       "843691     41  CASH_OUT  445868.10   C876318892       24316.00   \n",
       "3437791   256   PAYMENT   14899.69  C1244849504      100698.58   \n",
       "\n",
       "         newbalanceOrig     nameDest  oldbalanceDest  newbalanceDest  \\\n",
       "3752514            0.00    C10875961       110028.82       395287.51   \n",
       "1513169            0.00   M375874820            0.00            0.00   \n",
       "3963907            0.00  C1454593196      2057450.59      2303535.22   \n",
       "843691             0.00  C2140124220            0.00       445868.10   \n",
       "3437791        85798.88  M2069540574            0.00            0.00   \n",
       "\n",
       "         isFlaggedFraud  nameDest_freq  accountIsFraud  \n",
       "3752514               0              2               0  \n",
       "1513169               0              1               0  \n",
       "3963907               0              3               0  \n",
       "843691                0              2               0  \n",
       "3437791               0              1               0  "
      ]
     },
     "execution_count": 21,
     "metadata": {},
     "output_type": "execute_result"
    },
    {
     "data": {
      "application/javascript": [
       "\n",
       "            setTimeout(function() {\n",
       "                var nbb_cell_id = 21;\n",
       "                var nbb_unformatted_code = \"X_test[\\\"accountIsFraud\\\"] = account_is_fraud(X_test, y_test, \\\"nameDest\\\", \\\"isFraud\\\")\\nX_test.head()\";\n",
       "                var nbb_formatted_code = \"X_test[\\\"accountIsFraud\\\"] = account_is_fraud(X_test, y_test, \\\"nameDest\\\", \\\"isFraud\\\")\\nX_test.head()\";\n",
       "                var nbb_cells = Jupyter.notebook.get_cells();\n",
       "                for (var i = 0; i < nbb_cells.length; ++i) {\n",
       "                    if (nbb_cells[i].input_prompt_number == nbb_cell_id) {\n",
       "                        if (nbb_cells[i].get_text() == nbb_unformatted_code) {\n",
       "                             nbb_cells[i].set_text(nbb_formatted_code);\n",
       "                        }\n",
       "                        break;\n",
       "                    }\n",
       "                }\n",
       "            }, 500);\n",
       "            "
      ],
      "text/plain": [
       "<IPython.core.display.Javascript object>"
      ]
     },
     "metadata": {},
     "output_type": "display_data"
    }
   ],
   "source": [
    "X_test[\"accountIsFraud\"] = account_is_fraud(X_test, y_test, \"nameDest\", \"isFraud\")\n",
    "X_test.head()"
   ]
  },
  {
   "cell_type": "markdown",
   "id": "9ec49fc3",
   "metadata": {},
   "source": [
    "## Re-Scaling the Data"
   ]
  },
  {
   "cell_type": "code",
   "execution_count": 22,
   "id": "c149e1b3",
   "metadata": {},
   "outputs": [
    {
     "data": {
      "application/javascript": [
       "\n",
       "            setTimeout(function() {\n",
       "                var nbb_cell_id = 22;\n",
       "                var nbb_unformatted_code = \"scaler = StandardScaler()\\nX_train[\\n    [\\\"amount\\\", \\\"oldbalanceOrg\\\", \\\"newbalanceOrig\\\", \\\"oldbalanceDest\\\", \\\"newbalanceDest\\\",]\\n] = scaler.fit_transform(\\n    X_train[\\n        [\\n            \\\"amount\\\",\\n            \\\"oldbalanceOrg\\\",\\n            \\\"newbalanceOrig\\\",\\n            \\\"oldbalanceDest\\\",\\n            \\\"newbalanceDest\\\",\\n        ]\\n    ]\\n)\\nX_test[\\n    [\\\"amount\\\", \\\"oldbalanceOrg\\\", \\\"newbalanceOrig\\\", \\\"oldbalanceDest\\\", \\\"newbalanceDest\\\",]\\n] = scaler.fit_transform(\\n    X_test[\\n        [\\n            \\\"amount\\\",\\n            \\\"oldbalanceOrg\\\",\\n            \\\"newbalanceOrig\\\",\\n            \\\"oldbalanceDest\\\",\\n            \\\"newbalanceDest\\\",\\n        ]\\n    ]\\n)\";\n",
       "                var nbb_formatted_code = \"scaler = StandardScaler()\\nX_train[\\n    [\\\"amount\\\", \\\"oldbalanceOrg\\\", \\\"newbalanceOrig\\\", \\\"oldbalanceDest\\\", \\\"newbalanceDest\\\",]\\n] = scaler.fit_transform(\\n    X_train[\\n        [\\n            \\\"amount\\\",\\n            \\\"oldbalanceOrg\\\",\\n            \\\"newbalanceOrig\\\",\\n            \\\"oldbalanceDest\\\",\\n            \\\"newbalanceDest\\\",\\n        ]\\n    ]\\n)\\nX_test[\\n    [\\\"amount\\\", \\\"oldbalanceOrg\\\", \\\"newbalanceOrig\\\", \\\"oldbalanceDest\\\", \\\"newbalanceDest\\\",]\\n] = scaler.fit_transform(\\n    X_test[\\n        [\\n            \\\"amount\\\",\\n            \\\"oldbalanceOrg\\\",\\n            \\\"newbalanceOrig\\\",\\n            \\\"oldbalanceDest\\\",\\n            \\\"newbalanceDest\\\",\\n        ]\\n    ]\\n)\";\n",
       "                var nbb_cells = Jupyter.notebook.get_cells();\n",
       "                for (var i = 0; i < nbb_cells.length; ++i) {\n",
       "                    if (nbb_cells[i].input_prompt_number == nbb_cell_id) {\n",
       "                        if (nbb_cells[i].get_text() == nbb_unformatted_code) {\n",
       "                             nbb_cells[i].set_text(nbb_formatted_code);\n",
       "                        }\n",
       "                        break;\n",
       "                    }\n",
       "                }\n",
       "            }, 500);\n",
       "            "
      ],
      "text/plain": [
       "<IPython.core.display.Javascript object>"
      ]
     },
     "metadata": {},
     "output_type": "display_data"
    }
   ],
   "source": [
    "scaler = StandardScaler()\n",
    "X_train[\n",
    "    [\"amount\", \"oldbalanceOrg\", \"newbalanceOrig\", \"oldbalanceDest\", \"newbalanceDest\",]\n",
    "] = scaler.fit_transform(\n",
    "    X_train[\n",
    "        [\n",
    "            \"amount\",\n",
    "            \"oldbalanceOrg\",\n",
    "            \"newbalanceOrig\",\n",
    "            \"oldbalanceDest\",\n",
    "            \"newbalanceDest\",\n",
    "        ]\n",
    "    ]\n",
    ")\n",
    "X_test[\n",
    "    [\"amount\", \"oldbalanceOrg\", \"newbalanceOrig\", \"oldbalanceDest\", \"newbalanceDest\",]\n",
    "] = scaler.fit_transform(\n",
    "    X_test[\n",
    "        [\n",
    "            \"amount\",\n",
    "            \"oldbalanceOrg\",\n",
    "            \"newbalanceOrig\",\n",
    "            \"oldbalanceDest\",\n",
    "            \"newbalanceDest\",\n",
    "        ]\n",
    "    ]\n",
    ")"
   ]
  },
  {
   "cell_type": "code",
   "execution_count": 23,
   "id": "801c4f43",
   "metadata": {},
   "outputs": [
    {
     "data": {
      "text/html": [
       "<div>\n",
       "<style scoped>\n",
       "    .dataframe tbody tr th:only-of-type {\n",
       "        vertical-align: middle;\n",
       "    }\n",
       "\n",
       "    .dataframe tbody tr th {\n",
       "        vertical-align: top;\n",
       "    }\n",
       "\n",
       "    .dataframe thead th {\n",
       "        text-align: right;\n",
       "    }\n",
       "</style>\n",
       "<table border=\"1\" class=\"dataframe\">\n",
       "  <thead>\n",
       "    <tr style=\"text-align: right;\">\n",
       "      <th></th>\n",
       "      <th>step</th>\n",
       "      <th>amount</th>\n",
       "      <th>oldbalanceOrg</th>\n",
       "      <th>newbalanceOrig</th>\n",
       "      <th>oldbalanceDest</th>\n",
       "      <th>newbalanceDest</th>\n",
       "      <th>isFlaggedFraud</th>\n",
       "      <th>nameDest_freq</th>\n",
       "      <th>accountIsFraud</th>\n",
       "    </tr>\n",
       "  </thead>\n",
       "  <tbody>\n",
       "    <tr>\n",
       "      <th>count</th>\n",
       "      <td>4.771965e+06</td>\n",
       "      <td>4.771965e+06</td>\n",
       "      <td>4.771965e+06</td>\n",
       "      <td>4.771965e+06</td>\n",
       "      <td>4.771965e+06</td>\n",
       "      <td>4.771965e+06</td>\n",
       "      <td>4.771965e+06</td>\n",
       "      <td>4.771965e+06</td>\n",
       "      <td>4.771965e+06</td>\n",
       "    </tr>\n",
       "    <tr>\n",
       "      <th>mean</th>\n",
       "      <td>2.434026e+02</td>\n",
       "      <td>-4.119203e-17</td>\n",
       "      <td>-7.696846e-15</td>\n",
       "      <td>-3.435934e-15</td>\n",
       "      <td>-6.952186e-15</td>\n",
       "      <td>-6.085696e-15</td>\n",
       "      <td>3.352916e-06</td>\n",
       "      <td>8.644470e+00</td>\n",
       "      <td>8.089540e-03</td>\n",
       "    </tr>\n",
       "    <tr>\n",
       "      <th>std</th>\n",
       "      <td>1.423319e+02</td>\n",
       "      <td>1.000000e+00</td>\n",
       "      <td>1.000000e+00</td>\n",
       "      <td>1.000000e+00</td>\n",
       "      <td>1.000000e+00</td>\n",
       "      <td>1.000000e+00</td>\n",
       "      <td>1.831094e-03</td>\n",
       "      <td>9.396455e+00</td>\n",
       "      <td>8.957734e-02</td>\n",
       "    </tr>\n",
       "    <tr>\n",
       "      <th>min</th>\n",
       "      <td>1.000000e+00</td>\n",
       "      <td>-2.992193e-01</td>\n",
       "      <td>-2.888002e-01</td>\n",
       "      <td>-2.925170e-01</td>\n",
       "      <td>-3.243188e-01</td>\n",
       "      <td>-3.339939e-01</td>\n",
       "      <td>0.000000e+00</td>\n",
       "      <td>1.000000e+00</td>\n",
       "      <td>0.000000e+00</td>\n",
       "    </tr>\n",
       "    <tr>\n",
       "      <th>25%</th>\n",
       "      <td>1.560000e+02</td>\n",
       "      <td>-2.769357e-01</td>\n",
       "      <td>-2.888002e-01</td>\n",
       "      <td>-2.925170e-01</td>\n",
       "      <td>-3.243188e-01</td>\n",
       "      <td>-3.339939e-01</td>\n",
       "      <td>0.000000e+00</td>\n",
       "      <td>1.000000e+00</td>\n",
       "      <td>0.000000e+00</td>\n",
       "    </tr>\n",
       "    <tr>\n",
       "      <th>50%</th>\n",
       "      <td>2.390000e+02</td>\n",
       "      <td>-1.747272e-01</td>\n",
       "      <td>-2.838746e-01</td>\n",
       "      <td>-2.925170e-01</td>\n",
       "      <td>-2.851908e-01</td>\n",
       "      <td>-2.753628e-01</td>\n",
       "      <td>0.000000e+00</td>\n",
       "      <td>5.000000e+00</td>\n",
       "      <td>0.000000e+00</td>\n",
       "    </tr>\n",
       "    <tr>\n",
       "      <th>75%</th>\n",
       "      <td>3.350000e+02</td>\n",
       "      <td>4.790807e-02</td>\n",
       "      <td>-2.516192e-01</td>\n",
       "      <td>-2.431779e-01</td>\n",
       "      <td>-4.632481e-02</td>\n",
       "      <td>-3.058528e-02</td>\n",
       "      <td>0.000000e+00</td>\n",
       "      <td>1.300000e+01</td>\n",
       "      <td>0.000000e+00</td>\n",
       "    </tr>\n",
       "    <tr>\n",
       "      <th>max</th>\n",
       "      <td>7.430000e+02</td>\n",
       "      <td>1.535130e+02</td>\n",
       "      <td>2.034190e+01</td>\n",
       "      <td>1.666546e+01</td>\n",
       "      <td>1.046073e+02</td>\n",
       "      <td>9.680458e+01</td>\n",
       "      <td>1.000000e+00</td>\n",
       "      <td>8.700000e+01</td>\n",
       "      <td>1.000000e+00</td>\n",
       "    </tr>\n",
       "  </tbody>\n",
       "</table>\n",
       "</div>"
      ],
      "text/plain": [
       "               step        amount  oldbalanceOrg  newbalanceOrig  \\\n",
       "count  4.771965e+06  4.771965e+06   4.771965e+06    4.771965e+06   \n",
       "mean   2.434026e+02 -4.119203e-17  -7.696846e-15   -3.435934e-15   \n",
       "std    1.423319e+02  1.000000e+00   1.000000e+00    1.000000e+00   \n",
       "min    1.000000e+00 -2.992193e-01  -2.888002e-01   -2.925170e-01   \n",
       "25%    1.560000e+02 -2.769357e-01  -2.888002e-01   -2.925170e-01   \n",
       "50%    2.390000e+02 -1.747272e-01  -2.838746e-01   -2.925170e-01   \n",
       "75%    3.350000e+02  4.790807e-02  -2.516192e-01   -2.431779e-01   \n",
       "max    7.430000e+02  1.535130e+02   2.034190e+01    1.666546e+01   \n",
       "\n",
       "       oldbalanceDest  newbalanceDest  isFlaggedFraud  nameDest_freq  \\\n",
       "count    4.771965e+06    4.771965e+06    4.771965e+06   4.771965e+06   \n",
       "mean    -6.952186e-15   -6.085696e-15    3.352916e-06   8.644470e+00   \n",
       "std      1.000000e+00    1.000000e+00    1.831094e-03   9.396455e+00   \n",
       "min     -3.243188e-01   -3.339939e-01    0.000000e+00   1.000000e+00   \n",
       "25%     -3.243188e-01   -3.339939e-01    0.000000e+00   1.000000e+00   \n",
       "50%     -2.851908e-01   -2.753628e-01    0.000000e+00   5.000000e+00   \n",
       "75%     -4.632481e-02   -3.058528e-02    0.000000e+00   1.300000e+01   \n",
       "max      1.046073e+02    9.680458e+01    1.000000e+00   8.700000e+01   \n",
       "\n",
       "       accountIsFraud  \n",
       "count    4.771965e+06  \n",
       "mean     8.089540e-03  \n",
       "std      8.957734e-02  \n",
       "min      0.000000e+00  \n",
       "25%      0.000000e+00  \n",
       "50%      0.000000e+00  \n",
       "75%      0.000000e+00  \n",
       "max      1.000000e+00  "
      ]
     },
     "execution_count": 23,
     "metadata": {},
     "output_type": "execute_result"
    },
    {
     "data": {
      "application/javascript": [
       "\n",
       "            setTimeout(function() {\n",
       "                var nbb_cell_id = 23;\n",
       "                var nbb_unformatted_code = \"X_train.describe()\";\n",
       "                var nbb_formatted_code = \"X_train.describe()\";\n",
       "                var nbb_cells = Jupyter.notebook.get_cells();\n",
       "                for (var i = 0; i < nbb_cells.length; ++i) {\n",
       "                    if (nbb_cells[i].input_prompt_number == nbb_cell_id) {\n",
       "                        if (nbb_cells[i].get_text() == nbb_unformatted_code) {\n",
       "                             nbb_cells[i].set_text(nbb_formatted_code);\n",
       "                        }\n",
       "                        break;\n",
       "                    }\n",
       "                }\n",
       "            }, 500);\n",
       "            "
      ],
      "text/plain": [
       "<IPython.core.display.Javascript object>"
      ]
     },
     "metadata": {},
     "output_type": "display_data"
    }
   ],
   "source": [
    "X_train.describe()"
   ]
  },
  {
   "cell_type": "markdown",
   "id": "1d71b3d9",
   "metadata": {},
   "source": [
    "## One Hot Encoder for the variable \"type\"."
   ]
  },
  {
   "cell_type": "code",
   "execution_count": 24,
   "id": "07958eb1",
   "metadata": {},
   "outputs": [
    {
     "data": {
      "text/html": [
       "<div>\n",
       "<style scoped>\n",
       "    .dataframe tbody tr th:only-of-type {\n",
       "        vertical-align: middle;\n",
       "    }\n",
       "\n",
       "    .dataframe tbody tr th {\n",
       "        vertical-align: top;\n",
       "    }\n",
       "\n",
       "    .dataframe thead th {\n",
       "        text-align: right;\n",
       "    }\n",
       "</style>\n",
       "<table border=\"1\" class=\"dataframe\">\n",
       "  <thead>\n",
       "    <tr style=\"text-align: right;\">\n",
       "      <th></th>\n",
       "      <th>type_PAYMENT</th>\n",
       "      <th>type_CASH_IN</th>\n",
       "      <th>type_CASH_OUT</th>\n",
       "      <th>type_TRANSFER</th>\n",
       "      <th>type_DEBIT</th>\n",
       "    </tr>\n",
       "  </thead>\n",
       "  <tbody>\n",
       "    <tr>\n",
       "      <th>2947509</th>\n",
       "      <td>1</td>\n",
       "      <td>0</td>\n",
       "      <td>0</td>\n",
       "      <td>0</td>\n",
       "      <td>0</td>\n",
       "    </tr>\n",
       "    <tr>\n",
       "      <th>983137</th>\n",
       "      <td>0</td>\n",
       "      <td>1</td>\n",
       "      <td>0</td>\n",
       "      <td>0</td>\n",
       "      <td>0</td>\n",
       "    </tr>\n",
       "    <tr>\n",
       "      <th>2596796</th>\n",
       "      <td>1</td>\n",
       "      <td>0</td>\n",
       "      <td>0</td>\n",
       "      <td>0</td>\n",
       "      <td>0</td>\n",
       "    </tr>\n",
       "    <tr>\n",
       "      <th>3122557</th>\n",
       "      <td>0</td>\n",
       "      <td>0</td>\n",
       "      <td>1</td>\n",
       "      <td>0</td>\n",
       "      <td>0</td>\n",
       "    </tr>\n",
       "    <tr>\n",
       "      <th>5998010</th>\n",
       "      <td>0</td>\n",
       "      <td>0</td>\n",
       "      <td>0</td>\n",
       "      <td>1</td>\n",
       "      <td>0</td>\n",
       "    </tr>\n",
       "  </tbody>\n",
       "</table>\n",
       "</div>"
      ],
      "text/plain": [
       "         type_PAYMENT  type_CASH_IN  type_CASH_OUT  type_TRANSFER  type_DEBIT\n",
       "2947509             1             0              0              0           0\n",
       "983137              0             1              0              0           0\n",
       "2596796             1             0              0              0           0\n",
       "3122557             0             0              1              0           0\n",
       "5998010             0             0              0              1           0"
      ]
     },
     "execution_count": 24,
     "metadata": {},
     "output_type": "execute_result"
    },
    {
     "data": {
      "application/javascript": [
       "\n",
       "            setTimeout(function() {\n",
       "                var nbb_cell_id = 24;\n",
       "                var nbb_unformatted_code = \"# LogisticRegression function does not run strings.\\n\\nimport category_encoders as ce\\n\\nencoder = ce.OneHotEncoder(use_cat_names=True)\\ndf_encoded_train = encoder.fit_transform(X_train[\\\"type\\\"])\\ndf_encoded_test = encoder.fit_transform(X_test[\\\"type\\\"])\\ndf_encoded_train.head()\";\n",
       "                var nbb_formatted_code = \"# LogisticRegression function does not run strings.\\n\\nimport category_encoders as ce\\n\\nencoder = ce.OneHotEncoder(use_cat_names=True)\\ndf_encoded_train = encoder.fit_transform(X_train[\\\"type\\\"])\\ndf_encoded_test = encoder.fit_transform(X_test[\\\"type\\\"])\\ndf_encoded_train.head()\";\n",
       "                var nbb_cells = Jupyter.notebook.get_cells();\n",
       "                for (var i = 0; i < nbb_cells.length; ++i) {\n",
       "                    if (nbb_cells[i].input_prompt_number == nbb_cell_id) {\n",
       "                        if (nbb_cells[i].get_text() == nbb_unformatted_code) {\n",
       "                             nbb_cells[i].set_text(nbb_formatted_code);\n",
       "                        }\n",
       "                        break;\n",
       "                    }\n",
       "                }\n",
       "            }, 500);\n",
       "            "
      ],
      "text/plain": [
       "<IPython.core.display.Javascript object>"
      ]
     },
     "metadata": {},
     "output_type": "display_data"
    }
   ],
   "source": [
    "# LogisticRegression function does not run strings.\n",
    "\n",
    "import category_encoders as ce\n",
    "\n",
    "encoder = ce.OneHotEncoder(use_cat_names=True)\n",
    "df_encoded_train = encoder.fit_transform(X_train[\"type\"])\n",
    "df_encoded_test = encoder.fit_transform(X_test[\"type\"])\n",
    "df_encoded_train.head()"
   ]
  },
  {
   "cell_type": "code",
   "execution_count": 25,
   "id": "2c4f8bb7",
   "metadata": {},
   "outputs": [
    {
     "data": {
      "application/javascript": [
       "\n",
       "            setTimeout(function() {\n",
       "                var nbb_cell_id = 25;\n",
       "                var nbb_unformatted_code = \"X_train[\\\"type_CASH_IN\\\"] = df_encoded_train[\\\"type_CASH_IN\\\"].copy(deep=True)\\nX_train[\\\"type_PAYMENT\\\"] = df_encoded_train[\\\"type_PAYMENT\\\"].copy(deep=True)\\nX_train[\\\"type_CASH_OUT\\\"] = df_encoded_train[\\\"type_CASH_OUT\\\"].copy(deep=True)\\nX_train[\\\"type_TRANSFER\\\"] = df_encoded_train[\\\"type_TRANSFER\\\"].copy(deep=True)\\nX_train[\\\"type_DEBIT\\\"] = df_encoded_train[\\\"type_DEBIT\\\"].copy(deep=True)\\n\\nX_test[\\\"type_CASH_IN\\\"] = df_encoded_test[\\\"type_CASH_IN\\\"].copy(deep=True)\\nX_test[\\\"type_PAYMENT\\\"] = df_encoded_test[\\\"type_PAYMENT\\\"].copy(deep=True)\\nX_test[\\\"type_CASH_OUT\\\"] = df_encoded_test[\\\"type_CASH_OUT\\\"].copy(deep=True)\\nX_test[\\\"type_TRANSFER\\\"] = df_encoded_test[\\\"type_TRANSFER\\\"].copy(deep=True)\\nX_test[\\\"type_DEBIT\\\"] = df_encoded_test[\\\"type_DEBIT\\\"].copy(deep=True)\";\n",
       "                var nbb_formatted_code = \"X_train[\\\"type_CASH_IN\\\"] = df_encoded_train[\\\"type_CASH_IN\\\"].copy(deep=True)\\nX_train[\\\"type_PAYMENT\\\"] = df_encoded_train[\\\"type_PAYMENT\\\"].copy(deep=True)\\nX_train[\\\"type_CASH_OUT\\\"] = df_encoded_train[\\\"type_CASH_OUT\\\"].copy(deep=True)\\nX_train[\\\"type_TRANSFER\\\"] = df_encoded_train[\\\"type_TRANSFER\\\"].copy(deep=True)\\nX_train[\\\"type_DEBIT\\\"] = df_encoded_train[\\\"type_DEBIT\\\"].copy(deep=True)\\n\\nX_test[\\\"type_CASH_IN\\\"] = df_encoded_test[\\\"type_CASH_IN\\\"].copy(deep=True)\\nX_test[\\\"type_PAYMENT\\\"] = df_encoded_test[\\\"type_PAYMENT\\\"].copy(deep=True)\\nX_test[\\\"type_CASH_OUT\\\"] = df_encoded_test[\\\"type_CASH_OUT\\\"].copy(deep=True)\\nX_test[\\\"type_TRANSFER\\\"] = df_encoded_test[\\\"type_TRANSFER\\\"].copy(deep=True)\\nX_test[\\\"type_DEBIT\\\"] = df_encoded_test[\\\"type_DEBIT\\\"].copy(deep=True)\";\n",
       "                var nbb_cells = Jupyter.notebook.get_cells();\n",
       "                for (var i = 0; i < nbb_cells.length; ++i) {\n",
       "                    if (nbb_cells[i].input_prompt_number == nbb_cell_id) {\n",
       "                        if (nbb_cells[i].get_text() == nbb_unformatted_code) {\n",
       "                             nbb_cells[i].set_text(nbb_formatted_code);\n",
       "                        }\n",
       "                        break;\n",
       "                    }\n",
       "                }\n",
       "            }, 500);\n",
       "            "
      ],
      "text/plain": [
       "<IPython.core.display.Javascript object>"
      ]
     },
     "metadata": {},
     "output_type": "display_data"
    }
   ],
   "source": [
    "X_train[\"type_CASH_IN\"] = df_encoded_train[\"type_CASH_IN\"].copy(deep=True)\n",
    "X_train[\"type_PAYMENT\"] = df_encoded_train[\"type_PAYMENT\"].copy(deep=True)\n",
    "X_train[\"type_CASH_OUT\"] = df_encoded_train[\"type_CASH_OUT\"].copy(deep=True)\n",
    "X_train[\"type_TRANSFER\"] = df_encoded_train[\"type_TRANSFER\"].copy(deep=True)\n",
    "X_train[\"type_DEBIT\"] = df_encoded_train[\"type_DEBIT\"].copy(deep=True)\n",
    "\n",
    "X_test[\"type_CASH_IN\"] = df_encoded_test[\"type_CASH_IN\"].copy(deep=True)\n",
    "X_test[\"type_PAYMENT\"] = df_encoded_test[\"type_PAYMENT\"].copy(deep=True)\n",
    "X_test[\"type_CASH_OUT\"] = df_encoded_test[\"type_CASH_OUT\"].copy(deep=True)\n",
    "X_test[\"type_TRANSFER\"] = df_encoded_test[\"type_TRANSFER\"].copy(deep=True)\n",
    "X_test[\"type_DEBIT\"] = df_encoded_test[\"type_DEBIT\"].copy(deep=True)"
   ]
  },
  {
   "cell_type": "code",
   "execution_count": 26,
   "id": "f0a4acbb",
   "metadata": {
    "scrolled": true
   },
   "outputs": [
    {
     "data": {
      "text/html": [
       "<div>\n",
       "<style scoped>\n",
       "    .dataframe tbody tr th:only-of-type {\n",
       "        vertical-align: middle;\n",
       "    }\n",
       "\n",
       "    .dataframe tbody tr th {\n",
       "        vertical-align: top;\n",
       "    }\n",
       "\n",
       "    .dataframe thead th {\n",
       "        text-align: right;\n",
       "    }\n",
       "</style>\n",
       "<table border=\"1\" class=\"dataframe\">\n",
       "  <thead>\n",
       "    <tr style=\"text-align: right;\">\n",
       "      <th></th>\n",
       "      <th>step</th>\n",
       "      <th>type</th>\n",
       "      <th>amount</th>\n",
       "      <th>nameOrig</th>\n",
       "      <th>oldbalanceOrg</th>\n",
       "      <th>newbalanceOrig</th>\n",
       "      <th>nameDest</th>\n",
       "      <th>oldbalanceDest</th>\n",
       "      <th>newbalanceDest</th>\n",
       "      <th>isFlaggedFraud</th>\n",
       "      <th>nameDest_freq</th>\n",
       "      <th>accountIsFraud</th>\n",
       "      <th>type_CASH_IN</th>\n",
       "      <th>type_PAYMENT</th>\n",
       "      <th>type_CASH_OUT</th>\n",
       "      <th>type_TRANSFER</th>\n",
       "      <th>type_DEBIT</th>\n",
       "    </tr>\n",
       "  </thead>\n",
       "  <tbody>\n",
       "    <tr>\n",
       "      <th>2947509</th>\n",
       "      <td>230</td>\n",
       "      <td>PAYMENT</td>\n",
       "      <td>-0.257447</td>\n",
       "      <td>C210872802</td>\n",
       "      <td>-0.271194</td>\n",
       "      <td>-0.283713</td>\n",
       "      <td>M1247923037</td>\n",
       "      <td>-0.324319</td>\n",
       "      <td>-0.333994</td>\n",
       "      <td>0</td>\n",
       "      <td>1</td>\n",
       "      <td>0</td>\n",
       "      <td>0</td>\n",
       "      <td>1</td>\n",
       "      <td>0</td>\n",
       "      <td>0</td>\n",
       "      <td>0</td>\n",
       "    </tr>\n",
       "    <tr>\n",
       "      <th>983137</th>\n",
       "      <td>44</td>\n",
       "      <td>CASH_IN</td>\n",
       "      <td>0.077512</td>\n",
       "      <td>C1220670739</td>\n",
       "      <td>1.032224</td>\n",
       "      <td>1.089761</td>\n",
       "      <td>C377231511</td>\n",
       "      <td>0.031367</td>\n",
       "      <td>-0.066627</td>\n",
       "      <td>0</td>\n",
       "      <td>22</td>\n",
       "      <td>0</td>\n",
       "      <td>1</td>\n",
       "      <td>0</td>\n",
       "      <td>0</td>\n",
       "      <td>0</td>\n",
       "      <td>0</td>\n",
       "    </tr>\n",
       "    <tr>\n",
       "      <th>2596796</th>\n",
       "      <td>208</td>\n",
       "      <td>PAYMENT</td>\n",
       "      <td>-0.298117</td>\n",
       "      <td>C987540411</td>\n",
       "      <td>-0.238801</td>\n",
       "      <td>-0.243356</td>\n",
       "      <td>M1894711811</td>\n",
       "      <td>-0.324319</td>\n",
       "      <td>-0.333994</td>\n",
       "      <td>0</td>\n",
       "      <td>1</td>\n",
       "      <td>0</td>\n",
       "      <td>0</td>\n",
       "      <td>1</td>\n",
       "      <td>0</td>\n",
       "      <td>0</td>\n",
       "      <td>0</td>\n",
       "    </tr>\n",
       "    <tr>\n",
       "      <th>3122557</th>\n",
       "      <td>236</td>\n",
       "      <td>CASH_OUT</td>\n",
       "      <td>-0.084856</td>\n",
       "      <td>C2130004271</td>\n",
       "      <td>-0.283200</td>\n",
       "      <td>-0.292517</td>\n",
       "      <td>C497476412</td>\n",
       "      <td>-0.324319</td>\n",
       "      <td>-0.298857</td>\n",
       "      <td>0</td>\n",
       "      <td>2</td>\n",
       "      <td>0</td>\n",
       "      <td>0</td>\n",
       "      <td>0</td>\n",
       "      <td>1</td>\n",
       "      <td>0</td>\n",
       "      <td>0</td>\n",
       "    </tr>\n",
       "    <tr>\n",
       "      <th>5998010</th>\n",
       "      <td>426</td>\n",
       "      <td>TRANSFER</td>\n",
       "      <td>0.031858</td>\n",
       "      <td>C82269278</td>\n",
       "      <td>-0.288800</td>\n",
       "      <td>-0.292517</td>\n",
       "      <td>C1469084853</td>\n",
       "      <td>-0.091638</td>\n",
       "      <td>-0.064424</td>\n",
       "      <td>0</td>\n",
       "      <td>7</td>\n",
       "      <td>0</td>\n",
       "      <td>0</td>\n",
       "      <td>0</td>\n",
       "      <td>0</td>\n",
       "      <td>1</td>\n",
       "      <td>0</td>\n",
       "    </tr>\n",
       "  </tbody>\n",
       "</table>\n",
       "</div>"
      ],
      "text/plain": [
       "         step      type    amount     nameOrig  oldbalanceOrg  newbalanceOrig  \\\n",
       "2947509   230   PAYMENT -0.257447   C210872802      -0.271194       -0.283713   \n",
       "983137     44   CASH_IN  0.077512  C1220670739       1.032224        1.089761   \n",
       "2596796   208   PAYMENT -0.298117   C987540411      -0.238801       -0.243356   \n",
       "3122557   236  CASH_OUT -0.084856  C2130004271      -0.283200       -0.292517   \n",
       "5998010   426  TRANSFER  0.031858    C82269278      -0.288800       -0.292517   \n",
       "\n",
       "            nameDest  oldbalanceDest  newbalanceDest  isFlaggedFraud  \\\n",
       "2947509  M1247923037       -0.324319       -0.333994               0   \n",
       "983137    C377231511        0.031367       -0.066627               0   \n",
       "2596796  M1894711811       -0.324319       -0.333994               0   \n",
       "3122557   C497476412       -0.324319       -0.298857               0   \n",
       "5998010  C1469084853       -0.091638       -0.064424               0   \n",
       "\n",
       "         nameDest_freq  accountIsFraud  type_CASH_IN  type_PAYMENT  \\\n",
       "2947509              1               0             0             1   \n",
       "983137              22               0             1             0   \n",
       "2596796              1               0             0             1   \n",
       "3122557              2               0             0             0   \n",
       "5998010              7               0             0             0   \n",
       "\n",
       "         type_CASH_OUT  type_TRANSFER  type_DEBIT  \n",
       "2947509              0              0           0  \n",
       "983137               0              0           0  \n",
       "2596796              0              0           0  \n",
       "3122557              1              0           0  \n",
       "5998010              0              1           0  "
      ]
     },
     "execution_count": 26,
     "metadata": {},
     "output_type": "execute_result"
    },
    {
     "data": {
      "application/javascript": [
       "\n",
       "            setTimeout(function() {\n",
       "                var nbb_cell_id = 26;\n",
       "                var nbb_unformatted_code = \"X_train.head()\";\n",
       "                var nbb_formatted_code = \"X_train.head()\";\n",
       "                var nbb_cells = Jupyter.notebook.get_cells();\n",
       "                for (var i = 0; i < nbb_cells.length; ++i) {\n",
       "                    if (nbb_cells[i].input_prompt_number == nbb_cell_id) {\n",
       "                        if (nbb_cells[i].get_text() == nbb_unformatted_code) {\n",
       "                             nbb_cells[i].set_text(nbb_formatted_code);\n",
       "                        }\n",
       "                        break;\n",
       "                    }\n",
       "                }\n",
       "            }, 500);\n",
       "            "
      ],
      "text/plain": [
       "<IPython.core.display.Javascript object>"
      ]
     },
     "metadata": {},
     "output_type": "display_data"
    }
   ],
   "source": [
    "X_train.head()"
   ]
  },
  {
   "cell_type": "markdown",
   "id": "341a46cd",
   "metadata": {},
   "source": [
    "#### Selecting variables for the model"
   ]
  },
  {
   "cell_type": "code",
   "execution_count": 27,
   "id": "c50c4355",
   "metadata": {},
   "outputs": [
    {
     "data": {
      "application/javascript": [
       "\n",
       "            setTimeout(function() {\n",
       "                var nbb_cell_id = 27;\n",
       "                var nbb_unformatted_code = \"# isFlaggedFraud will not be considered due to missing right input for values above 200,000.\\n# Among the numerical variables, it is interesting to keep the variables that are most correlated to the variable target, and less correlated among themselves.\\n# For categorical variables, it is necessary to keep them encoded.\\n\\nselected_X_train = X_train.drop(\\n    [\\\"type\\\", \\\"nameOrig\\\", \\\"nameDest\\\", \\\"isFlaggedFraud\\\",], axis=1,\\n)\\n\\nselected_X_test = X_test.drop(\\n    [\\\"type\\\", \\\"nameOrig\\\", \\\"nameDest\\\", \\\"isFlaggedFraud\\\",], axis=1,\\n)\";\n",
       "                var nbb_formatted_code = \"# isFlaggedFraud will not be considered due to missing right input for values above 200,000.\\n# Among the numerical variables, it is interesting to keep the variables that are most correlated to the variable target, and less correlated among themselves.\\n# For categorical variables, it is necessary to keep them encoded.\\n\\nselected_X_train = X_train.drop(\\n    [\\\"type\\\", \\\"nameOrig\\\", \\\"nameDest\\\", \\\"isFlaggedFraud\\\",], axis=1,\\n)\\n\\nselected_X_test = X_test.drop(\\n    [\\\"type\\\", \\\"nameOrig\\\", \\\"nameDest\\\", \\\"isFlaggedFraud\\\",], axis=1,\\n)\";\n",
       "                var nbb_cells = Jupyter.notebook.get_cells();\n",
       "                for (var i = 0; i < nbb_cells.length; ++i) {\n",
       "                    if (nbb_cells[i].input_prompt_number == nbb_cell_id) {\n",
       "                        if (nbb_cells[i].get_text() == nbb_unformatted_code) {\n",
       "                             nbb_cells[i].set_text(nbb_formatted_code);\n",
       "                        }\n",
       "                        break;\n",
       "                    }\n",
       "                }\n",
       "            }, 500);\n",
       "            "
      ],
      "text/plain": [
       "<IPython.core.display.Javascript object>"
      ]
     },
     "metadata": {},
     "output_type": "display_data"
    }
   ],
   "source": [
    "# isFlaggedFraud will not be considered due to missing right input for values above 200,000.\n",
    "# Among the numerical variables, it is interesting to keep the variables that are most correlated to the variable target, and less correlated among themselves.\n",
    "# For categorical variables, it is necessary to keep them encoded.\n",
    "\n",
    "selected_X_train = X_train.drop(\n",
    "    [\"type\", \"nameOrig\", \"nameDest\", \"isFlaggedFraud\",], axis=1,\n",
    ")\n",
    "\n",
    "selected_X_test = X_test.drop(\n",
    "    [\"type\", \"nameOrig\", \"nameDest\", \"isFlaggedFraud\",], axis=1,\n",
    ")"
   ]
  },
  {
   "cell_type": "code",
   "execution_count": 28,
   "id": "914bd564",
   "metadata": {},
   "outputs": [
    {
     "data": {
      "text/html": [
       "<div>\n",
       "<style scoped>\n",
       "    .dataframe tbody tr th:only-of-type {\n",
       "        vertical-align: middle;\n",
       "    }\n",
       "\n",
       "    .dataframe tbody tr th {\n",
       "        vertical-align: top;\n",
       "    }\n",
       "\n",
       "    .dataframe thead th {\n",
       "        text-align: right;\n",
       "    }\n",
       "</style>\n",
       "<table border=\"1\" class=\"dataframe\">\n",
       "  <thead>\n",
       "    <tr style=\"text-align: right;\">\n",
       "      <th></th>\n",
       "      <th>step</th>\n",
       "      <th>amount</th>\n",
       "      <th>oldbalanceOrg</th>\n",
       "      <th>newbalanceOrig</th>\n",
       "      <th>oldbalanceDest</th>\n",
       "      <th>newbalanceDest</th>\n",
       "      <th>nameDest_freq</th>\n",
       "      <th>accountIsFraud</th>\n",
       "      <th>type_CASH_IN</th>\n",
       "      <th>type_PAYMENT</th>\n",
       "      <th>type_CASH_OUT</th>\n",
       "      <th>type_TRANSFER</th>\n",
       "      <th>type_DEBIT</th>\n",
       "    </tr>\n",
       "  </thead>\n",
       "  <tbody>\n",
       "    <tr>\n",
       "      <th>2947509</th>\n",
       "      <td>230</td>\n",
       "      <td>-0.257447</td>\n",
       "      <td>-0.271194</td>\n",
       "      <td>-0.283713</td>\n",
       "      <td>-0.324319</td>\n",
       "      <td>-0.333994</td>\n",
       "      <td>1</td>\n",
       "      <td>0</td>\n",
       "      <td>0</td>\n",
       "      <td>1</td>\n",
       "      <td>0</td>\n",
       "      <td>0</td>\n",
       "      <td>0</td>\n",
       "    </tr>\n",
       "    <tr>\n",
       "      <th>983137</th>\n",
       "      <td>44</td>\n",
       "      <td>0.077512</td>\n",
       "      <td>1.032224</td>\n",
       "      <td>1.089761</td>\n",
       "      <td>0.031367</td>\n",
       "      <td>-0.066627</td>\n",
       "      <td>22</td>\n",
       "      <td>0</td>\n",
       "      <td>1</td>\n",
       "      <td>0</td>\n",
       "      <td>0</td>\n",
       "      <td>0</td>\n",
       "      <td>0</td>\n",
       "    </tr>\n",
       "    <tr>\n",
       "      <th>2596796</th>\n",
       "      <td>208</td>\n",
       "      <td>-0.298117</td>\n",
       "      <td>-0.238801</td>\n",
       "      <td>-0.243356</td>\n",
       "      <td>-0.324319</td>\n",
       "      <td>-0.333994</td>\n",
       "      <td>1</td>\n",
       "      <td>0</td>\n",
       "      <td>0</td>\n",
       "      <td>1</td>\n",
       "      <td>0</td>\n",
       "      <td>0</td>\n",
       "      <td>0</td>\n",
       "    </tr>\n",
       "    <tr>\n",
       "      <th>3122557</th>\n",
       "      <td>236</td>\n",
       "      <td>-0.084856</td>\n",
       "      <td>-0.283200</td>\n",
       "      <td>-0.292517</td>\n",
       "      <td>-0.324319</td>\n",
       "      <td>-0.298857</td>\n",
       "      <td>2</td>\n",
       "      <td>0</td>\n",
       "      <td>0</td>\n",
       "      <td>0</td>\n",
       "      <td>1</td>\n",
       "      <td>0</td>\n",
       "      <td>0</td>\n",
       "    </tr>\n",
       "    <tr>\n",
       "      <th>5998010</th>\n",
       "      <td>426</td>\n",
       "      <td>0.031858</td>\n",
       "      <td>-0.288800</td>\n",
       "      <td>-0.292517</td>\n",
       "      <td>-0.091638</td>\n",
       "      <td>-0.064424</td>\n",
       "      <td>7</td>\n",
       "      <td>0</td>\n",
       "      <td>0</td>\n",
       "      <td>0</td>\n",
       "      <td>0</td>\n",
       "      <td>1</td>\n",
       "      <td>0</td>\n",
       "    </tr>\n",
       "  </tbody>\n",
       "</table>\n",
       "</div>"
      ],
      "text/plain": [
       "         step    amount  oldbalanceOrg  newbalanceOrig  oldbalanceDest  \\\n",
       "2947509   230 -0.257447      -0.271194       -0.283713       -0.324319   \n",
       "983137     44  0.077512       1.032224        1.089761        0.031367   \n",
       "2596796   208 -0.298117      -0.238801       -0.243356       -0.324319   \n",
       "3122557   236 -0.084856      -0.283200       -0.292517       -0.324319   \n",
       "5998010   426  0.031858      -0.288800       -0.292517       -0.091638   \n",
       "\n",
       "         newbalanceDest  nameDest_freq  accountIsFraud  type_CASH_IN  \\\n",
       "2947509       -0.333994              1               0             0   \n",
       "983137        -0.066627             22               0             1   \n",
       "2596796       -0.333994              1               0             0   \n",
       "3122557       -0.298857              2               0             0   \n",
       "5998010       -0.064424              7               0             0   \n",
       "\n",
       "         type_PAYMENT  type_CASH_OUT  type_TRANSFER  type_DEBIT  \n",
       "2947509             1              0              0           0  \n",
       "983137              0              0              0           0  \n",
       "2596796             1              0              0           0  \n",
       "3122557             0              1              0           0  \n",
       "5998010             0              0              1           0  "
      ]
     },
     "execution_count": 28,
     "metadata": {},
     "output_type": "execute_result"
    },
    {
     "data": {
      "application/javascript": [
       "\n",
       "            setTimeout(function() {\n",
       "                var nbb_cell_id = 28;\n",
       "                var nbb_unformatted_code = \"selected_X_train.head()\";\n",
       "                var nbb_formatted_code = \"selected_X_train.head()\";\n",
       "                var nbb_cells = Jupyter.notebook.get_cells();\n",
       "                for (var i = 0; i < nbb_cells.length; ++i) {\n",
       "                    if (nbb_cells[i].input_prompt_number == nbb_cell_id) {\n",
       "                        if (nbb_cells[i].get_text() == nbb_unformatted_code) {\n",
       "                             nbb_cells[i].set_text(nbb_formatted_code);\n",
       "                        }\n",
       "                        break;\n",
       "                    }\n",
       "                }\n",
       "            }, 500);\n",
       "            "
      ],
      "text/plain": [
       "<IPython.core.display.Javascript object>"
      ]
     },
     "metadata": {},
     "output_type": "display_data"
    }
   ],
   "source": [
    "selected_X_train.head()"
   ]
  },
  {
   "cell_type": "markdown",
   "id": "a55af8f7",
   "metadata": {},
   "source": [
    "## Logistic Regression: Trial #1 - training the model"
   ]
  },
  {
   "cell_type": "code",
   "execution_count": 29,
   "id": "5b237abc",
   "metadata": {},
   "outputs": [
    {
     "data": {
      "application/javascript": [
       "\n",
       "            setTimeout(function() {\n",
       "                var nbb_cell_id = 29;\n",
       "                var nbb_unformatted_code = \"model = LogisticRegression(max_iter=100, multi_class=\\\"ovr\\\", solver=\\\"saga\\\", penalty=\\\"l1\\\")\";\n",
       "                var nbb_formatted_code = \"model = LogisticRegression(max_iter=100, multi_class=\\\"ovr\\\", solver=\\\"saga\\\", penalty=\\\"l1\\\")\";\n",
       "                var nbb_cells = Jupyter.notebook.get_cells();\n",
       "                for (var i = 0; i < nbb_cells.length; ++i) {\n",
       "                    if (nbb_cells[i].input_prompt_number == nbb_cell_id) {\n",
       "                        if (nbb_cells[i].get_text() == nbb_unformatted_code) {\n",
       "                             nbb_cells[i].set_text(nbb_formatted_code);\n",
       "                        }\n",
       "                        break;\n",
       "                    }\n",
       "                }\n",
       "            }, 500);\n",
       "            "
      ],
      "text/plain": [
       "<IPython.core.display.Javascript object>"
      ]
     },
     "metadata": {},
     "output_type": "display_data"
    }
   ],
   "source": [
    "model = LogisticRegression(max_iter=100, multi_class=\"ovr\", solver=\"saga\", penalty=\"l1\")"
   ]
  },
  {
   "cell_type": "code",
   "execution_count": 30,
   "id": "69cbc672",
   "metadata": {},
   "outputs": [
    {
     "name": "stderr",
     "output_type": "stream",
     "text": [
      "C:\\Users\\User\\anaconda3\\lib\\site-packages\\sklearn\\utils\\validation.py:1111: DataConversionWarning: A column-vector y was passed when a 1d array was expected. Please change the shape of y to (n_samples, ), for example using ravel().\n",
      "  y = column_or_1d(y, warn=True)\n",
      "C:\\Users\\User\\anaconda3\\lib\\site-packages\\sklearn\\linear_model\\_sag.py:350: ConvergenceWarning: The max_iter was reached which means the coef_ did not converge\n",
      "  warnings.warn(\n"
     ]
    },
    {
     "data": {
      "text/html": [
       "<style>#sk-container-id-1 {color: black;background-color: white;}#sk-container-id-1 pre{padding: 0;}#sk-container-id-1 div.sk-toggleable {background-color: white;}#sk-container-id-1 label.sk-toggleable__label {cursor: pointer;display: block;width: 100%;margin-bottom: 0;padding: 0.3em;box-sizing: border-box;text-align: center;}#sk-container-id-1 label.sk-toggleable__label-arrow:before {content: \"▸\";float: left;margin-right: 0.25em;color: #696969;}#sk-container-id-1 label.sk-toggleable__label-arrow:hover:before {color: black;}#sk-container-id-1 div.sk-estimator:hover label.sk-toggleable__label-arrow:before {color: black;}#sk-container-id-1 div.sk-toggleable__content {max-height: 0;max-width: 0;overflow: hidden;text-align: left;background-color: #f0f8ff;}#sk-container-id-1 div.sk-toggleable__content pre {margin: 0.2em;color: black;border-radius: 0.25em;background-color: #f0f8ff;}#sk-container-id-1 input.sk-toggleable__control:checked~div.sk-toggleable__content {max-height: 200px;max-width: 100%;overflow: auto;}#sk-container-id-1 input.sk-toggleable__control:checked~label.sk-toggleable__label-arrow:before {content: \"▾\";}#sk-container-id-1 div.sk-estimator input.sk-toggleable__control:checked~label.sk-toggleable__label {background-color: #d4ebff;}#sk-container-id-1 div.sk-label input.sk-toggleable__control:checked~label.sk-toggleable__label {background-color: #d4ebff;}#sk-container-id-1 input.sk-hidden--visually {border: 0;clip: rect(1px 1px 1px 1px);clip: rect(1px, 1px, 1px, 1px);height: 1px;margin: -1px;overflow: hidden;padding: 0;position: absolute;width: 1px;}#sk-container-id-1 div.sk-estimator {font-family: monospace;background-color: #f0f8ff;border: 1px dotted black;border-radius: 0.25em;box-sizing: border-box;margin-bottom: 0.5em;}#sk-container-id-1 div.sk-estimator:hover {background-color: #d4ebff;}#sk-container-id-1 div.sk-parallel-item::after {content: \"\";width: 100%;border-bottom: 1px solid gray;flex-grow: 1;}#sk-container-id-1 div.sk-label:hover label.sk-toggleable__label {background-color: #d4ebff;}#sk-container-id-1 div.sk-serial::before {content: \"\";position: absolute;border-left: 1px solid gray;box-sizing: border-box;top: 0;bottom: 0;left: 50%;z-index: 0;}#sk-container-id-1 div.sk-serial {display: flex;flex-direction: column;align-items: center;background-color: white;padding-right: 0.2em;padding-left: 0.2em;position: relative;}#sk-container-id-1 div.sk-item {position: relative;z-index: 1;}#sk-container-id-1 div.sk-parallel {display: flex;align-items: stretch;justify-content: center;background-color: white;position: relative;}#sk-container-id-1 div.sk-item::before, #sk-container-id-1 div.sk-parallel-item::before {content: \"\";position: absolute;border-left: 1px solid gray;box-sizing: border-box;top: 0;bottom: 0;left: 50%;z-index: -1;}#sk-container-id-1 div.sk-parallel-item {display: flex;flex-direction: column;z-index: 1;position: relative;background-color: white;}#sk-container-id-1 div.sk-parallel-item:first-child::after {align-self: flex-end;width: 50%;}#sk-container-id-1 div.sk-parallel-item:last-child::after {align-self: flex-start;width: 50%;}#sk-container-id-1 div.sk-parallel-item:only-child::after {width: 0;}#sk-container-id-1 div.sk-dashed-wrapped {border: 1px dashed gray;margin: 0 0.4em 0.5em 0.4em;box-sizing: border-box;padding-bottom: 0.4em;background-color: white;}#sk-container-id-1 div.sk-label label {font-family: monospace;font-weight: bold;display: inline-block;line-height: 1.2em;}#sk-container-id-1 div.sk-label-container {text-align: center;}#sk-container-id-1 div.sk-container {/* jupyter's `normalize.less` sets `[hidden] { display: none; }` but bootstrap.min.css set `[hidden] { display: none !important; }` so we also need the `!important` here to be able to override the default hidden behavior on the sphinx rendered scikit-learn.org. See: https://github.com/scikit-learn/scikit-learn/issues/21755 */display: inline-block !important;position: relative;}#sk-container-id-1 div.sk-text-repr-fallback {display: none;}</style><div id=\"sk-container-id-1\" class=\"sk-top-container\"><div class=\"sk-text-repr-fallback\"><pre>LogisticRegression(multi_class=&#x27;ovr&#x27;, penalty=&#x27;l1&#x27;, solver=&#x27;saga&#x27;)</pre><b>In a Jupyter environment, please rerun this cell to show the HTML representation or trust the notebook. <br />On GitHub, the HTML representation is unable to render, please try loading this page with nbviewer.org.</b></div><div class=\"sk-container\" hidden><div class=\"sk-item\"><div class=\"sk-estimator sk-toggleable\"><input class=\"sk-toggleable__control sk-hidden--visually\" id=\"sk-estimator-id-1\" type=\"checkbox\" checked><label for=\"sk-estimator-id-1\" class=\"sk-toggleable__label sk-toggleable__label-arrow\">LogisticRegression</label><div class=\"sk-toggleable__content\"><pre>LogisticRegression(multi_class=&#x27;ovr&#x27;, penalty=&#x27;l1&#x27;, solver=&#x27;saga&#x27;)</pre></div></div></div></div></div>"
      ],
      "text/plain": [
       "LogisticRegression(multi_class='ovr', penalty='l1', solver='saga')"
      ]
     },
     "execution_count": 30,
     "metadata": {},
     "output_type": "execute_result"
    },
    {
     "data": {
      "application/javascript": [
       "\n",
       "            setTimeout(function() {\n",
       "                var nbb_cell_id = 30;\n",
       "                var nbb_unformatted_code = \"model.fit(selected_X_train, y_train)\";\n",
       "                var nbb_formatted_code = \"model.fit(selected_X_train, y_train)\";\n",
       "                var nbb_cells = Jupyter.notebook.get_cells();\n",
       "                for (var i = 0; i < nbb_cells.length; ++i) {\n",
       "                    if (nbb_cells[i].input_prompt_number == nbb_cell_id) {\n",
       "                        if (nbb_cells[i].get_text() == nbb_unformatted_code) {\n",
       "                             nbb_cells[i].set_text(nbb_formatted_code);\n",
       "                        }\n",
       "                        break;\n",
       "                    }\n",
       "                }\n",
       "            }, 500);\n",
       "            "
      ],
      "text/plain": [
       "<IPython.core.display.Javascript object>"
      ]
     },
     "metadata": {},
     "output_type": "display_data"
    }
   ],
   "source": [
    "model.fit(selected_X_train, y_train)"
   ]
  },
  {
   "cell_type": "markdown",
   "id": "96026f09",
   "metadata": {},
   "source": [
    "## Metrics"
   ]
  },
  {
   "cell_type": "code",
   "execution_count": 31,
   "id": "de4679cf",
   "metadata": {},
   "outputs": [
    {
     "data": {
      "application/javascript": [
       "\n",
       "            setTimeout(function() {\n",
       "                var nbb_cell_id = 31;\n",
       "                var nbb_unformatted_code = \"y_pred = model.predict(selected_X_test)\";\n",
       "                var nbb_formatted_code = \"y_pred = model.predict(selected_X_test)\";\n",
       "                var nbb_cells = Jupyter.notebook.get_cells();\n",
       "                for (var i = 0; i < nbb_cells.length; ++i) {\n",
       "                    if (nbb_cells[i].input_prompt_number == nbb_cell_id) {\n",
       "                        if (nbb_cells[i].get_text() == nbb_unformatted_code) {\n",
       "                             nbb_cells[i].set_text(nbb_formatted_code);\n",
       "                        }\n",
       "                        break;\n",
       "                    }\n",
       "                }\n",
       "            }, 500);\n",
       "            "
      ],
      "text/plain": [
       "<IPython.core.display.Javascript object>"
      ]
     },
     "metadata": {},
     "output_type": "display_data"
    }
   ],
   "source": [
    "y_pred = model.predict(selected_X_test)"
   ]
  },
  {
   "cell_type": "code",
   "execution_count": 32,
   "id": "e9e93232",
   "metadata": {},
   "outputs": [
    {
     "name": "stdout",
     "output_type": "stream",
     "text": [
      "              precision    recall  f1-score   support\n",
      "\n",
      "           0       1.00      1.00      1.00   1588602\n",
      "           1       0.80      0.09      0.15      2053\n",
      "\n",
      "    accuracy                           1.00   1590655\n",
      "   macro avg       0.90      0.54      0.58   1590655\n",
      "weighted avg       1.00      1.00      1.00   1590655\n",
      "\n"
     ]
    },
    {
     "data": {
      "application/javascript": [
       "\n",
       "            setTimeout(function() {\n",
       "                var nbb_cell_id = 32;\n",
       "                var nbb_unformatted_code = \"print(classification_report(y_test, y_pred))\";\n",
       "                var nbb_formatted_code = \"print(classification_report(y_test, y_pred))\";\n",
       "                var nbb_cells = Jupyter.notebook.get_cells();\n",
       "                for (var i = 0; i < nbb_cells.length; ++i) {\n",
       "                    if (nbb_cells[i].input_prompt_number == nbb_cell_id) {\n",
       "                        if (nbb_cells[i].get_text() == nbb_unformatted_code) {\n",
       "                             nbb_cells[i].set_text(nbb_formatted_code);\n",
       "                        }\n",
       "                        break;\n",
       "                    }\n",
       "                }\n",
       "            }, 500);\n",
       "            "
      ],
      "text/plain": [
       "<IPython.core.display.Javascript object>"
      ]
     },
     "metadata": {},
     "output_type": "display_data"
    }
   ],
   "source": [
    "print(classification_report(y_test, y_pred))"
   ]
  },
  {
   "cell_type": "markdown",
   "id": "bd158216",
   "metadata": {},
   "source": [
    "#### Trial #1 with max_iter=100, multi_class=\"ovr\", solver=\"saga\" and penalty=\"l1\" did not perform so well.\n",
    "#### I will try as logisticregression()."
   ]
  },
  {
   "cell_type": "markdown",
   "id": "79c3e02f",
   "metadata": {},
   "source": [
    "### Auxiliar Functions"
   ]
  },
  {
   "cell_type": "code",
   "execution_count": 33,
   "id": "f41c4f45",
   "metadata": {},
   "outputs": [
    {
     "data": {
      "application/javascript": [
       "\n",
       "            setTimeout(function() {\n",
       "                var nbb_cell_id = 33;\n",
       "                var nbb_unformatted_code = \"### Auxiliar Functions\\n\\n\\ndef plot_proportion(y_true):\\n    plt.style.use(\\\"ggplot\\\")\\n    aux = (\\n        pd.Series(y_true)\\n        .value_counts()\\n        .reset_index()\\n        .rename({\\\"index\\\": \\\"class\\\", 0: \\\"samples\\\"}, axis=1)\\n    )\\n    fig, ax = plt.subplots(figsize=(12, 5))\\n    ax = sns.barplot(data=aux, x=\\\"class\\\", y=\\\"samples\\\", ax=ax)\\n    ax.bar_label(ax.containers[0])\\n\\n\\ndef evaluate(y_true, y_pred_proba, threshold=0.5):\\n    y_pred = (y_pred_proba >= threshold).astype(int)\\n    results = dict()\\n    results[\\\"accuracy\\\"] = accuracy_score(y_true, y_pred)\\n    results[\\\"precision\\\"] = precision_score(y_true, y_pred)\\n    results[\\\"recall\\\"] = recall_score(y_true, y_pred)\\n    results[\\\"f1\\\"] = f1_score(y_true, y_pred)\\n    return results\\n\\n\\ndef predict(cls, X_train, y_train, X_test, y_test, name):\\n    cls.fit(X_train, y_train)\\n    y_pred_proba = cls.predict_proba(X_test)[:, 1]\\n    metrics = evaluate(y_test, y_pred_proba)\\n    metrics[\\\"name\\\"] = name\\n    return metrics, y_pred_proba\\n\\n\\ndef append(df, row):\\n    return pd.concat([df, pd.DataFrame([row])]).sort_values(\\\"recall\\\", ascending=False)\";\n",
       "                var nbb_formatted_code = \"### Auxiliar Functions\\n\\n\\ndef plot_proportion(y_true):\\n    plt.style.use(\\\"ggplot\\\")\\n    aux = (\\n        pd.Series(y_true)\\n        .value_counts()\\n        .reset_index()\\n        .rename({\\\"index\\\": \\\"class\\\", 0: \\\"samples\\\"}, axis=1)\\n    )\\n    fig, ax = plt.subplots(figsize=(12, 5))\\n    ax = sns.barplot(data=aux, x=\\\"class\\\", y=\\\"samples\\\", ax=ax)\\n    ax.bar_label(ax.containers[0])\\n\\n\\ndef evaluate(y_true, y_pred_proba, threshold=0.5):\\n    y_pred = (y_pred_proba >= threshold).astype(int)\\n    results = dict()\\n    results[\\\"accuracy\\\"] = accuracy_score(y_true, y_pred)\\n    results[\\\"precision\\\"] = precision_score(y_true, y_pred)\\n    results[\\\"recall\\\"] = recall_score(y_true, y_pred)\\n    results[\\\"f1\\\"] = f1_score(y_true, y_pred)\\n    return results\\n\\n\\ndef predict(cls, X_train, y_train, X_test, y_test, name):\\n    cls.fit(X_train, y_train)\\n    y_pred_proba = cls.predict_proba(X_test)[:, 1]\\n    metrics = evaluate(y_test, y_pred_proba)\\n    metrics[\\\"name\\\"] = name\\n    return metrics, y_pred_proba\\n\\n\\ndef append(df, row):\\n    return pd.concat([df, pd.DataFrame([row])]).sort_values(\\\"recall\\\", ascending=False)\";\n",
       "                var nbb_cells = Jupyter.notebook.get_cells();\n",
       "                for (var i = 0; i < nbb_cells.length; ++i) {\n",
       "                    if (nbb_cells[i].input_prompt_number == nbb_cell_id) {\n",
       "                        if (nbb_cells[i].get_text() == nbb_unformatted_code) {\n",
       "                             nbb_cells[i].set_text(nbb_formatted_code);\n",
       "                        }\n",
       "                        break;\n",
       "                    }\n",
       "                }\n",
       "            }, 500);\n",
       "            "
      ],
      "text/plain": [
       "<IPython.core.display.Javascript object>"
      ]
     },
     "metadata": {},
     "output_type": "display_data"
    }
   ],
   "source": [
    "### Auxiliar Functions\n",
    "\n",
    "\n",
    "def plot_proportion(y_true):\n",
    "    plt.style.use(\"ggplot\")\n",
    "    aux = (\n",
    "        pd.Series(y_true)\n",
    "        .value_counts()\n",
    "        .reset_index()\n",
    "        .rename({\"index\": \"class\", 0: \"samples\"}, axis=1)\n",
    "    )\n",
    "    fig, ax = plt.subplots(figsize=(12, 5))\n",
    "    ax = sns.barplot(data=aux, x=\"class\", y=\"samples\", ax=ax)\n",
    "    ax.bar_label(ax.containers[0])\n",
    "\n",
    "\n",
    "def evaluate(y_true, y_pred_proba, threshold=0.5):\n",
    "    y_pred = (y_pred_proba >= threshold).astype(int)\n",
    "    results = dict()\n",
    "    results[\"accuracy\"] = accuracy_score(y_true, y_pred)\n",
    "    results[\"precision\"] = precision_score(y_true, y_pred)\n",
    "    results[\"recall\"] = recall_score(y_true, y_pred)\n",
    "    results[\"f1\"] = f1_score(y_true, y_pred)\n",
    "    return results\n",
    "\n",
    "\n",
    "def predict(cls, X_train, y_train, X_test, y_test, name):\n",
    "    cls.fit(X_train, y_train)\n",
    "    y_pred_proba = cls.predict_proba(X_test)[:, 1]\n",
    "    metrics = evaluate(y_test, y_pred_proba)\n",
    "    metrics[\"name\"] = name\n",
    "    return metrics, y_pred_proba\n",
    "\n",
    "\n",
    "def append(df, row):\n",
    "    return pd.concat([df, pd.DataFrame([row])]).sort_values(\"recall\", ascending=False)"
   ]
  },
  {
   "cell_type": "code",
   "execution_count": 34,
   "id": "b2562bdc",
   "metadata": {},
   "outputs": [
    {
     "name": "stderr",
     "output_type": "stream",
     "text": [
      "C:\\Users\\User\\anaconda3\\lib\\site-packages\\sklearn\\utils\\validation.py:1111: DataConversionWarning: A column-vector y was passed when a 1d array was expected. Please change the shape of y to (n_samples, ), for example using ravel().\n",
      "  y = column_or_1d(y, warn=True)\n",
      "C:\\Users\\User\\anaconda3\\lib\\site-packages\\sklearn\\linear_model\\_logistic.py:444: ConvergenceWarning: lbfgs failed to converge (status=1):\n",
      "STOP: TOTAL NO. of ITERATIONS REACHED LIMIT.\n",
      "\n",
      "Increase the number of iterations (max_iter) or scale the data as shown in:\n",
      "    https://scikit-learn.org/stable/modules/preprocessing.html\n",
      "Please also refer to the documentation for alternative solver options:\n",
      "    https://scikit-learn.org/stable/modules/linear_model.html#logistic-regression\n",
      "  n_iter_i = _check_optimize_result(\n"
     ]
    },
    {
     "data": {
      "text/plain": [
       "{'accuracy': 0.9994832317504424,\n",
       " 'precision': 0.9659348978046934,\n",
       " 'recall': 0.6215294690696541,\n",
       " 'f1': 0.7563722584469472,\n",
       " 'name': 'benchmark'}"
      ]
     },
     "execution_count": 34,
     "metadata": {},
     "output_type": "execute_result"
    },
    {
     "data": {
      "application/javascript": [
       "\n",
       "            setTimeout(function() {\n",
       "                var nbb_cell_id = 34;\n",
       "                var nbb_unformatted_code = \"# I will call the first trial \\\"Benchmark\\\"\\nlr = LogisticRegression()\\nbench_metric, y_pred_proba = predict(\\n    lr, selected_X_train, y_train, selected_X_test, y_test, \\\"benchmark\\\"\\n)\\nbench_metric\";\n",
       "                var nbb_formatted_code = \"# I will call the first trial \\\"Benchmark\\\"\\nlr = LogisticRegression()\\nbench_metric, y_pred_proba = predict(\\n    lr, selected_X_train, y_train, selected_X_test, y_test, \\\"benchmark\\\"\\n)\\nbench_metric\";\n",
       "                var nbb_cells = Jupyter.notebook.get_cells();\n",
       "                for (var i = 0; i < nbb_cells.length; ++i) {\n",
       "                    if (nbb_cells[i].input_prompt_number == nbb_cell_id) {\n",
       "                        if (nbb_cells[i].get_text() == nbb_unformatted_code) {\n",
       "                             nbb_cells[i].set_text(nbb_formatted_code);\n",
       "                        }\n",
       "                        break;\n",
       "                    }\n",
       "                }\n",
       "            }, 500);\n",
       "            "
      ],
      "text/plain": [
       "<IPython.core.display.Javascript object>"
      ]
     },
     "metadata": {},
     "output_type": "display_data"
    }
   ],
   "source": [
    "# I will call the first trial \"Benchmark\"\n",
    "lr = LogisticRegression()\n",
    "bench_metric, y_pred_proba = predict(\n",
    "    lr, selected_X_train, y_train, selected_X_test, y_test, \"benchmark\"\n",
    ")\n",
    "bench_metric"
   ]
  },
  {
   "cell_type": "code",
   "execution_count": 35,
   "id": "f73d472a",
   "metadata": {},
   "outputs": [
    {
     "data": {
      "image/png": "[encoded data removed]",
      "text/plain": [
       "<Figure size 648x648 with 2 Axes>"
      ]
     },
     "metadata": {},
     "output_type": "display_data"
    },
    {
     "data": {
      "application/javascript": [
       "\n",
       "            setTimeout(function() {\n",
       "                var nbb_cell_id = 35;\n",
       "                var nbb_unformatted_code = \"ConfusionMatrixDisplay.from_predictions(\\n    y_test, (y_pred_proba >= 0.5).astype(int), cmap=\\\"Blues\\\"\\n) #Threshold = 0.5\\nplt.grid(False)\";\n",
       "                var nbb_formatted_code = \"ConfusionMatrixDisplay.from_predictions(\\n    y_test, (y_pred_proba >= 0.5).astype(int), cmap=\\\"Blues\\\"\\n)  # Threshold = 0.5\\nplt.grid(False)\";\n",
       "                var nbb_cells = Jupyter.notebook.get_cells();\n",
       "                for (var i = 0; i < nbb_cells.length; ++i) {\n",
       "                    if (nbb_cells[i].input_prompt_number == nbb_cell_id) {\n",
       "                        if (nbb_cells[i].get_text() == nbb_unformatted_code) {\n",
       "                             nbb_cells[i].set_text(nbb_formatted_code);\n",
       "                        }\n",
       "                        break;\n",
       "                    }\n",
       "                }\n",
       "            }, 500);\n",
       "            "
      ],
      "text/plain": [
       "<IPython.core.display.Javascript object>"
      ]
     },
     "metadata": {},
     "output_type": "display_data"
    }
   ],
   "source": [
    "ConfusionMatrixDisplay.from_predictions(\n",
    "    y_test, (y_pred_proba >= 0.5).astype(int), cmap=\"Blues\"\n",
    ")  # Threshold = 0.5\n",
    "plt.grid(False)"
   ]
  },
  {
   "cell_type": "code",
   "execution_count": 36,
   "id": "3b702c82",
   "metadata": {},
   "outputs": [
    {
     "data": {
      "text/html": [
       "<div>\n",
       "<style scoped>\n",
       "    .dataframe tbody tr th:only-of-type {\n",
       "        vertical-align: middle;\n",
       "    }\n",
       "\n",
       "    .dataframe tbody tr th {\n",
       "        vertical-align: top;\n",
       "    }\n",
       "\n",
       "    .dataframe thead th {\n",
       "        text-align: right;\n",
       "    }\n",
       "</style>\n",
       "<table border=\"1\" class=\"dataframe\">\n",
       "  <thead>\n",
       "    <tr style=\"text-align: right;\">\n",
       "      <th></th>\n",
       "      <th>accuracy</th>\n",
       "      <th>precision</th>\n",
       "      <th>recall</th>\n",
       "      <th>f1</th>\n",
       "      <th>name</th>\n",
       "    </tr>\n",
       "  </thead>\n",
       "  <tbody>\n",
       "    <tr>\n",
       "      <th>0</th>\n",
       "      <td>0.999483</td>\n",
       "      <td>0.965935</td>\n",
       "      <td>0.621529</td>\n",
       "      <td>0.756372</td>\n",
       "      <td>benchmark</td>\n",
       "    </tr>\n",
       "  </tbody>\n",
       "</table>\n",
       "</div>"
      ],
      "text/plain": [
       "   accuracy  precision    recall        f1       name\n",
       "0  0.999483   0.965935  0.621529  0.756372  benchmark"
      ]
     },
     "execution_count": 36,
     "metadata": {},
     "output_type": "execute_result"
    },
    {
     "data": {
      "application/javascript": [
       "\n",
       "            setTimeout(function() {\n",
       "                var nbb_cell_id = 36;\n",
       "                var nbb_unformatted_code = \"evaluations = pd.DataFrame()\\nevaluations = append(evaluations, bench_metric)\\nevaluations\";\n",
       "                var nbb_formatted_code = \"evaluations = pd.DataFrame()\\nevaluations = append(evaluations, bench_metric)\\nevaluations\";\n",
       "                var nbb_cells = Jupyter.notebook.get_cells();\n",
       "                for (var i = 0; i < nbb_cells.length; ++i) {\n",
       "                    if (nbb_cells[i].input_prompt_number == nbb_cell_id) {\n",
       "                        if (nbb_cells[i].get_text() == nbb_unformatted_code) {\n",
       "                             nbb_cells[i].set_text(nbb_formatted_code);\n",
       "                        }\n",
       "                        break;\n",
       "                    }\n",
       "                }\n",
       "            }, 500);\n",
       "            "
      ],
      "text/plain": [
       "<IPython.core.display.Javascript object>"
      ]
     },
     "metadata": {},
     "output_type": "display_data"
    }
   ],
   "source": [
    "evaluations = pd.DataFrame()\n",
    "evaluations = append(evaluations, bench_metric)\n",
    "evaluations"
   ]
  },
  {
   "cell_type": "markdown",
   "id": "6e4eee70",
   "metadata": {},
   "source": [
    "## Finding the best Threshold"
   ]
  },
  {
   "cell_type": "code",
   "execution_count": 37,
   "id": "cd1dfcdf",
   "metadata": {},
   "outputs": [
    {
     "data": {
      "text/html": [
       "<div>\n",
       "<style scoped>\n",
       "    .dataframe tbody tr th:only-of-type {\n",
       "        vertical-align: middle;\n",
       "    }\n",
       "\n",
       "    .dataframe tbody tr th {\n",
       "        vertical-align: top;\n",
       "    }\n",
       "\n",
       "    .dataframe thead th {\n",
       "        text-align: right;\n",
       "    }\n",
       "</style>\n",
       "<table border=\"1\" class=\"dataframe\">\n",
       "  <thead>\n",
       "    <tr style=\"text-align: right;\">\n",
       "      <th></th>\n",
       "      <th>accuracy</th>\n",
       "      <th>precision</th>\n",
       "      <th>recall</th>\n",
       "      <th>f1</th>\n",
       "      <th>name</th>\n",
       "    </tr>\n",
       "  </thead>\n",
       "  <tbody>\n",
       "    <tr>\n",
       "      <th>0</th>\n",
       "      <td>0.999271</td>\n",
       "      <td>0.659750</td>\n",
       "      <td>0.898198</td>\n",
       "      <td>0.760726</td>\n",
       "      <td>threshold_0.1</td>\n",
       "    </tr>\n",
       "    <tr>\n",
       "      <th>0</th>\n",
       "      <td>0.999483</td>\n",
       "      <td>0.965935</td>\n",
       "      <td>0.621529</td>\n",
       "      <td>0.756372</td>\n",
       "      <td>benchmark</td>\n",
       "    </tr>\n",
       "  </tbody>\n",
       "</table>\n",
       "</div>"
      ],
      "text/plain": [
       "   accuracy  precision    recall        f1           name\n",
       "0  0.999271   0.659750  0.898198  0.760726  threshold_0.1\n",
       "0  0.999483   0.965935  0.621529  0.756372      benchmark"
      ]
     },
     "execution_count": 37,
     "metadata": {},
     "output_type": "execute_result"
    },
    {
     "data": {
      "application/javascript": [
       "\n",
       "            setTimeout(function() {\n",
       "                var nbb_cell_id = 37;\n",
       "                var nbb_unformatted_code = \"# The function below will generate as result the threshold with the best score for the recall\\nbest_recall = 0\\nbest_threshold = 0\\nfor i in range(1, 10):\\n    recall = evaluate(y_test, y_pred_proba, threshold=i / 10)[\\\"recall\\\"]\\n    if recall >= best_recall:\\n        best_threshold = i / 10\\n        best_recall = recall\\n\\nthreshold_metric = evaluate(y_test, y_pred_proba, threshold=best_threshold)\\nthreshold_metric[\\\"name\\\"] = f\\\"threshold_{best_threshold}\\\"\\nevaluations = append(evaluations, threshold_metric)\\nevaluations\";\n",
       "                var nbb_formatted_code = \"# The function below will generate as result the threshold with the best score for the recall\\nbest_recall = 0\\nbest_threshold = 0\\nfor i in range(1, 10):\\n    recall = evaluate(y_test, y_pred_proba, threshold=i / 10)[\\\"recall\\\"]\\n    if recall >= best_recall:\\n        best_threshold = i / 10\\n        best_recall = recall\\n\\nthreshold_metric = evaluate(y_test, y_pred_proba, threshold=best_threshold)\\nthreshold_metric[\\\"name\\\"] = f\\\"threshold_{best_threshold}\\\"\\nevaluations = append(evaluations, threshold_metric)\\nevaluations\";\n",
       "                var nbb_cells = Jupyter.notebook.get_cells();\n",
       "                for (var i = 0; i < nbb_cells.length; ++i) {\n",
       "                    if (nbb_cells[i].input_prompt_number == nbb_cell_id) {\n",
       "                        if (nbb_cells[i].get_text() == nbb_unformatted_code) {\n",
       "                             nbb_cells[i].set_text(nbb_formatted_code);\n",
       "                        }\n",
       "                        break;\n",
       "                    }\n",
       "                }\n",
       "            }, 500);\n",
       "            "
      ],
      "text/plain": [
       "<IPython.core.display.Javascript object>"
      ]
     },
     "metadata": {},
     "output_type": "display_data"
    }
   ],
   "source": [
    "# The function below will generate as result the threshold with the best score for the recall\n",
    "best_recall = 0\n",
    "best_threshold = 0\n",
    "for i in range(1, 10):\n",
    "    recall = evaluate(y_test, y_pred_proba, threshold=i / 10)[\"recall\"]\n",
    "    if recall >= best_recall:\n",
    "        best_threshold = i / 10\n",
    "        best_recall = recall\n",
    "\n",
    "threshold_metric = evaluate(y_test, y_pred_proba, threshold=best_threshold)\n",
    "threshold_metric[\"name\"] = f\"threshold_{best_threshold}\"\n",
    "evaluations = append(evaluations, threshold_metric)\n",
    "evaluations"
   ]
  },
  {
   "cell_type": "code",
   "execution_count": 38,
   "id": "c7a87717",
   "metadata": {},
   "outputs": [
    {
     "data": {
      "image/png": "[encoded data removed]",
      "text/plain": [
       "<Figure size 648x648 with 2 Axes>"
      ]
     },
     "metadata": {},
     "output_type": "display_data"
    },
    {
     "data": {
      "application/javascript": [
       "\n",
       "            setTimeout(function() {\n",
       "                var nbb_cell_id = 38;\n",
       "                var nbb_unformatted_code = \"ConfusionMatrixDisplay.from_predictions(\\n    y_test, (y_pred_proba >= 0.3).astype(int), cmap=\\\"Blues\\\"\\n)\\nplt.grid(False)\";\n",
       "                var nbb_formatted_code = \"ConfusionMatrixDisplay.from_predictions(\\n    y_test, (y_pred_proba >= 0.3).astype(int), cmap=\\\"Blues\\\"\\n)\\nplt.grid(False)\";\n",
       "                var nbb_cells = Jupyter.notebook.get_cells();\n",
       "                for (var i = 0; i < nbb_cells.length; ++i) {\n",
       "                    if (nbb_cells[i].input_prompt_number == nbb_cell_id) {\n",
       "                        if (nbb_cells[i].get_text() == nbb_unformatted_code) {\n",
       "                             nbb_cells[i].set_text(nbb_formatted_code);\n",
       "                        }\n",
       "                        break;\n",
       "                    }\n",
       "                }\n",
       "            }, 500);\n",
       "            "
      ],
      "text/plain": [
       "<IPython.core.display.Javascript object>"
      ]
     },
     "metadata": {},
     "output_type": "display_data"
    }
   ],
   "source": [
    "ConfusionMatrixDisplay.from_predictions(\n",
    "    y_test, (y_pred_proba >= 0.3).astype(int), cmap=\"Blues\"\n",
    ")\n",
    "plt.grid(False)"
   ]
  },
  {
   "cell_type": "markdown",
   "id": "3318281d",
   "metadata": {},
   "source": [
    "## Class Weight"
   ]
  },
  {
   "cell_type": "markdown",
   "id": "22384278",
   "metadata": {},
   "source": [
    "Weights associated with classes in the form {class_label: weight}. If not given, all classes are supposed to have weight one.\n",
    "\n",
    "The “balanced” mode uses the values of y to automatically adjust weights inversely proportional to class frequencies in the input data as n_samples / (n_classes * np.bincount(y))."
   ]
  },
  {
   "cell_type": "code",
   "execution_count": 40,
   "id": "79faa56c",
   "metadata": {},
   "outputs": [
    {
     "name": "stderr",
     "output_type": "stream",
     "text": [
      "C:\\Users\\User\\anaconda3\\lib\\site-packages\\sklearn\\utils\\validation.py:1111: DataConversionWarning: A column-vector y was passed when a 1d array was expected. Please change the shape of y to (n_samples, ), for example using ravel().\n",
      "  y = column_or_1d(y, warn=True)\n",
      "C:\\Users\\User\\anaconda3\\lib\\site-packages\\sklearn\\linear_model\\_logistic.py:444: ConvergenceWarning: lbfgs failed to converge (status=1):\n",
      "STOP: TOTAL NO. of ITERATIONS REACHED LIMIT.\n",
      "\n",
      "Increase the number of iterations (max_iter) or scale the data as shown in:\n",
      "    https://scikit-learn.org/stable/modules/preprocessing.html\n",
      "Please also refer to the documentation for alternative solver options:\n",
      "    https://scikit-learn.org/stable/modules/linear_model.html#logistic-regression\n",
      "  n_iter_i = _check_optimize_result(\n"
     ]
    },
    {
     "data": {
      "text/html": [
       "<div>\n",
       "<style scoped>\n",
       "    .dataframe tbody tr th:only-of-type {\n",
       "        vertical-align: middle;\n",
       "    }\n",
       "\n",
       "    .dataframe tbody tr th {\n",
       "        vertical-align: top;\n",
       "    }\n",
       "\n",
       "    .dataframe thead th {\n",
       "        text-align: right;\n",
       "    }\n",
       "</style>\n",
       "<table border=\"1\" class=\"dataframe\">\n",
       "  <thead>\n",
       "    <tr style=\"text-align: right;\">\n",
       "      <th></th>\n",
       "      <th>accuracy</th>\n",
       "      <th>precision</th>\n",
       "      <th>recall</th>\n",
       "      <th>f1</th>\n",
       "      <th>name</th>\n",
       "    </tr>\n",
       "  </thead>\n",
       "  <tbody>\n",
       "    <tr>\n",
       "      <th>0</th>\n",
       "      <td>0.998484</td>\n",
       "      <td>0.459798</td>\n",
       "      <td>1.000000</td>\n",
       "      <td>0.629948</td>\n",
       "      <td>class_weight_balanced</td>\n",
       "    </tr>\n",
       "    <tr>\n",
       "      <th>0</th>\n",
       "      <td>0.999271</td>\n",
       "      <td>0.659750</td>\n",
       "      <td>0.898198</td>\n",
       "      <td>0.760726</td>\n",
       "      <td>threshold_0.1</td>\n",
       "    </tr>\n",
       "    <tr>\n",
       "      <th>0</th>\n",
       "      <td>0.999483</td>\n",
       "      <td>0.965935</td>\n",
       "      <td>0.621529</td>\n",
       "      <td>0.756372</td>\n",
       "      <td>benchmark</td>\n",
       "    </tr>\n",
       "  </tbody>\n",
       "</table>\n",
       "</div>"
      ],
      "text/plain": [
       "   accuracy  precision    recall        f1                   name\n",
       "0  0.998484   0.459798  1.000000  0.629948  class_weight_balanced\n",
       "0  0.999271   0.659750  0.898198  0.760726          threshold_0.1\n",
       "0  0.999483   0.965935  0.621529  0.756372              benchmark"
      ]
     },
     "execution_count": 40,
     "metadata": {},
     "output_type": "execute_result"
    },
    {
     "data": {
      "application/javascript": [
       "\n",
       "            setTimeout(function() {\n",
       "                var nbb_cell_id = 40;\n",
       "                var nbb_unformatted_code = \"lr = LogisticRegression(class_weight=\\\"balanced\\\")\\nbalanced_metrics, y_pred_proba = predict(\\n    lr, selected_X_train, y_train, selected_X_test, y_test, \\\"class_weight_balanced\\\"\\n)\\nevaluations = append(evaluations, balanced_metrics)\\nevaluations\";\n",
       "                var nbb_formatted_code = \"lr = LogisticRegression(class_weight=\\\"balanced\\\")\\nbalanced_metrics, y_pred_proba = predict(\\n    lr, selected_X_train, y_train, selected_X_test, y_test, \\\"class_weight_balanced\\\"\\n)\\nevaluations = append(evaluations, balanced_metrics)\\nevaluations\";\n",
       "                var nbb_cells = Jupyter.notebook.get_cells();\n",
       "                for (var i = 0; i < nbb_cells.length; ++i) {\n",
       "                    if (nbb_cells[i].input_prompt_number == nbb_cell_id) {\n",
       "                        if (nbb_cells[i].get_text() == nbb_unformatted_code) {\n",
       "                             nbb_cells[i].set_text(nbb_formatted_code);\n",
       "                        }\n",
       "                        break;\n",
       "                    }\n",
       "                }\n",
       "            }, 500);\n",
       "            "
      ],
      "text/plain": [
       "<IPython.core.display.Javascript object>"
      ]
     },
     "metadata": {},
     "output_type": "display_data"
    }
   ],
   "source": [
    "lr = LogisticRegression(class_weight=\"balanced\")\n",
    "balanced_metrics, y_pred_proba = predict(\n",
    "    lr, selected_X_train, y_train, selected_X_test, y_test, \"class_weight_balanced\"\n",
    ")\n",
    "evaluations = append(evaluations, balanced_metrics)\n",
    "evaluations"
   ]
  },
  {
   "cell_type": "code",
   "execution_count": 41,
   "id": "d648f648",
   "metadata": {},
   "outputs": [
    {
     "data": {
      "image/png": "[encoded data removed]",
      "text/plain": [
       "<Figure size 648x648 with 2 Axes>"
      ]
     },
     "metadata": {},
     "output_type": "display_data"
    },
    {
     "data": {
      "application/javascript": [
       "\n",
       "            setTimeout(function() {\n",
       "                var nbb_cell_id = 41;\n",
       "                var nbb_unformatted_code = \"ConfusionMatrixDisplay.from_predictions(y_test, (y_pred_proba >= 0.5).astype(int), cmap=\\\"Blues\\\")\\nplt.grid(False)\";\n",
       "                var nbb_formatted_code = \"ConfusionMatrixDisplay.from_predictions(\\n    y_test, (y_pred_proba >= 0.5).astype(int), cmap=\\\"Blues\\\"\\n)\\nplt.grid(False)\";\n",
       "                var nbb_cells = Jupyter.notebook.get_cells();\n",
       "                for (var i = 0; i < nbb_cells.length; ++i) {\n",
       "                    if (nbb_cells[i].input_prompt_number == nbb_cell_id) {\n",
       "                        if (nbb_cells[i].get_text() == nbb_unformatted_code) {\n",
       "                             nbb_cells[i].set_text(nbb_formatted_code);\n",
       "                        }\n",
       "                        break;\n",
       "                    }\n",
       "                }\n",
       "            }, 500);\n",
       "            "
      ],
      "text/plain": [
       "<IPython.core.display.Javascript object>"
      ]
     },
     "metadata": {},
     "output_type": "display_data"
    }
   ],
   "source": [
    "ConfusionMatrixDisplay.from_predictions(\n",
    "    y_test, (y_pred_proba >= 0.5).astype(int), cmap=\"Blues\"\n",
    ")\n",
    "plt.grid(False)"
   ]
  },
  {
   "cell_type": "markdown",
   "id": "019443f0",
   "metadata": {},
   "source": [
    "This result perfectly identified all the frauds in the test dataset, and it was wrong about 0.15% of the normal transactions."
   ]
  },
  {
   "cell_type": "markdown",
   "id": "f6a0f2ea",
   "metadata": {},
   "source": [
    "Even though, I will keep testing to check other possibilities that may enhance precision and accurancy."
   ]
  },
  {
   "cell_type": "code",
   "execution_count": 43,
   "id": "cd03431f",
   "metadata": {},
   "outputs": [
    {
     "name": "stderr",
     "output_type": "stream",
     "text": [
      "C:\\Users\\User\\anaconda3\\lib\\site-packages\\sklearn\\utils\\validation.py:1111: DataConversionWarning: A column-vector y was passed when a 1d array was expected. Please change the shape of y to (n_samples, ), for example using ravel().\n",
      "  y = column_or_1d(y, warn=True)\n",
      "C:\\Users\\User\\anaconda3\\lib\\site-packages\\sklearn\\linear_model\\_logistic.py:444: ConvergenceWarning: lbfgs failed to converge (status=1):\n",
      "STOP: TOTAL NO. of ITERATIONS REACHED LIMIT.\n",
      "\n",
      "Increase the number of iterations (max_iter) or scale the data as shown in:\n",
      "    https://scikit-learn.org/stable/modules/preprocessing.html\n",
      "Please also refer to the documentation for alternative solver options:\n",
      "    https://scikit-learn.org/stable/modules/linear_model.html#logistic-regression\n",
      "  n_iter_i = _check_optimize_result(\n"
     ]
    },
    {
     "data": {
      "text/html": [
       "<div>\n",
       "<style scoped>\n",
       "    .dataframe tbody tr th:only-of-type {\n",
       "        vertical-align: middle;\n",
       "    }\n",
       "\n",
       "    .dataframe tbody tr th {\n",
       "        vertical-align: top;\n",
       "    }\n",
       "\n",
       "    .dataframe thead th {\n",
       "        text-align: right;\n",
       "    }\n",
       "</style>\n",
       "<table border=\"1\" class=\"dataframe\">\n",
       "  <thead>\n",
       "    <tr style=\"text-align: right;\">\n",
       "      <th></th>\n",
       "      <th>accuracy</th>\n",
       "      <th>precision</th>\n",
       "      <th>recall</th>\n",
       "      <th>f1</th>\n",
       "      <th>name</th>\n",
       "    </tr>\n",
       "  </thead>\n",
       "  <tbody>\n",
       "    <tr>\n",
       "      <th>0</th>\n",
       "      <td>0.998484</td>\n",
       "      <td>0.459798</td>\n",
       "      <td>1.000000</td>\n",
       "      <td>0.629948</td>\n",
       "      <td>class_weight_balanced</td>\n",
       "    </tr>\n",
       "    <tr>\n",
       "      <th>0</th>\n",
       "      <td>0.999237</td>\n",
       "      <td>0.641414</td>\n",
       "      <td>0.927910</td>\n",
       "      <td>0.758511</td>\n",
       "      <td>class_weight_arbitrary</td>\n",
       "    </tr>\n",
       "    <tr>\n",
       "      <th>0</th>\n",
       "      <td>0.999271</td>\n",
       "      <td>0.659750</td>\n",
       "      <td>0.898198</td>\n",
       "      <td>0.760726</td>\n",
       "      <td>threshold_0.1</td>\n",
       "    </tr>\n",
       "    <tr>\n",
       "      <th>0</th>\n",
       "      <td>0.999483</td>\n",
       "      <td>0.965935</td>\n",
       "      <td>0.621529</td>\n",
       "      <td>0.756372</td>\n",
       "      <td>benchmark</td>\n",
       "    </tr>\n",
       "  </tbody>\n",
       "</table>\n",
       "</div>"
      ],
      "text/plain": [
       "   accuracy  precision    recall        f1                    name\n",
       "0  0.998484   0.459798  1.000000  0.629948   class_weight_balanced\n",
       "0  0.999237   0.641414  0.927910  0.758511  class_weight_arbitrary\n",
       "0  0.999271   0.659750  0.898198  0.760726           threshold_0.1\n",
       "0  0.999483   0.965935  0.621529  0.756372               benchmark"
      ]
     },
     "execution_count": 43,
     "metadata": {},
     "output_type": "execute_result"
    },
    {
     "data": {
      "application/javascript": [
       "\n",
       "            setTimeout(function() {\n",
       "                var nbb_cell_id = 43;\n",
       "                var nbb_unformatted_code = \"lr = LogisticRegression(class_weight={0: 1, 1: 10})\\nbalanced_metrics, y_pred_proba = predict(\\n    lr, selected_X_train, y_train, selected_X_test, y_test, \\\"class_weight_arbitrary\\\"\\n)\\nevaluations = append(evaluations, balanced_metrics)\\nevaluations\";\n",
       "                var nbb_formatted_code = \"lr = LogisticRegression(class_weight={0: 1, 1: 10})\\nbalanced_metrics, y_pred_proba = predict(\\n    lr, selected_X_train, y_train, selected_X_test, y_test, \\\"class_weight_arbitrary\\\"\\n)\\nevaluations = append(evaluations, balanced_metrics)\\nevaluations\";\n",
       "                var nbb_cells = Jupyter.notebook.get_cells();\n",
       "                for (var i = 0; i < nbb_cells.length; ++i) {\n",
       "                    if (nbb_cells[i].input_prompt_number == nbb_cell_id) {\n",
       "                        if (nbb_cells[i].get_text() == nbb_unformatted_code) {\n",
       "                             nbb_cells[i].set_text(nbb_formatted_code);\n",
       "                        }\n",
       "                        break;\n",
       "                    }\n",
       "                }\n",
       "            }, 500);\n",
       "            "
      ],
      "text/plain": [
       "<IPython.core.display.Javascript object>"
      ]
     },
     "metadata": {},
     "output_type": "display_data"
    }
   ],
   "source": [
    "lr = LogisticRegression(class_weight={0: 1, 1: 10})\n",
    "balanced_metrics, y_pred_proba = predict(\n",
    "    lr, selected_X_train, y_train, selected_X_test, y_test, \"class_weight_arbitrary\"\n",
    ")\n",
    "evaluations = append(evaluations, balanced_metrics)\n",
    "evaluations"
   ]
  },
  {
   "cell_type": "code",
   "execution_count": 44,
   "id": "f67bb2fd",
   "metadata": {},
   "outputs": [
    {
     "data": {
      "image/png": "[encoded data removed]",
      "text/plain": [
       "<Figure size 648x648 with 2 Axes>"
      ]
     },
     "metadata": {},
     "output_type": "display_data"
    },
    {
     "data": {
      "application/javascript": [
       "\n",
       "            setTimeout(function() {\n",
       "                var nbb_cell_id = 44;\n",
       "                var nbb_unformatted_code = \"ConfusionMatrixDisplay.from_predictions(y_test, (y_pred_proba >= 0.5).astype(int), cmap=\\\"Blues\\\")\\nplt.grid(False)\";\n",
       "                var nbb_formatted_code = \"ConfusionMatrixDisplay.from_predictions(\\n    y_test, (y_pred_proba >= 0.5).astype(int), cmap=\\\"Blues\\\"\\n)\\nplt.grid(False)\";\n",
       "                var nbb_cells = Jupyter.notebook.get_cells();\n",
       "                for (var i = 0; i < nbb_cells.length; ++i) {\n",
       "                    if (nbb_cells[i].input_prompt_number == nbb_cell_id) {\n",
       "                        if (nbb_cells[i].get_text() == nbb_unformatted_code) {\n",
       "                             nbb_cells[i].set_text(nbb_formatted_code);\n",
       "                        }\n",
       "                        break;\n",
       "                    }\n",
       "                }\n",
       "            }, 500);\n",
       "            "
      ],
      "text/plain": [
       "<IPython.core.display.Javascript object>"
      ]
     },
     "metadata": {},
     "output_type": "display_data"
    }
   ],
   "source": [
    "ConfusionMatrixDisplay.from_predictions(\n",
    "    y_test, (y_pred_proba >= 0.5).astype(int), cmap=\"Blues\"\n",
    ")\n",
    "plt.grid(False)"
   ]
  },
  {
   "cell_type": "markdown",
   "id": "a4340d5a",
   "metadata": {},
   "source": [
    "## Random Under Sampling"
   ]
  },
  {
   "cell_type": "markdown",
   "id": "f53af395",
   "metadata": {},
   "source": [
    "The random under sampling is a technique which randomly removes samples from the majotiry class."
   ]
  },
  {
   "cell_type": "code",
   "execution_count": 50,
   "id": "4b2085d2",
   "metadata": {},
   "outputs": [
    {
     "data": {
      "application/javascript": [
       "\n",
       "            setTimeout(function() {\n",
       "                var nbb_cell_id = 50;\n",
       "                var nbb_unformatted_code = \"from imblearn.under_sampling import RandomUnderSampler\\n\\nrus = RandomUnderSampler(sampling_strategy=0.1, random_state=42)\\nX_res, y_res = rus.fit_resample(selected_X_train, y_train)\";\n",
       "                var nbb_formatted_code = \"from imblearn.under_sampling import RandomUnderSampler\\n\\nrus = RandomUnderSampler(sampling_strategy=0.1, random_state=42)\\nX_res, y_res = rus.fit_resample(selected_X_train, y_train)\";\n",
       "                var nbb_cells = Jupyter.notebook.get_cells();\n",
       "                for (var i = 0; i < nbb_cells.length; ++i) {\n",
       "                    if (nbb_cells[i].input_prompt_number == nbb_cell_id) {\n",
       "                        if (nbb_cells[i].get_text() == nbb_unformatted_code) {\n",
       "                             nbb_cells[i].set_text(nbb_formatted_code);\n",
       "                        }\n",
       "                        break;\n",
       "                    }\n",
       "                }\n",
       "            }, 500);\n",
       "            "
      ],
      "text/plain": [
       "<IPython.core.display.Javascript object>"
      ]
     },
     "metadata": {},
     "output_type": "display_data"
    }
   ],
   "source": [
    "from imblearn.under_sampling import RandomUnderSampler\n",
    "\n",
    "rus = RandomUnderSampler(sampling_strategy=0.1, random_state=42) #Used a 10% strategy of sampling for the positive class.\n",
    "X_res, y_res = rus.fit_resample(selected_X_train, y_train)"
   ]
  },
  {
   "cell_type": "code",
   "execution_count": 51,
   "id": "aa9ebedd",
   "metadata": {},
   "outputs": [
    {
     "data": {
      "text/plain": [
       "[Text(0.5, 1.0, 'COUNTPLOT OF VARIABLE TARGET FOR RANDOM UNDER SAMPLING')]"
      ]
     },
     "execution_count": 51,
     "metadata": {},
     "output_type": "execute_result"
    },
    {
     "data": {
      "image/png": "[encoded data removed]",
      "text/plain": [
       "<Figure size 648x648 with 1 Axes>"
      ]
     },
     "metadata": {},
     "output_type": "display_data"
    },
    {
     "data": {
      "application/javascript": [
       "\n",
       "            setTimeout(function() {\n",
       "                var nbb_cell_id = 51;\n",
       "                var nbb_unformatted_code = \"sns.countplot(x=\\\"isFraud\\\", data=y_res, palette=\\\"Set1\\\").set(\\n    title=\\\"COUNTPLOT OF VARIABLE TARGET FOR RANDOM UNDER SAMPLING\\\"\\n)\";\n",
       "                var nbb_formatted_code = \"sns.countplot(x=\\\"isFraud\\\", data=y_res, palette=\\\"Set1\\\").set(\\n    title=\\\"COUNTPLOT OF VARIABLE TARGET FOR RANDOM UNDER SAMPLING\\\"\\n)\";\n",
       "                var nbb_cells = Jupyter.notebook.get_cells();\n",
       "                for (var i = 0; i < nbb_cells.length; ++i) {\n",
       "                    if (nbb_cells[i].input_prompt_number == nbb_cell_id) {\n",
       "                        if (nbb_cells[i].get_text() == nbb_unformatted_code) {\n",
       "                             nbb_cells[i].set_text(nbb_formatted_code);\n",
       "                        }\n",
       "                        break;\n",
       "                    }\n",
       "                }\n",
       "            }, 500);\n",
       "            "
      ],
      "text/plain": [
       "<IPython.core.display.Javascript object>"
      ]
     },
     "metadata": {},
     "output_type": "display_data"
    }
   ],
   "source": [
    "sns.countplot(x=\"isFraud\", data=y_res, palette=\"Set1\").set(\n",
    "    title=\"COUNTPLOT OF VARIABLE TARGET FOR RANDOM UNDER SAMPLING\"\n",
    ")"
   ]
  },
  {
   "cell_type": "code",
   "execution_count": 53,
   "id": "e1f9ec73",
   "metadata": {},
   "outputs": [
    {
     "name": "stderr",
     "output_type": "stream",
     "text": [
      "C:\\Users\\User\\anaconda3\\lib\\site-packages\\sklearn\\utils\\validation.py:1111: DataConversionWarning: A column-vector y was passed when a 1d array was expected. Please change the shape of y to (n_samples, ), for example using ravel().\n",
      "  y = column_or_1d(y, warn=True)\n",
      "C:\\Users\\User\\anaconda3\\lib\\site-packages\\sklearn\\linear_model\\_logistic.py:444: ConvergenceWarning: lbfgs failed to converge (status=1):\n",
      "STOP: TOTAL NO. of ITERATIONS REACHED LIMIT.\n",
      "\n",
      "Increase the number of iterations (max_iter) or scale the data as shown in:\n",
      "    https://scikit-learn.org/stable/modules/preprocessing.html\n",
      "Please also refer to the documentation for alternative solver options:\n",
      "    https://scikit-learn.org/stable/modules/linear_model.html#logistic-regression\n",
      "  n_iter_i = _check_optimize_result(\n"
     ]
    },
    {
     "data": {
      "text/html": [
       "<div>\n",
       "<style scoped>\n",
       "    .dataframe tbody tr th:only-of-type {\n",
       "        vertical-align: middle;\n",
       "    }\n",
       "\n",
       "    .dataframe tbody tr th {\n",
       "        vertical-align: top;\n",
       "    }\n",
       "\n",
       "    .dataframe thead th {\n",
       "        text-align: right;\n",
       "    }\n",
       "</style>\n",
       "<table border=\"1\" class=\"dataframe\">\n",
       "  <thead>\n",
       "    <tr style=\"text-align: right;\">\n",
       "      <th></th>\n",
       "      <th>accuracy</th>\n",
       "      <th>precision</th>\n",
       "      <th>recall</th>\n",
       "      <th>f1</th>\n",
       "      <th>name</th>\n",
       "    </tr>\n",
       "  </thead>\n",
       "  <tbody>\n",
       "    <tr>\n",
       "      <th>0</th>\n",
       "      <td>0.998484</td>\n",
       "      <td>0.459798</td>\n",
       "      <td>1.000000</td>\n",
       "      <td>0.629948</td>\n",
       "      <td>class_weight_balanced</td>\n",
       "    </tr>\n",
       "    <tr>\n",
       "      <th>0</th>\n",
       "      <td>0.998490</td>\n",
       "      <td>0.460831</td>\n",
       "      <td>1.000000</td>\n",
       "      <td>0.630916</td>\n",
       "      <td>RandomUnderSampling</td>\n",
       "    </tr>\n",
       "    <tr>\n",
       "      <th>0</th>\n",
       "      <td>0.999237</td>\n",
       "      <td>0.641414</td>\n",
       "      <td>0.927910</td>\n",
       "      <td>0.758511</td>\n",
       "      <td>class_weight_arbitrary</td>\n",
       "    </tr>\n",
       "    <tr>\n",
       "      <th>0</th>\n",
       "      <td>0.999271</td>\n",
       "      <td>0.659750</td>\n",
       "      <td>0.898198</td>\n",
       "      <td>0.760726</td>\n",
       "      <td>threshold_0.1</td>\n",
       "    </tr>\n",
       "    <tr>\n",
       "      <th>0</th>\n",
       "      <td>0.999483</td>\n",
       "      <td>0.965935</td>\n",
       "      <td>0.621529</td>\n",
       "      <td>0.756372</td>\n",
       "      <td>benchmark</td>\n",
       "    </tr>\n",
       "  </tbody>\n",
       "</table>\n",
       "</div>"
      ],
      "text/plain": [
       "   accuracy  precision    recall        f1                    name\n",
       "0  0.998484   0.459798  1.000000  0.629948   class_weight_balanced\n",
       "0  0.998490   0.460831  1.000000  0.630916     RandomUnderSampling\n",
       "0  0.999237   0.641414  0.927910  0.758511  class_weight_arbitrary\n",
       "0  0.999271   0.659750  0.898198  0.760726           threshold_0.1\n",
       "0  0.999483   0.965935  0.621529  0.756372               benchmark"
      ]
     },
     "execution_count": 53,
     "metadata": {},
     "output_type": "execute_result"
    },
    {
     "data": {
      "application/javascript": [
       "\n",
       "            setTimeout(function() {\n",
       "                var nbb_cell_id = 53;\n",
       "                var nbb_unformatted_code = \"lr = LogisticRegression()\\nrus_metrics, y_pred_proba = predict(\\n    lr, X_res, y_res, selected_X_test, y_test, \\\"RandomUnderSampling\\\"\\n)\\nevaluations = append(evaluations, rus_metrics)\\nevaluations\";\n",
       "                var nbb_formatted_code = \"lr = LogisticRegression()\\nrus_metrics, y_pred_proba = predict(\\n    lr, X_res, y_res, selected_X_test, y_test, \\\"RandomUnderSampling\\\"\\n)\\nevaluations = append(evaluations, rus_metrics)\\nevaluations\";\n",
       "                var nbb_cells = Jupyter.notebook.get_cells();\n",
       "                for (var i = 0; i < nbb_cells.length; ++i) {\n",
       "                    if (nbb_cells[i].input_prompt_number == nbb_cell_id) {\n",
       "                        if (nbb_cells[i].get_text() == nbb_unformatted_code) {\n",
       "                             nbb_cells[i].set_text(nbb_formatted_code);\n",
       "                        }\n",
       "                        break;\n",
       "                    }\n",
       "                }\n",
       "            }, 500);\n",
       "            "
      ],
      "text/plain": [
       "<IPython.core.display.Javascript object>"
      ]
     },
     "metadata": {},
     "output_type": "display_data"
    }
   ],
   "source": [
    "lr = LogisticRegression()\n",
    "rus_metrics, y_pred_proba = predict(\n",
    "    lr, X_res, y_res, selected_X_test, y_test, \"RandomUnderSampling\"\n",
    ")\n",
    "evaluations = append(evaluations, rus_metrics)\n",
    "evaluations"
   ]
  },
  {
   "cell_type": "code",
   "execution_count": 54,
   "id": "1751b4c7",
   "metadata": {},
   "outputs": [
    {
     "data": {
      "image/png": "[encoded data removed]",
      "text/plain": [
       "<Figure size 648x648 with 2 Axes>"
      ]
     },
     "metadata": {},
     "output_type": "display_data"
    },
    {
     "data": {
      "application/javascript": [
       "\n",
       "            setTimeout(function() {\n",
       "                var nbb_cell_id = 54;\n",
       "                var nbb_unformatted_code = \"ConfusionMatrixDisplay.from_predictions(y_test, (y_pred_proba >= 0.5).astype(int), cmap=\\\"Blues\\\")\\nplt.grid(False)\";\n",
       "                var nbb_formatted_code = \"ConfusionMatrixDisplay.from_predictions(\\n    y_test, (y_pred_proba >= 0.5).astype(int), cmap=\\\"Blues\\\"\\n)\\nplt.grid(False)\";\n",
       "                var nbb_cells = Jupyter.notebook.get_cells();\n",
       "                for (var i = 0; i < nbb_cells.length; ++i) {\n",
       "                    if (nbb_cells[i].input_prompt_number == nbb_cell_id) {\n",
       "                        if (nbb_cells[i].get_text() == nbb_unformatted_code) {\n",
       "                             nbb_cells[i].set_text(nbb_formatted_code);\n",
       "                        }\n",
       "                        break;\n",
       "                    }\n",
       "                }\n",
       "            }, 500);\n",
       "            "
      ],
      "text/plain": [
       "<IPython.core.display.Javascript object>"
      ]
     },
     "metadata": {},
     "output_type": "display_data"
    }
   ],
   "source": [
    "ConfusionMatrixDisplay.from_predictions(\n",
    "    y_test, (y_pred_proba >= 0.5).astype(int), cmap=\"Blues\"\n",
    ")\n",
    "plt.grid(False)"
   ]
  },
  {
   "cell_type": "markdown",
   "id": "5138e7a7",
   "metadata": {},
   "source": [
    "## Under Sampling - Edited Nearest Neighbours"
   ]
  },
  {
   "cell_type": "markdown",
   "id": "aa5d3c14",
   "metadata": {},
   "source": [
    "KNN algorithm removes samples that are on the decision border.\n",
    "By default the number of neighbors is 3, and it only removes if all the 3 neighbors are from the other class."
   ]
  },
  {
   "cell_type": "code",
   "execution_count": 56,
   "id": "657f78c9",
   "metadata": {},
   "outputs": [
    {
     "data": {
      "application/javascript": [
       "\n",
       "            setTimeout(function() {\n",
       "                var nbb_cell_id = 56;\n",
       "                var nbb_unformatted_code = \"from imblearn.under_sampling import EditedNearestNeighbours\\n\\nenn = EditedNearestNeighbours(kind_sel=\\\"all\\\", n_neighbors=3)\\nX_res, y_res = enn.fit_resample(selected_X_train, y_train)\";\n",
       "                var nbb_formatted_code = \"from imblearn.under_sampling import EditedNearestNeighbours\\n\\nenn = EditedNearestNeighbours(kind_sel=\\\"all\\\", n_neighbors=3)\\nX_res, y_res = enn.fit_resample(selected_X_train, y_train)\";\n",
       "                var nbb_cells = Jupyter.notebook.get_cells();\n",
       "                for (var i = 0; i < nbb_cells.length; ++i) {\n",
       "                    if (nbb_cells[i].input_prompt_number == nbb_cell_id) {\n",
       "                        if (nbb_cells[i].get_text() == nbb_unformatted_code) {\n",
       "                             nbb_cells[i].set_text(nbb_formatted_code);\n",
       "                        }\n",
       "                        break;\n",
       "                    }\n",
       "                }\n",
       "            }, 500);\n",
       "            "
      ],
      "text/plain": [
       "<IPython.core.display.Javascript object>"
      ]
     },
     "metadata": {},
     "output_type": "display_data"
    }
   ],
   "source": [
    "from imblearn.under_sampling import EditedNearestNeighbours\n",
    "\n",
    "enn = EditedNearestNeighbours(kind_sel=\"all\", n_neighbors=3)\n",
    "X_res, y_res = enn.fit_resample(selected_X_train, y_train)"
   ]
  },
  {
   "cell_type": "code",
   "execution_count": 57,
   "id": "7a2d78e1",
   "metadata": {},
   "outputs": [
    {
     "data": {
      "text/plain": [
       "[Text(0.5, 1.0, 'COUNTPLOT OF VARIABLE TARGET FOR EDDITED NEAREST NEIGHBOURS UNDER SAMPLING')]"
      ]
     },
     "execution_count": 57,
     "metadata": {},
     "output_type": "execute_result"
    },
    {
     "data": {
      "image/png": "[encoded data removed]",
      "text/plain": [
       "<Figure size 648x648 with 1 Axes>"
      ]
     },
     "metadata": {},
     "output_type": "display_data"
    },
    {
     "data": {
      "application/javascript": [
       "\n",
       "            setTimeout(function() {\n",
       "                var nbb_cell_id = 57;\n",
       "                var nbb_unformatted_code = \"sns.countplot(x=\\\"isFraud\\\", data=y_res, palette=\\\"Set1\\\").set(\\n    title=\\\"COUNTPLOT OF VARIABLE TARGET FOR EDDITED NEAREST NEIGHBOURS UNDER SAMPLING\\\"\\n)\";\n",
       "                var nbb_formatted_code = \"sns.countplot(x=\\\"isFraud\\\", data=y_res, palette=\\\"Set1\\\").set(\\n    title=\\\"COUNTPLOT OF VARIABLE TARGET FOR EDDITED NEAREST NEIGHBOURS UNDER SAMPLING\\\"\\n)\";\n",
       "                var nbb_cells = Jupyter.notebook.get_cells();\n",
       "                for (var i = 0; i < nbb_cells.length; ++i) {\n",
       "                    if (nbb_cells[i].input_prompt_number == nbb_cell_id) {\n",
       "                        if (nbb_cells[i].get_text() == nbb_unformatted_code) {\n",
       "                             nbb_cells[i].set_text(nbb_formatted_code);\n",
       "                        }\n",
       "                        break;\n",
       "                    }\n",
       "                }\n",
       "            }, 500);\n",
       "            "
      ],
      "text/plain": [
       "<IPython.core.display.Javascript object>"
      ]
     },
     "metadata": {},
     "output_type": "display_data"
    }
   ],
   "source": [
    "sns.countplot(x=\"isFraud\", data=y_res, palette=\"Set1\").set(\n",
    "    title=\"COUNTPLOT OF VARIABLE TARGET FOR EDDITED NEAREST NEIGHBOURS UNDER SAMPLING\"\n",
    ")"
   ]
  },
  {
   "cell_type": "markdown",
   "id": "d83f1eaa",
   "metadata": {},
   "source": [
    "Or it is possible to remove elements if the majority of the neighbors are from the minority class (it leaves more elements on the border)."
   ]
  },
  {
   "cell_type": "code",
   "execution_count": 59,
   "id": "04a25f91",
   "metadata": {},
   "outputs": [
    {
     "data": {
      "application/javascript": [
       "\n",
       "            setTimeout(function() {\n",
       "                var nbb_cell_id = 59;\n",
       "                var nbb_unformatted_code = \"enn = EditedNearestNeighbours(kind_sel=\\\"mode\\\")\\nX_res, y_res = enn.fit_resample(selected_X_train, y_train)\";\n",
       "                var nbb_formatted_code = \"enn = EditedNearestNeighbours(kind_sel=\\\"mode\\\")\\nX_res, y_res = enn.fit_resample(selected_X_train, y_train)\";\n",
       "                var nbb_cells = Jupyter.notebook.get_cells();\n",
       "                for (var i = 0; i < nbb_cells.length; ++i) {\n",
       "                    if (nbb_cells[i].input_prompt_number == nbb_cell_id) {\n",
       "                        if (nbb_cells[i].get_text() == nbb_unformatted_code) {\n",
       "                             nbb_cells[i].set_text(nbb_formatted_code);\n",
       "                        }\n",
       "                        break;\n",
       "                    }\n",
       "                }\n",
       "            }, 500);\n",
       "            "
      ],
      "text/plain": [
       "<IPython.core.display.Javascript object>"
      ]
     },
     "metadata": {},
     "output_type": "display_data"
    }
   ],
   "source": [
    "enn = EditedNearestNeighbours(kind_sel=\"mode\")\n",
    "X_res, y_res = enn.fit_resample(selected_X_train, y_train)"
   ]
  },
  {
   "cell_type": "code",
   "execution_count": 60,
   "id": "a88d4bfb",
   "metadata": {},
   "outputs": [
    {
     "data": {
      "text/plain": [
       "[Text(0.5, 1.0, 'COUNTPLOT OF VARIABLE TARGET FOR EDDITED NEAREST NEIGHBOURS UNDER SAMPLING')]"
      ]
     },
     "execution_count": 60,
     "metadata": {},
     "output_type": "execute_result"
    },
    {
     "data": {
      "image/png": "[encoded data removed]",
      "text/plain": [
       "<Figure size 648x648 with 1 Axes>"
      ]
     },
     "metadata": {},
     "output_type": "display_data"
    },
    {
     "data": {
      "application/javascript": [
       "\n",
       "            setTimeout(function() {\n",
       "                var nbb_cell_id = 60;\n",
       "                var nbb_unformatted_code = \"sns.countplot(x=\\\"isFraud\\\", data=y_res, palette=\\\"Set1\\\").set(\\n    title=\\\"COUNTPLOT OF VARIABLE TARGET FOR EDDITED NEAREST NEIGHBOURS UNDER SAMPLING\\\"\\n)\";\n",
       "                var nbb_formatted_code = \"sns.countplot(x=\\\"isFraud\\\", data=y_res, palette=\\\"Set1\\\").set(\\n    title=\\\"COUNTPLOT OF VARIABLE TARGET FOR EDDITED NEAREST NEIGHBOURS UNDER SAMPLING\\\"\\n)\";\n",
       "                var nbb_cells = Jupyter.notebook.get_cells();\n",
       "                for (var i = 0; i < nbb_cells.length; ++i) {\n",
       "                    if (nbb_cells[i].input_prompt_number == nbb_cell_id) {\n",
       "                        if (nbb_cells[i].get_text() == nbb_unformatted_code) {\n",
       "                             nbb_cells[i].set_text(nbb_formatted_code);\n",
       "                        }\n",
       "                        break;\n",
       "                    }\n",
       "                }\n",
       "            }, 500);\n",
       "            "
      ],
      "text/plain": [
       "<IPython.core.display.Javascript object>"
      ]
     },
     "metadata": {},
     "output_type": "display_data"
    }
   ],
   "source": [
    "sns.countplot(x=\"isFraud\", data=y_res, palette=\"Set1\").set(\n",
    "    title=\"COUNTPLOT OF VARIABLE TARGET FOR EDDITED NEAREST NEIGHBOURS UNDER SAMPLING\"\n",
    ")"
   ]
  },
  {
   "cell_type": "markdown",
   "id": "b967120d",
   "metadata": {},
   "source": [
    "It is allowed to select the number of neighbors too."
   ]
  },
  {
   "cell_type": "code",
   "execution_count": 61,
   "id": "fd2c0a5e",
   "metadata": {},
   "outputs": [
    {
     "data": {
      "application/javascript": [
       "\n",
       "            setTimeout(function() {\n",
       "                var nbb_cell_id = 61;\n",
       "                var nbb_unformatted_code = \"enn = EditedNearestNeighbours(kind_sel=\\\"all\\\", n_neighbors=5)\\nX_res, y_res = enn.fit_resample(selected_X_train, y_train)\";\n",
       "                var nbb_formatted_code = \"enn = EditedNearestNeighbours(kind_sel=\\\"all\\\", n_neighbors=5)\\nX_res, y_res = enn.fit_resample(selected_X_train, y_train)\";\n",
       "                var nbb_cells = Jupyter.notebook.get_cells();\n",
       "                for (var i = 0; i < nbb_cells.length; ++i) {\n",
       "                    if (nbb_cells[i].input_prompt_number == nbb_cell_id) {\n",
       "                        if (nbb_cells[i].get_text() == nbb_unformatted_code) {\n",
       "                             nbb_cells[i].set_text(nbb_formatted_code);\n",
       "                        }\n",
       "                        break;\n",
       "                    }\n",
       "                }\n",
       "            }, 500);\n",
       "            "
      ],
      "text/plain": [
       "<IPython.core.display.Javascript object>"
      ]
     },
     "metadata": {},
     "output_type": "display_data"
    }
   ],
   "source": [
    "enn = EditedNearestNeighbours(kind_sel=\"all\", n_neighbors=5)\n",
    "X_res, y_res = enn.fit_resample(selected_X_train, y_train)"
   ]
  },
  {
   "cell_type": "code",
   "execution_count": 62,
   "id": "a74e6a33",
   "metadata": {},
   "outputs": [
    {
     "data": {
      "text/plain": [
       "[Text(0.5, 1.0, 'COUNTPLOT OF VARIABLE TARGET FOR EDDITED NEAREST NEIGHBOURS UNDER SAMPLING')]"
      ]
     },
     "execution_count": 62,
     "metadata": {},
     "output_type": "execute_result"
    },
    {
     "data": {
      "image/png": "[encoded data removed]",
      "text/plain": [
       "<Figure size 648x648 with 1 Axes>"
      ]
     },
     "metadata": {},
     "output_type": "display_data"
    },
    {
     "data": {
      "application/javascript": [
       "\n",
       "            setTimeout(function() {\n",
       "                var nbb_cell_id = 62;\n",
       "                var nbb_unformatted_code = \"sns.countplot(x=\\\"isFraud\\\", data=y_res, palette=\\\"Set1\\\").set(\\n    title=\\\"COUNTPLOT OF VARIABLE TARGET FOR EDDITED NEAREST NEIGHBOURS UNDER SAMPLING\\\"\\n)\";\n",
       "                var nbb_formatted_code = \"sns.countplot(x=\\\"isFraud\\\", data=y_res, palette=\\\"Set1\\\").set(\\n    title=\\\"COUNTPLOT OF VARIABLE TARGET FOR EDDITED NEAREST NEIGHBOURS UNDER SAMPLING\\\"\\n)\";\n",
       "                var nbb_cells = Jupyter.notebook.get_cells();\n",
       "                for (var i = 0; i < nbb_cells.length; ++i) {\n",
       "                    if (nbb_cells[i].input_prompt_number == nbb_cell_id) {\n",
       "                        if (nbb_cells[i].get_text() == nbb_unformatted_code) {\n",
       "                             nbb_cells[i].set_text(nbb_formatted_code);\n",
       "                        }\n",
       "                        break;\n",
       "                    }\n",
       "                }\n",
       "            }, 500);\n",
       "            "
      ],
      "text/plain": [
       "<IPython.core.display.Javascript object>"
      ]
     },
     "metadata": {},
     "output_type": "display_data"
    }
   ],
   "source": [
    "sns.countplot(x=\"isFraud\", data=y_res, palette=\"Set1\").set(\n",
    "    title=\"COUNTPLOT OF VARIABLE TARGET FOR EDDITED NEAREST NEIGHBOURS UNDER SAMPLING\"\n",
    ")"
   ]
  },
  {
   "cell_type": "code",
   "execution_count": 63,
   "id": "222ff3be",
   "metadata": {},
   "outputs": [
    {
     "name": "stderr",
     "output_type": "stream",
     "text": [
      "C:\\Users\\User\\anaconda3\\lib\\site-packages\\sklearn\\utils\\validation.py:1111: DataConversionWarning: A column-vector y was passed when a 1d array was expected. Please change the shape of y to (n_samples, ), for example using ravel().\n",
      "  y = column_or_1d(y, warn=True)\n",
      "C:\\Users\\User\\anaconda3\\lib\\site-packages\\sklearn\\linear_model\\_logistic.py:444: ConvergenceWarning: lbfgs failed to converge (status=1):\n",
      "STOP: TOTAL NO. of ITERATIONS REACHED LIMIT.\n",
      "\n",
      "Increase the number of iterations (max_iter) or scale the data as shown in:\n",
      "    https://scikit-learn.org/stable/modules/preprocessing.html\n",
      "Please also refer to the documentation for alternative solver options:\n",
      "    https://scikit-learn.org/stable/modules/linear_model.html#logistic-regression\n",
      "  n_iter_i = _check_optimize_result(\n"
     ]
    },
    {
     "data": {
      "text/html": [
       "<div>\n",
       "<style scoped>\n",
       "    .dataframe tbody tr th:only-of-type {\n",
       "        vertical-align: middle;\n",
       "    }\n",
       "\n",
       "    .dataframe tbody tr th {\n",
       "        vertical-align: top;\n",
       "    }\n",
       "\n",
       "    .dataframe thead th {\n",
       "        text-align: right;\n",
       "    }\n",
       "</style>\n",
       "<table border=\"1\" class=\"dataframe\">\n",
       "  <thead>\n",
       "    <tr style=\"text-align: right;\">\n",
       "      <th></th>\n",
       "      <th>accuracy</th>\n",
       "      <th>precision</th>\n",
       "      <th>recall</th>\n",
       "      <th>f1</th>\n",
       "      <th>name</th>\n",
       "    </tr>\n",
       "  </thead>\n",
       "  <tbody>\n",
       "    <tr>\n",
       "      <th>0</th>\n",
       "      <td>0.998484</td>\n",
       "      <td>0.459798</td>\n",
       "      <td>1.000000</td>\n",
       "      <td>0.629948</td>\n",
       "      <td>class_weight_balanced</td>\n",
       "    </tr>\n",
       "    <tr>\n",
       "      <th>0</th>\n",
       "      <td>0.998490</td>\n",
       "      <td>0.460831</td>\n",
       "      <td>1.000000</td>\n",
       "      <td>0.630916</td>\n",
       "      <td>RandomUnderSampling</td>\n",
       "    </tr>\n",
       "    <tr>\n",
       "      <th>0</th>\n",
       "      <td>0.999237</td>\n",
       "      <td>0.641414</td>\n",
       "      <td>0.927910</td>\n",
       "      <td>0.758511</td>\n",
       "      <td>class_weight_arbitrary</td>\n",
       "    </tr>\n",
       "    <tr>\n",
       "      <th>0</th>\n",
       "      <td>0.999271</td>\n",
       "      <td>0.659750</td>\n",
       "      <td>0.898198</td>\n",
       "      <td>0.760726</td>\n",
       "      <td>threshold_0.1</td>\n",
       "    </tr>\n",
       "    <tr>\n",
       "      <th>0</th>\n",
       "      <td>0.999573</td>\n",
       "      <td>0.957972</td>\n",
       "      <td>0.699464</td>\n",
       "      <td>0.808559</td>\n",
       "      <td>EditedNearestNeighbours</td>\n",
       "    </tr>\n",
       "    <tr>\n",
       "      <th>0</th>\n",
       "      <td>0.999483</td>\n",
       "      <td>0.965935</td>\n",
       "      <td>0.621529</td>\n",
       "      <td>0.756372</td>\n",
       "      <td>benchmark</td>\n",
       "    </tr>\n",
       "  </tbody>\n",
       "</table>\n",
       "</div>"
      ],
      "text/plain": [
       "   accuracy  precision    recall        f1                     name\n",
       "0  0.998484   0.459798  1.000000  0.629948    class_weight_balanced\n",
       "0  0.998490   0.460831  1.000000  0.630916      RandomUnderSampling\n",
       "0  0.999237   0.641414  0.927910  0.758511   class_weight_arbitrary\n",
       "0  0.999271   0.659750  0.898198  0.760726            threshold_0.1\n",
       "0  0.999573   0.957972  0.699464  0.808559  EditedNearestNeighbours\n",
       "0  0.999483   0.965935  0.621529  0.756372                benchmark"
      ]
     },
     "execution_count": 63,
     "metadata": {},
     "output_type": "execute_result"
    },
    {
     "data": {
      "application/javascript": [
       "\n",
       "            setTimeout(function() {\n",
       "                var nbb_cell_id = 63;\n",
       "                var nbb_unformatted_code = \"lr = LogisticRegression()\\nrus_metrics, y_pred_proba = predict(lr, X_res, y_res, selected_X_test, y_test, \\\"EditedNearestNeighbours\\\")\\nevaluations = append(evaluations, rus_metrics)\\nevaluations\";\n",
       "                var nbb_formatted_code = \"lr = LogisticRegression()\\nrus_metrics, y_pred_proba = predict(\\n    lr, X_res, y_res, selected_X_test, y_test, \\\"EditedNearestNeighbours\\\"\\n)\\nevaluations = append(evaluations, rus_metrics)\\nevaluations\";\n",
       "                var nbb_cells = Jupyter.notebook.get_cells();\n",
       "                for (var i = 0; i < nbb_cells.length; ++i) {\n",
       "                    if (nbb_cells[i].input_prompt_number == nbb_cell_id) {\n",
       "                        if (nbb_cells[i].get_text() == nbb_unformatted_code) {\n",
       "                             nbb_cells[i].set_text(nbb_formatted_code);\n",
       "                        }\n",
       "                        break;\n",
       "                    }\n",
       "                }\n",
       "            }, 500);\n",
       "            "
      ],
      "text/plain": [
       "<IPython.core.display.Javascript object>"
      ]
     },
     "metadata": {},
     "output_type": "display_data"
    }
   ],
   "source": [
    "lr = LogisticRegression()\n",
    "rus_metrics, y_pred_proba = predict(\n",
    "    lr, X_res, y_res, selected_X_test, y_test, \"EditedNearestNeighbours\"\n",
    ")\n",
    "evaluations = append(evaluations, rus_metrics)\n",
    "evaluations"
   ]
  },
  {
   "cell_type": "code",
   "execution_count": 64,
   "id": "65594918",
   "metadata": {},
   "outputs": [
    {
     "data": {
      "image/png": "[encoded data removed]",
      "text/plain": [
       "<Figure size 648x648 with 2 Axes>"
      ]
     },
     "metadata": {},
     "output_type": "display_data"
    },
    {
     "data": {
      "application/javascript": [
       "\n",
       "            setTimeout(function() {\n",
       "                var nbb_cell_id = 64;\n",
       "                var nbb_unformatted_code = \"ConfusionMatrixDisplay.from_predictions(y_test, (y_pred_proba >= 0.5).astype(int), cmap=\\\"Blues\\\")\\nplt.grid(False)\";\n",
       "                var nbb_formatted_code = \"ConfusionMatrixDisplay.from_predictions(\\n    y_test, (y_pred_proba >= 0.5).astype(int), cmap=\\\"Blues\\\"\\n)\\nplt.grid(False)\";\n",
       "                var nbb_cells = Jupyter.notebook.get_cells();\n",
       "                for (var i = 0; i < nbb_cells.length; ++i) {\n",
       "                    if (nbb_cells[i].input_prompt_number == nbb_cell_id) {\n",
       "                        if (nbb_cells[i].get_text() == nbb_unformatted_code) {\n",
       "                             nbb_cells[i].set_text(nbb_formatted_code);\n",
       "                        }\n",
       "                        break;\n",
       "                    }\n",
       "                }\n",
       "            }, 500);\n",
       "            "
      ],
      "text/plain": [
       "<IPython.core.display.Javascript object>"
      ]
     },
     "metadata": {},
     "output_type": "display_data"
    }
   ],
   "source": [
    "ConfusionMatrixDisplay.from_predictions(\n",
    "    y_test, (y_pred_proba >= 0.5).astype(int), cmap=\"Blues\"\n",
    ")\n",
    "plt.grid(False)"
   ]
  },
  {
   "cell_type": "markdown",
   "id": "1bbf9ee7",
   "metadata": {},
   "source": [
    "## Random Over Sampling"
   ]
  },
  {
   "cell_type": "markdown",
   "id": "995b62d7",
   "metadata": {},
   "source": [
    "Object to over-sample the minority class(es) by picking samples at random with replacement. By default, it raises the number of elements from the minority class to the same number of elements of the majority class. "
   ]
  },
  {
   "cell_type": "code",
   "execution_count": 66,
   "id": "e7056c48",
   "metadata": {},
   "outputs": [
    {
     "data": {
      "application/javascript": [
       "\n",
       "            setTimeout(function() {\n",
       "                var nbb_cell_id = 66;\n",
       "                var nbb_unformatted_code = \"ros = RandomOverSampler(random_state=42, sampling_strategy=0.05)\\nX_res, y_res = ros.fit_resample(selected_X_train, y_train)\";\n",
       "                var nbb_formatted_code = \"ros = RandomOverSampler(random_state=42, sampling_strategy=0.05)\\nX_res, y_res = ros.fit_resample(selected_X_train, y_train)\";\n",
       "                var nbb_cells = Jupyter.notebook.get_cells();\n",
       "                for (var i = 0; i < nbb_cells.length; ++i) {\n",
       "                    if (nbb_cells[i].input_prompt_number == nbb_cell_id) {\n",
       "                        if (nbb_cells[i].get_text() == nbb_unformatted_code) {\n",
       "                             nbb_cells[i].set_text(nbb_formatted_code);\n",
       "                        }\n",
       "                        break;\n",
       "                    }\n",
       "                }\n",
       "            }, 500);\n",
       "            "
      ],
      "text/plain": [
       "<IPython.core.display.Javascript object>"
      ]
     },
     "metadata": {},
     "output_type": "display_data"
    }
   ],
   "source": [
    "ros = RandomOverSampler(random_state=42, sampling_strategy=0.05)\n",
    "X_res, y_res = ros.fit_resample(selected_X_train, y_train)"
   ]
  },
  {
   "cell_type": "code",
   "execution_count": 67,
   "id": "b2f5872c",
   "metadata": {},
   "outputs": [
    {
     "data": {
      "text/plain": [
       "[Text(0.5, 1.0, 'COUNTPLOT OF VARIABLE TARGET FOR RANDOM OVER SAMPLING')]"
      ]
     },
     "execution_count": 67,
     "metadata": {},
     "output_type": "execute_result"
    },
    {
     "data": {
      "image/png": "[encoded data removed]",
      "text/plain": [
       "<Figure size 648x648 with 1 Axes>"
      ]
     },
     "metadata": {},
     "output_type": "display_data"
    },
    {
     "data": {
      "application/javascript": [
       "\n",
       "            setTimeout(function() {\n",
       "                var nbb_cell_id = 67;\n",
       "                var nbb_unformatted_code = \"sns.countplot(x=\\\"isFraud\\\", data=y_res, palette=\\\"Set1\\\").set(\\n    title=\\\"COUNTPLOT OF VARIABLE TARGET FOR RANDOM OVER SAMPLING\\\"\\n)\";\n",
       "                var nbb_formatted_code = \"sns.countplot(x=\\\"isFraud\\\", data=y_res, palette=\\\"Set1\\\").set(\\n    title=\\\"COUNTPLOT OF VARIABLE TARGET FOR RANDOM OVER SAMPLING\\\"\\n)\";\n",
       "                var nbb_cells = Jupyter.notebook.get_cells();\n",
       "                for (var i = 0; i < nbb_cells.length; ++i) {\n",
       "                    if (nbb_cells[i].input_prompt_number == nbb_cell_id) {\n",
       "                        if (nbb_cells[i].get_text() == nbb_unformatted_code) {\n",
       "                             nbb_cells[i].set_text(nbb_formatted_code);\n",
       "                        }\n",
       "                        break;\n",
       "                    }\n",
       "                }\n",
       "            }, 500);\n",
       "            "
      ],
      "text/plain": [
       "<IPython.core.display.Javascript object>"
      ]
     },
     "metadata": {},
     "output_type": "display_data"
    }
   ],
   "source": [
    "sns.countplot(x=\"isFraud\", data=y_res, palette=\"Set1\").set(\n",
    "    title=\"COUNTPLOT OF VARIABLE TARGET FOR RANDOM OVER SAMPLING\"\n",
    ")"
   ]
  },
  {
   "cell_type": "code",
   "execution_count": 68,
   "id": "398e21bf",
   "metadata": {},
   "outputs": [
    {
     "name": "stderr",
     "output_type": "stream",
     "text": [
      "C:\\Users\\User\\anaconda3\\lib\\site-packages\\sklearn\\utils\\validation.py:1111: DataConversionWarning: A column-vector y was passed when a 1d array was expected. Please change the shape of y to (n_samples, ), for example using ravel().\n",
      "  y = column_or_1d(y, warn=True)\n",
      "C:\\Users\\User\\anaconda3\\lib\\site-packages\\sklearn\\linear_model\\_logistic.py:444: ConvergenceWarning: lbfgs failed to converge (status=1):\n",
      "STOP: TOTAL NO. of ITERATIONS REACHED LIMIT.\n",
      "\n",
      "Increase the number of iterations (max_iter) or scale the data as shown in:\n",
      "    https://scikit-learn.org/stable/modules/preprocessing.html\n",
      "Please also refer to the documentation for alternative solver options:\n",
      "    https://scikit-learn.org/stable/modules/linear_model.html#logistic-regression\n",
      "  n_iter_i = _check_optimize_result(\n"
     ]
    },
    {
     "data": {
      "text/html": [
       "<div>\n",
       "<style scoped>\n",
       "    .dataframe tbody tr th:only-of-type {\n",
       "        vertical-align: middle;\n",
       "    }\n",
       "\n",
       "    .dataframe tbody tr th {\n",
       "        vertical-align: top;\n",
       "    }\n",
       "\n",
       "    .dataframe thead th {\n",
       "        text-align: right;\n",
       "    }\n",
       "</style>\n",
       "<table border=\"1\" class=\"dataframe\">\n",
       "  <thead>\n",
       "    <tr style=\"text-align: right;\">\n",
       "      <th></th>\n",
       "      <th>accuracy</th>\n",
       "      <th>precision</th>\n",
       "      <th>recall</th>\n",
       "      <th>f1</th>\n",
       "      <th>name</th>\n",
       "    </tr>\n",
       "  </thead>\n",
       "  <tbody>\n",
       "    <tr>\n",
       "      <th>0</th>\n",
       "      <td>0.998484</td>\n",
       "      <td>0.459798</td>\n",
       "      <td>1.000000</td>\n",
       "      <td>0.629948</td>\n",
       "      <td>class_weight_balanced</td>\n",
       "    </tr>\n",
       "    <tr>\n",
       "      <th>0</th>\n",
       "      <td>0.998490</td>\n",
       "      <td>0.460831</td>\n",
       "      <td>1.000000</td>\n",
       "      <td>0.630916</td>\n",
       "      <td>RandomUnderSampling</td>\n",
       "    </tr>\n",
       "    <tr>\n",
       "      <th>0</th>\n",
       "      <td>0.998584</td>\n",
       "      <td>0.476777</td>\n",
       "      <td>1.000000</td>\n",
       "      <td>0.645699</td>\n",
       "      <td>RandomOverSampling</td>\n",
       "    </tr>\n",
       "    <tr>\n",
       "      <th>0</th>\n",
       "      <td>0.999237</td>\n",
       "      <td>0.641414</td>\n",
       "      <td>0.927910</td>\n",
       "      <td>0.758511</td>\n",
       "      <td>class_weight_arbitrary</td>\n",
       "    </tr>\n",
       "    <tr>\n",
       "      <th>0</th>\n",
       "      <td>0.999271</td>\n",
       "      <td>0.659750</td>\n",
       "      <td>0.898198</td>\n",
       "      <td>0.760726</td>\n",
       "      <td>threshold_0.1</td>\n",
       "    </tr>\n",
       "    <tr>\n",
       "      <th>0</th>\n",
       "      <td>0.999573</td>\n",
       "      <td>0.957972</td>\n",
       "      <td>0.699464</td>\n",
       "      <td>0.808559</td>\n",
       "      <td>EditedNearestNeighbours</td>\n",
       "    </tr>\n",
       "    <tr>\n",
       "      <th>0</th>\n",
       "      <td>0.999483</td>\n",
       "      <td>0.965935</td>\n",
       "      <td>0.621529</td>\n",
       "      <td>0.756372</td>\n",
       "      <td>benchmark</td>\n",
       "    </tr>\n",
       "  </tbody>\n",
       "</table>\n",
       "</div>"
      ],
      "text/plain": [
       "   accuracy  precision    recall        f1                     name\n",
       "0  0.998484   0.459798  1.000000  0.629948    class_weight_balanced\n",
       "0  0.998490   0.460831  1.000000  0.630916      RandomUnderSampling\n",
       "0  0.998584   0.476777  1.000000  0.645699       RandomOverSampling\n",
       "0  0.999237   0.641414  0.927910  0.758511   class_weight_arbitrary\n",
       "0  0.999271   0.659750  0.898198  0.760726            threshold_0.1\n",
       "0  0.999573   0.957972  0.699464  0.808559  EditedNearestNeighbours\n",
       "0  0.999483   0.965935  0.621529  0.756372                benchmark"
      ]
     },
     "execution_count": 68,
     "metadata": {},
     "output_type": "execute_result"
    },
    {
     "data": {
      "application/javascript": [
       "\n",
       "            setTimeout(function() {\n",
       "                var nbb_cell_id = 68;\n",
       "                var nbb_unformatted_code = \"lr = LogisticRegression()\\nros_metrics, y_pred_proba = predict(lr, X_res, y_res, selected_X_test, y_test, \\\"RandomOverSampling\\\")\\nevaluations = append(evaluations, ros_metrics)\\nevaluations\";\n",
       "                var nbb_formatted_code = \"lr = LogisticRegression()\\nros_metrics, y_pred_proba = predict(\\n    lr, X_res, y_res, selected_X_test, y_test, \\\"RandomOverSampling\\\"\\n)\\nevaluations = append(evaluations, ros_metrics)\\nevaluations\";\n",
       "                var nbb_cells = Jupyter.notebook.get_cells();\n",
       "                for (var i = 0; i < nbb_cells.length; ++i) {\n",
       "                    if (nbb_cells[i].input_prompt_number == nbb_cell_id) {\n",
       "                        if (nbb_cells[i].get_text() == nbb_unformatted_code) {\n",
       "                             nbb_cells[i].set_text(nbb_formatted_code);\n",
       "                        }\n",
       "                        break;\n",
       "                    }\n",
       "                }\n",
       "            }, 500);\n",
       "            "
      ],
      "text/plain": [
       "<IPython.core.display.Javascript object>"
      ]
     },
     "metadata": {},
     "output_type": "display_data"
    }
   ],
   "source": [
    "lr = LogisticRegression()\n",
    "ros_metrics, y_pred_proba = predict(\n",
    "    lr, X_res, y_res, selected_X_test, y_test, \"RandomOverSampling\"\n",
    ")\n",
    "evaluations = append(evaluations, ros_metrics)\n",
    "evaluations"
   ]
  },
  {
   "cell_type": "code",
   "execution_count": 69,
   "id": "5f32e6f8",
   "metadata": {},
   "outputs": [
    {
     "data": {
      "image/png": "[encoded data removed]",
      "text/plain": [
       "<Figure size 648x648 with 2 Axes>"
      ]
     },
     "metadata": {},
     "output_type": "display_data"
    },
    {
     "data": {
      "application/javascript": [
       "\n",
       "            setTimeout(function() {\n",
       "                var nbb_cell_id = 69;\n",
       "                var nbb_unformatted_code = \"ConfusionMatrixDisplay.from_predictions(y_test, (y_pred_proba >= 0.5).astype(int), cmap=\\\"Blues\\\")\\nplt.grid(False)\";\n",
       "                var nbb_formatted_code = \"ConfusionMatrixDisplay.from_predictions(\\n    y_test, (y_pred_proba >= 0.5).astype(int), cmap=\\\"Blues\\\"\\n)\\nplt.grid(False)\";\n",
       "                var nbb_cells = Jupyter.notebook.get_cells();\n",
       "                for (var i = 0; i < nbb_cells.length; ++i) {\n",
       "                    if (nbb_cells[i].input_prompt_number == nbb_cell_id) {\n",
       "                        if (nbb_cells[i].get_text() == nbb_unformatted_code) {\n",
       "                             nbb_cells[i].set_text(nbb_formatted_code);\n",
       "                        }\n",
       "                        break;\n",
       "                    }\n",
       "                }\n",
       "            }, 500);\n",
       "            "
      ],
      "text/plain": [
       "<IPython.core.display.Javascript object>"
      ]
     },
     "metadata": {},
     "output_type": "display_data"
    }
   ],
   "source": [
    "ConfusionMatrixDisplay.from_predictions(\n",
    "    y_test, (y_pred_proba >= 0.5).astype(int), cmap=\"Blues\"\n",
    ")\n",
    "plt.grid(False)"
   ]
  },
  {
   "cell_type": "markdown",
   "id": "adf2f032",
   "metadata": {},
   "source": [
    "## SMOTE"
   ]
  },
  {
   "cell_type": "markdown",
   "id": "3e109677",
   "metadata": {},
   "source": [
    "SMOTE creates synthetic data from the minority class, throguh linear interpolation between the neighbours within the class.\n",
    "\n",
    "Note: SMOTE can create data that it may be impossible to occur in the real world.\n",
    "By default, it raises the number of elements from the minority class to the same number of elements from majority's."
   ]
  },
  {
   "cell_type": "code",
   "execution_count": 71,
   "id": "f001e060",
   "metadata": {},
   "outputs": [
    {
     "data": {
      "application/javascript": [
       "\n",
       "            setTimeout(function() {\n",
       "                var nbb_cell_id = 71;\n",
       "                var nbb_unformatted_code = \"smote = SMOTE(random_state=42, sampling_strategy=0.05)\\nX_res, y_res = smote.fit_resample(selected_X_train, y_train)\";\n",
       "                var nbb_formatted_code = \"smote = SMOTE(random_state=42, sampling_strategy=0.05)\\nX_res, y_res = smote.fit_resample(selected_X_train, y_train)\";\n",
       "                var nbb_cells = Jupyter.notebook.get_cells();\n",
       "                for (var i = 0; i < nbb_cells.length; ++i) {\n",
       "                    if (nbb_cells[i].input_prompt_number == nbb_cell_id) {\n",
       "                        if (nbb_cells[i].get_text() == nbb_unformatted_code) {\n",
       "                             nbb_cells[i].set_text(nbb_formatted_code);\n",
       "                        }\n",
       "                        break;\n",
       "                    }\n",
       "                }\n",
       "            }, 500);\n",
       "            "
      ],
      "text/plain": [
       "<IPython.core.display.Javascript object>"
      ]
     },
     "metadata": {},
     "output_type": "display_data"
    }
   ],
   "source": [
    "smote = SMOTE(random_state=42, sampling_strategy=0.05)\n",
    "X_res, y_res = smote.fit_resample(selected_X_train, y_train)"
   ]
  },
  {
   "cell_type": "code",
   "execution_count": 72,
   "id": "1806ef50",
   "metadata": {},
   "outputs": [
    {
     "data": {
      "text/plain": [
       "[Text(0.5, 1.0, 'COUNTPLOT OF VARIABLE TARGET FOR SMOTE')]"
      ]
     },
     "execution_count": 72,
     "metadata": {},
     "output_type": "execute_result"
    },
    {
     "data": {
      "image/png": "[encoded data removed]",
      "text/plain": [
       "<Figure size 648x648 with 1 Axes>"
      ]
     },
     "metadata": {},
     "output_type": "display_data"
    },
    {
     "data": {
      "application/javascript": [
       "\n",
       "            setTimeout(function() {\n",
       "                var nbb_cell_id = 72;\n",
       "                var nbb_unformatted_code = \"sns.countplot(x=\\\"isFraud\\\", data=y_res, palette=\\\"Set1\\\").set(\\n    title=\\\"COUNTPLOT OF VARIABLE TARGET FOR SMOTE\\\"\\n)\";\n",
       "                var nbb_formatted_code = \"sns.countplot(x=\\\"isFraud\\\", data=y_res, palette=\\\"Set1\\\").set(\\n    title=\\\"COUNTPLOT OF VARIABLE TARGET FOR SMOTE\\\"\\n)\";\n",
       "                var nbb_cells = Jupyter.notebook.get_cells();\n",
       "                for (var i = 0; i < nbb_cells.length; ++i) {\n",
       "                    if (nbb_cells[i].input_prompt_number == nbb_cell_id) {\n",
       "                        if (nbb_cells[i].get_text() == nbb_unformatted_code) {\n",
       "                             nbb_cells[i].set_text(nbb_formatted_code);\n",
       "                        }\n",
       "                        break;\n",
       "                    }\n",
       "                }\n",
       "            }, 500);\n",
       "            "
      ],
      "text/plain": [
       "<IPython.core.display.Javascript object>"
      ]
     },
     "metadata": {},
     "output_type": "display_data"
    }
   ],
   "source": [
    "sns.countplot(x=\"isFraud\", data=y_res, palette=\"Set1\").set(\n",
    "    title=\"COUNTPLOT OF VARIABLE TARGET FOR SMOTE\"\n",
    ")"
   ]
  },
  {
   "cell_type": "code",
   "execution_count": 73,
   "id": "983de52a",
   "metadata": {},
   "outputs": [
    {
     "name": "stderr",
     "output_type": "stream",
     "text": [
      "C:\\Users\\User\\anaconda3\\lib\\site-packages\\sklearn\\utils\\validation.py:1111: DataConversionWarning: A column-vector y was passed when a 1d array was expected. Please change the shape of y to (n_samples, ), for example using ravel().\n",
      "  y = column_or_1d(y, warn=True)\n",
      "C:\\Users\\User\\anaconda3\\lib\\site-packages\\sklearn\\linear_model\\_logistic.py:444: ConvergenceWarning: lbfgs failed to converge (status=1):\n",
      "STOP: TOTAL NO. of ITERATIONS REACHED LIMIT.\n",
      "\n",
      "Increase the number of iterations (max_iter) or scale the data as shown in:\n",
      "    https://scikit-learn.org/stable/modules/preprocessing.html\n",
      "Please also refer to the documentation for alternative solver options:\n",
      "    https://scikit-learn.org/stable/modules/linear_model.html#logistic-regression\n",
      "  n_iter_i = _check_optimize_result(\n"
     ]
    },
    {
     "data": {
      "text/html": [
       "<div>\n",
       "<style scoped>\n",
       "    .dataframe tbody tr th:only-of-type {\n",
       "        vertical-align: middle;\n",
       "    }\n",
       "\n",
       "    .dataframe tbody tr th {\n",
       "        vertical-align: top;\n",
       "    }\n",
       "\n",
       "    .dataframe thead th {\n",
       "        text-align: right;\n",
       "    }\n",
       "</style>\n",
       "<table border=\"1\" class=\"dataframe\">\n",
       "  <thead>\n",
       "    <tr style=\"text-align: right;\">\n",
       "      <th></th>\n",
       "      <th>accuracy</th>\n",
       "      <th>precision</th>\n",
       "      <th>recall</th>\n",
       "      <th>f1</th>\n",
       "      <th>name</th>\n",
       "    </tr>\n",
       "  </thead>\n",
       "  <tbody>\n",
       "    <tr>\n",
       "      <th>0</th>\n",
       "      <td>0.998484</td>\n",
       "      <td>0.459798</td>\n",
       "      <td>1.000000</td>\n",
       "      <td>0.629948</td>\n",
       "      <td>class_weight_balanced</td>\n",
       "    </tr>\n",
       "    <tr>\n",
       "      <th>0</th>\n",
       "      <td>0.998490</td>\n",
       "      <td>0.460831</td>\n",
       "      <td>1.000000</td>\n",
       "      <td>0.630916</td>\n",
       "      <td>RandomUnderSampling</td>\n",
       "    </tr>\n",
       "    <tr>\n",
       "      <th>0</th>\n",
       "      <td>0.998584</td>\n",
       "      <td>0.476777</td>\n",
       "      <td>1.000000</td>\n",
       "      <td>0.645699</td>\n",
       "      <td>RandomOverSampling</td>\n",
       "    </tr>\n",
       "    <tr>\n",
       "      <th>0</th>\n",
       "      <td>0.998584</td>\n",
       "      <td>0.476855</td>\n",
       "      <td>0.998539</td>\n",
       "      <td>0.645466</td>\n",
       "      <td>SMOTE</td>\n",
       "    </tr>\n",
       "    <tr>\n",
       "      <th>0</th>\n",
       "      <td>0.999237</td>\n",
       "      <td>0.641414</td>\n",
       "      <td>0.927910</td>\n",
       "      <td>0.758511</td>\n",
       "      <td>class_weight_arbitrary</td>\n",
       "    </tr>\n",
       "    <tr>\n",
       "      <th>0</th>\n",
       "      <td>0.999271</td>\n",
       "      <td>0.659750</td>\n",
       "      <td>0.898198</td>\n",
       "      <td>0.760726</td>\n",
       "      <td>threshold_0.1</td>\n",
       "    </tr>\n",
       "    <tr>\n",
       "      <th>0</th>\n",
       "      <td>0.999573</td>\n",
       "      <td>0.957972</td>\n",
       "      <td>0.699464</td>\n",
       "      <td>0.808559</td>\n",
       "      <td>EditedNearestNeighbours</td>\n",
       "    </tr>\n",
       "    <tr>\n",
       "      <th>0</th>\n",
       "      <td>0.999483</td>\n",
       "      <td>0.965935</td>\n",
       "      <td>0.621529</td>\n",
       "      <td>0.756372</td>\n",
       "      <td>benchmark</td>\n",
       "    </tr>\n",
       "  </tbody>\n",
       "</table>\n",
       "</div>"
      ],
      "text/plain": [
       "   accuracy  precision    recall        f1                     name\n",
       "0  0.998484   0.459798  1.000000  0.629948    class_weight_balanced\n",
       "0  0.998490   0.460831  1.000000  0.630916      RandomUnderSampling\n",
       "0  0.998584   0.476777  1.000000  0.645699       RandomOverSampling\n",
       "0  0.998584   0.476855  0.998539  0.645466                    SMOTE\n",
       "0  0.999237   0.641414  0.927910  0.758511   class_weight_arbitrary\n",
       "0  0.999271   0.659750  0.898198  0.760726            threshold_0.1\n",
       "0  0.999573   0.957972  0.699464  0.808559  EditedNearestNeighbours\n",
       "0  0.999483   0.965935  0.621529  0.756372                benchmark"
      ]
     },
     "execution_count": 73,
     "metadata": {},
     "output_type": "execute_result"
    },
    {
     "data": {
      "application/javascript": [
       "\n",
       "            setTimeout(function() {\n",
       "                var nbb_cell_id = 73;\n",
       "                var nbb_unformatted_code = \"lr = LogisticRegression()\\nsmote_metrics, y_pred_proba = predict(lr, X_res, y_res, selected_X_test, y_test, \\\"SMOTE\\\")\\nevaluations = append(evaluations, smote_metrics)\\nevaluations\";\n",
       "                var nbb_formatted_code = \"lr = LogisticRegression()\\nsmote_metrics, y_pred_proba = predict(\\n    lr, X_res, y_res, selected_X_test, y_test, \\\"SMOTE\\\"\\n)\\nevaluations = append(evaluations, smote_metrics)\\nevaluations\";\n",
       "                var nbb_cells = Jupyter.notebook.get_cells();\n",
       "                for (var i = 0; i < nbb_cells.length; ++i) {\n",
       "                    if (nbb_cells[i].input_prompt_number == nbb_cell_id) {\n",
       "                        if (nbb_cells[i].get_text() == nbb_unformatted_code) {\n",
       "                             nbb_cells[i].set_text(nbb_formatted_code);\n",
       "                        }\n",
       "                        break;\n",
       "                    }\n",
       "                }\n",
       "            }, 500);\n",
       "            "
      ],
      "text/plain": [
       "<IPython.core.display.Javascript object>"
      ]
     },
     "metadata": {},
     "output_type": "display_data"
    }
   ],
   "source": [
    "lr = LogisticRegression()\n",
    "smote_metrics, y_pred_proba = predict(\n",
    "    lr, X_res, y_res, selected_X_test, y_test, \"SMOTE\"\n",
    ")\n",
    "evaluations = append(evaluations, smote_metrics)\n",
    "evaluations"
   ]
  },
  {
   "cell_type": "code",
   "execution_count": 74,
   "id": "515de772",
   "metadata": {},
   "outputs": [
    {
     "data": {
      "image/png": "[encoded data removed]",
      "text/plain": [
       "<Figure size 648x648 with 2 Axes>"
      ]
     },
     "metadata": {},
     "output_type": "display_data"
    },
    {
     "data": {
      "application/javascript": [
       "\n",
       "            setTimeout(function() {\n",
       "                var nbb_cell_id = 74;\n",
       "                var nbb_unformatted_code = \"ConfusionMatrixDisplay.from_predictions(y_test, (y_pred_proba >= 0.5).astype(int), cmap=\\\"Blues\\\")\\nplt.grid(False)\";\n",
       "                var nbb_formatted_code = \"ConfusionMatrixDisplay.from_predictions(\\n    y_test, (y_pred_proba >= 0.5).astype(int), cmap=\\\"Blues\\\"\\n)\\nplt.grid(False)\";\n",
       "                var nbb_cells = Jupyter.notebook.get_cells();\n",
       "                for (var i = 0; i < nbb_cells.length; ++i) {\n",
       "                    if (nbb_cells[i].input_prompt_number == nbb_cell_id) {\n",
       "                        if (nbb_cells[i].get_text() == nbb_unformatted_code) {\n",
       "                             nbb_cells[i].set_text(nbb_formatted_code);\n",
       "                        }\n",
       "                        break;\n",
       "                    }\n",
       "                }\n",
       "            }, 500);\n",
       "            "
      ],
      "text/plain": [
       "<IPython.core.display.Javascript object>"
      ]
     },
     "metadata": {},
     "output_type": "display_data"
    }
   ],
   "source": [
    "ConfusionMatrixDisplay.from_predictions(\n",
    "    y_test, (y_pred_proba >= 0.5).astype(int), cmap=\"Blues\"\n",
    ")\n",
    "plt.grid(False)"
   ]
  },
  {
   "cell_type": "markdown",
   "id": "7b31b13f",
   "metadata": {},
   "source": [
    "## ADASYN"
   ]
  },
  {
   "cell_type": "markdown",
   "id": "9e4bc418",
   "metadata": {},
   "source": [
    "ADASYN creates synthetic elements generated from each sample through the density of dots from the majority class in the neighbourhood.\n",
    "\n",
    "Note: it can create more elements than expected due to some round in the algorithm."
   ]
  },
  {
   "cell_type": "code",
   "execution_count": 75,
   "id": "ed9f2004",
   "metadata": {},
   "outputs": [
    {
     "data": {
      "application/javascript": [
       "\n",
       "            setTimeout(function() {\n",
       "                var nbb_cell_id = 75;\n",
       "                var nbb_unformatted_code = \"adasyn = ADASYN(random_state=42, sampling_strategy=0.05)\\nX_res, y_res = adasyn.fit_resample(selected_X_train, y_train)\";\n",
       "                var nbb_formatted_code = \"adasyn = ADASYN(random_state=42, sampling_strategy=0.05)\\nX_res, y_res = adasyn.fit_resample(selected_X_train, y_train)\";\n",
       "                var nbb_cells = Jupyter.notebook.get_cells();\n",
       "                for (var i = 0; i < nbb_cells.length; ++i) {\n",
       "                    if (nbb_cells[i].input_prompt_number == nbb_cell_id) {\n",
       "                        if (nbb_cells[i].get_text() == nbb_unformatted_code) {\n",
       "                             nbb_cells[i].set_text(nbb_formatted_code);\n",
       "                        }\n",
       "                        break;\n",
       "                    }\n",
       "                }\n",
       "            }, 500);\n",
       "            "
      ],
      "text/plain": [
       "<IPython.core.display.Javascript object>"
      ]
     },
     "metadata": {},
     "output_type": "display_data"
    }
   ],
   "source": [
    "adasyn = ADASYN(random_state=42, sampling_strategy=0.05)\n",
    "X_res, y_res = adasyn.fit_resample(selected_X_train, y_train)"
   ]
  },
  {
   "cell_type": "code",
   "execution_count": 76,
   "id": "d046a88c",
   "metadata": {},
   "outputs": [
    {
     "data": {
      "text/plain": [
       "[Text(0.5, 1.0, 'COUNTPLOT OF VARIABLE TARGET FOR ADASYN')]"
      ]
     },
     "execution_count": 76,
     "metadata": {},
     "output_type": "execute_result"
    },
    {
     "data": {
      "image/png": "[encoded data removed]",
      "text/plain": [
       "<Figure size 648x648 with 1 Axes>"
      ]
     },
     "metadata": {},
     "output_type": "display_data"
    },
    {
     "data": {
      "application/javascript": [
       "\n",
       "            setTimeout(function() {\n",
       "                var nbb_cell_id = 76;\n",
       "                var nbb_unformatted_code = \"sns.countplot(x=\\\"isFraud\\\", data=y_res, palette=\\\"Set1\\\").set(\\n    title=\\\"COUNTPLOT OF VARIABLE TARGET FOR ADASYN\\\"\\n)\";\n",
       "                var nbb_formatted_code = \"sns.countplot(x=\\\"isFraud\\\", data=y_res, palette=\\\"Set1\\\").set(\\n    title=\\\"COUNTPLOT OF VARIABLE TARGET FOR ADASYN\\\"\\n)\";\n",
       "                var nbb_cells = Jupyter.notebook.get_cells();\n",
       "                for (var i = 0; i < nbb_cells.length; ++i) {\n",
       "                    if (nbb_cells[i].input_prompt_number == nbb_cell_id) {\n",
       "                        if (nbb_cells[i].get_text() == nbb_unformatted_code) {\n",
       "                             nbb_cells[i].set_text(nbb_formatted_code);\n",
       "                        }\n",
       "                        break;\n",
       "                    }\n",
       "                }\n",
       "            }, 500);\n",
       "            "
      ],
      "text/plain": [
       "<IPython.core.display.Javascript object>"
      ]
     },
     "metadata": {},
     "output_type": "display_data"
    }
   ],
   "source": [
    "sns.countplot(x=\"isFraud\", data=y_res, palette=\"Set1\").set(\n",
    "    title=\"COUNTPLOT OF VARIABLE TARGET FOR ADASYN\"\n",
    ")"
   ]
  },
  {
   "cell_type": "code",
   "execution_count": 77,
   "id": "abde6814",
   "metadata": {},
   "outputs": [
    {
     "name": "stderr",
     "output_type": "stream",
     "text": [
      "C:\\Users\\User\\anaconda3\\lib\\site-packages\\sklearn\\utils\\validation.py:1111: DataConversionWarning: A column-vector y was passed when a 1d array was expected. Please change the shape of y to (n_samples, ), for example using ravel().\n",
      "  y = column_or_1d(y, warn=True)\n",
      "C:\\Users\\User\\anaconda3\\lib\\site-packages\\sklearn\\linear_model\\_logistic.py:444: ConvergenceWarning: lbfgs failed to converge (status=1):\n",
      "STOP: TOTAL NO. of ITERATIONS REACHED LIMIT.\n",
      "\n",
      "Increase the number of iterations (max_iter) or scale the data as shown in:\n",
      "    https://scikit-learn.org/stable/modules/preprocessing.html\n",
      "Please also refer to the documentation for alternative solver options:\n",
      "    https://scikit-learn.org/stable/modules/linear_model.html#logistic-regression\n",
      "  n_iter_i = _check_optimize_result(\n"
     ]
    },
    {
     "data": {
      "text/html": [
       "<div>\n",
       "<style scoped>\n",
       "    .dataframe tbody tr th:only-of-type {\n",
       "        vertical-align: middle;\n",
       "    }\n",
       "\n",
       "    .dataframe tbody tr th {\n",
       "        vertical-align: top;\n",
       "    }\n",
       "\n",
       "    .dataframe thead th {\n",
       "        text-align: right;\n",
       "    }\n",
       "</style>\n",
       "<table border=\"1\" class=\"dataframe\">\n",
       "  <thead>\n",
       "    <tr style=\"text-align: right;\">\n",
       "      <th></th>\n",
       "      <th>accuracy</th>\n",
       "      <th>precision</th>\n",
       "      <th>recall</th>\n",
       "      <th>f1</th>\n",
       "      <th>name</th>\n",
       "    </tr>\n",
       "  </thead>\n",
       "  <tbody>\n",
       "    <tr>\n",
       "      <th>0</th>\n",
       "      <td>0.998484</td>\n",
       "      <td>0.459798</td>\n",
       "      <td>1.000000</td>\n",
       "      <td>0.629948</td>\n",
       "      <td>class_weight_balanced</td>\n",
       "    </tr>\n",
       "    <tr>\n",
       "      <th>0</th>\n",
       "      <td>0.998490</td>\n",
       "      <td>0.460831</td>\n",
       "      <td>1.000000</td>\n",
       "      <td>0.630916</td>\n",
       "      <td>RandomUnderSampling</td>\n",
       "    </tr>\n",
       "    <tr>\n",
       "      <th>0</th>\n",
       "      <td>0.998584</td>\n",
       "      <td>0.476777</td>\n",
       "      <td>1.000000</td>\n",
       "      <td>0.645699</td>\n",
       "      <td>RandomOverSampling</td>\n",
       "    </tr>\n",
       "    <tr>\n",
       "      <th>0</th>\n",
       "      <td>0.998612</td>\n",
       "      <td>0.481812</td>\n",
       "      <td>1.000000</td>\n",
       "      <td>0.650301</td>\n",
       "      <td>ADASYN</td>\n",
       "    </tr>\n",
       "    <tr>\n",
       "      <th>0</th>\n",
       "      <td>0.998584</td>\n",
       "      <td>0.476855</td>\n",
       "      <td>0.998539</td>\n",
       "      <td>0.645466</td>\n",
       "      <td>SMOTE</td>\n",
       "    </tr>\n",
       "    <tr>\n",
       "      <th>0</th>\n",
       "      <td>0.999237</td>\n",
       "      <td>0.641414</td>\n",
       "      <td>0.927910</td>\n",
       "      <td>0.758511</td>\n",
       "      <td>class_weight_arbitrary</td>\n",
       "    </tr>\n",
       "    <tr>\n",
       "      <th>0</th>\n",
       "      <td>0.999271</td>\n",
       "      <td>0.659750</td>\n",
       "      <td>0.898198</td>\n",
       "      <td>0.760726</td>\n",
       "      <td>threshold_0.1</td>\n",
       "    </tr>\n",
       "    <tr>\n",
       "      <th>0</th>\n",
       "      <td>0.999573</td>\n",
       "      <td>0.957972</td>\n",
       "      <td>0.699464</td>\n",
       "      <td>0.808559</td>\n",
       "      <td>EditedNearestNeighbours</td>\n",
       "    </tr>\n",
       "    <tr>\n",
       "      <th>0</th>\n",
       "      <td>0.999483</td>\n",
       "      <td>0.965935</td>\n",
       "      <td>0.621529</td>\n",
       "      <td>0.756372</td>\n",
       "      <td>benchmark</td>\n",
       "    </tr>\n",
       "  </tbody>\n",
       "</table>\n",
       "</div>"
      ],
      "text/plain": [
       "   accuracy  precision    recall        f1                     name\n",
       "0  0.998484   0.459798  1.000000  0.629948    class_weight_balanced\n",
       "0  0.998490   0.460831  1.000000  0.630916      RandomUnderSampling\n",
       "0  0.998584   0.476777  1.000000  0.645699       RandomOverSampling\n",
       "0  0.998612   0.481812  1.000000  0.650301                   ADASYN\n",
       "0  0.998584   0.476855  0.998539  0.645466                    SMOTE\n",
       "0  0.999237   0.641414  0.927910  0.758511   class_weight_arbitrary\n",
       "0  0.999271   0.659750  0.898198  0.760726            threshold_0.1\n",
       "0  0.999573   0.957972  0.699464  0.808559  EditedNearestNeighbours\n",
       "0  0.999483   0.965935  0.621529  0.756372                benchmark"
      ]
     },
     "execution_count": 77,
     "metadata": {},
     "output_type": "execute_result"
    },
    {
     "data": {
      "application/javascript": [
       "\n",
       "            setTimeout(function() {\n",
       "                var nbb_cell_id = 77;\n",
       "                var nbb_unformatted_code = \"lr = LogisticRegression()\\nadasyn_metrics, y_pred_proba = predict(lr, X_res, y_res, selected_X_test, y_test, \\\"ADASYN\\\")\\nevaluations = append(evaluations, adasyn_metrics)\\nevaluations\";\n",
       "                var nbb_formatted_code = \"lr = LogisticRegression()\\nadasyn_metrics, y_pred_proba = predict(\\n    lr, X_res, y_res, selected_X_test, y_test, \\\"ADASYN\\\"\\n)\\nevaluations = append(evaluations, adasyn_metrics)\\nevaluations\";\n",
       "                var nbb_cells = Jupyter.notebook.get_cells();\n",
       "                for (var i = 0; i < nbb_cells.length; ++i) {\n",
       "                    if (nbb_cells[i].input_prompt_number == nbb_cell_id) {\n",
       "                        if (nbb_cells[i].get_text() == nbb_unformatted_code) {\n",
       "                             nbb_cells[i].set_text(nbb_formatted_code);\n",
       "                        }\n",
       "                        break;\n",
       "                    }\n",
       "                }\n",
       "            }, 500);\n",
       "            "
      ],
      "text/plain": [
       "<IPython.core.display.Javascript object>"
      ]
     },
     "metadata": {},
     "output_type": "display_data"
    }
   ],
   "source": [
    "lr = LogisticRegression()\n",
    "adasyn_metrics, y_pred_proba = predict(\n",
    "    lr, X_res, y_res, selected_X_test, y_test, \"ADASYN\"\n",
    ")\n",
    "evaluations = append(evaluations, adasyn_metrics)\n",
    "evaluations"
   ]
  },
  {
   "cell_type": "code",
   "execution_count": 78,
   "id": "ebdcd9f1",
   "metadata": {},
   "outputs": [
    {
     "data": {
      "image/png": "[encoded data removed]",
      "text/plain": [
       "<Figure size 648x648 with 2 Axes>"
      ]
     },
     "metadata": {},
     "output_type": "display_data"
    },
    {
     "data": {
      "application/javascript": [
       "\n",
       "            setTimeout(function() {\n",
       "                var nbb_cell_id = 78;\n",
       "                var nbb_unformatted_code = \"ConfusionMatrixDisplay.from_predictions(y_test, (y_pred_proba >= 0.5).astype(int), cmap=\\\"Blues\\\")\\nplt.grid(False)\";\n",
       "                var nbb_formatted_code = \"ConfusionMatrixDisplay.from_predictions(\\n    y_test, (y_pred_proba >= 0.5).astype(int), cmap=\\\"Blues\\\"\\n)\\nplt.grid(False)\";\n",
       "                var nbb_cells = Jupyter.notebook.get_cells();\n",
       "                for (var i = 0; i < nbb_cells.length; ++i) {\n",
       "                    if (nbb_cells[i].input_prompt_number == nbb_cell_id) {\n",
       "                        if (nbb_cells[i].get_text() == nbb_unformatted_code) {\n",
       "                             nbb_cells[i].set_text(nbb_formatted_code);\n",
       "                        }\n",
       "                        break;\n",
       "                    }\n",
       "                }\n",
       "            }, 500);\n",
       "            "
      ],
      "text/plain": [
       "<IPython.core.display.Javascript object>"
      ]
     },
     "metadata": {},
     "output_type": "display_data"
    }
   ],
   "source": [
    "ConfusionMatrixDisplay.from_predictions(\n",
    "    y_test, (y_pred_proba >= 0.5).astype(int), cmap=\"Blues\"\n",
    ")\n",
    "plt.grid(False)"
   ]
  },
  {
   "cell_type": "code",
   "execution_count": null,
   "id": "84bf76c1",
   "metadata": {},
   "outputs": [],
   "source": []
  }
 ],
 "metadata": {
  "kernelspec": {
   "display_name": "Python 3 (ipykernel)",
   "language": "python",
   "name": "python3"
  },
  "language_info": {
   "codemirror_mode": {
    "name": "ipython",
    "version": 3
   },
   "file_extension": ".py",
   "mimetype": "text/x-python",
   "name": "python",
   "nbconvert_exporter": "python",
   "pygments_lexer": "ipython3",
   "version": "3.9.7"
  }
 },
 "nbformat": 4,
 "nbformat_minor": 5
}
